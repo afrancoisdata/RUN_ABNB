{
 "cells": [
  {
   "attachments": {
    "price.jpg": {
     "image/jpeg": "[encoded data removed]"
    }
   },
   "cell_type": "markdown",
   "id": "4bf21dbd",
   "metadata": {},
   "source": [
    "![price.jpg](attachment:price.jpg)"
   ]
  },
  {
   "cell_type": "markdown",
   "id": "fd01a6aa",
   "metadata": {},
   "source": [
    "### Table of Contents\n",
    "* Technical stack\n",
    "\n",
    "\n",
    "\n",
    "* 1. Dta preprocesssing\n",
    "    * 1.1 Selecting features\n",
    "    * 1.2 Encoding Categorical Data\n",
    "    * 1.3 Transforming skewed numerical Data\n",
    "    * 1.4 Scaling\n",
    "    * 1.5 Visualizing correlations\n",
    "    \n",
    "    \n",
    "\n",
    "* 2. Trying different models with pycarets\n",
    "    * 2.1 Data preparation for pycaret\n",
    "    * 2.2 Pycaret results\n",
    "    \n",
    "\n",
    "* 3. Baseline model\n",
    "\n",
    "\n",
    "\n",
    "* 4. Hyperparameter optimization\n",
    "\n",
    "\n",
    "\n",
    "* 5. Bagging"
   ]
  },
  {
   "cell_type": "markdown",
   "id": "a2ea8641",
   "metadata": {},
   "source": [
    "###  Technical Stack"
   ]
  },
  {
   "cell_type": "markdown",
   "id": "003d5758",
   "metadata": {},
   "source": [
    "we're going to use **sklearn** for data preprocessing.\n",
    "\n",
    "Then **pycaret** to try different models.\n",
    "\n",
    "Finally we'll use **sklearn and optuna** to tune hyperparameters of a few selected models in bagging."
   ]
  },
  {
   "cell_type": "markdown",
   "id": "c5522a2f",
   "metadata": {},
   "source": [
    "#  1. Data preprocessing"
   ]
  },
  {
   "cell_type": "markdown",
   "id": "2c9cfc86",
   "metadata": {},
   "source": [
    "##### Loading Data\n",
    "\n",
    "We'll use the main dataframe built during the early analysis phase. "
   ]
  },
  {
   "cell_type": "code",
   "execution_count": 1,
   "id": "b43d24a9",
   "metadata": {},
   "outputs": [],
   "source": [
    "import pandas as pd"
   ]
  },
  {
   "cell_type": "code",
   "execution_count": 2,
   "id": "f8369932",
   "metadata": {},
   "outputs": [
    {
     "name": "stdout",
     "output_type": "stream",
     "text": [
      "<class 'pandas.core.frame.DataFrame'>\n",
      "RangeIndex: 2941 entries, 0 to 2940\n",
      "Data columns (total 35 columns):\n",
      " #   Column                             Non-Null Count  Dtype  \n",
      "---  ------                             --------------  -----  \n",
      " 0   listing_id                         2941 non-null   int64  \n",
      " 1   reviewsCount                       2941 non-null   int64  \n",
      " 2   is_SuperHost                       2941 non-null   bool   \n",
      " 3   lat                                2941 non-null   float64\n",
      " 4   lng                                2941 non-null   float64\n",
      " 5   CODE_IRIS                          2941 non-null   int64  \n",
      " 6   NOM_COM                            2941 non-null   object \n",
      " 7   NOM_IRIS                           2941 non-null   object \n",
      " 8   housing_Type                       2941 non-null   object \n",
      " 9   personCapacity                     2941 non-null   int64  \n",
      " 10  num_chambres                       2941 non-null   int64  \n",
      " 11  num_lits                           2941 non-null   int64  \n",
      " 12  num_sdb                            2941 non-null   float64\n",
      " 13  num_amenities                      2941 non-null   float64\n",
      " 14  amenities                          2941 non-null   object \n",
      " 15  pictureCount                       2941 non-null   float64\n",
      " 16  accuracyRating                     2561 non-null   float64\n",
      " 17  checkinRating                      2561 non-null   float64\n",
      " 18  cleanlinessRating                  2561 non-null   float64\n",
      " 19  communicationRating                2561 non-null   float64\n",
      " 20  guestSatisfactionOverall           2570 non-null   float64\n",
      " 21  valueRating                        2561 non-null   float64\n",
      " 22  locationRating                     2561 non-null   float64\n",
      " 23  nightly_price                      2941 non-null   float64\n",
      " 24  cleaning_fees                      2941 non-null   float64\n",
      " 25  service_fees                       2941 non-null   float64\n",
      " 26  stay_tax                           2941 non-null   float64\n",
      " 27  computation                        2941 non-null   object \n",
      " 28  total_price                        2941 non-null   float64\n",
      " 29  num_guests                         2941 non-null   float64\n",
      " 30  num_nights                         2941 non-null   float64\n",
      " 31  complete_price_per_night_per_pers  2941 non-null   float64\n",
      " 32  complete_price_per_night           2941 non-null   float64\n",
      " 33  availability_ratio                 2941 non-null   float64\n",
      " 34  bookable_days                      2941 non-null   float64\n",
      "dtypes: bool(1), float64(23), int64(6), object(5)\n",
      "memory usage: 784.2+ KB\n"
     ]
    }
   ],
   "source": [
    "main_df=pd.read_csv('./main_df.csv')\n",
    "main_df.info()"
   ]
  },
  {
   "cell_type": "markdown",
   "id": "973c7fc1",
   "metadata": {},
   "source": [
    "## 1.1 Selecting useful features"
   ]
  },
  {
   "cell_type": "markdown",
   "id": "3cb23773",
   "metadata": {},
   "source": [
    "In order to avoid the curse of dimensionality, we'll remove features that either are not relevant or are too shallow."
   ]
  },
  {
   "cell_type": "code",
   "execution_count": 3,
   "id": "002d1f28",
   "metadata": {},
   "outputs": [],
   "source": [
    "working_df=main_df.copy()\n",
    "working_df['num_amenities']=working_df['num_amenities'].astype(int)\n",
    "working_df.rename(columns = {'complete_price_per_night_per_pers':'price_per_pers','complete_price_per_night':'price',}, inplace = True)\n",
    "working_df.drop(['listing_id','bookable_days','CODE_IRIS','NOM_IRIS','NOM_COM','guestSatisfactionOverall','amenities','accuracyRating','checkinRating','cleanlinessRating','communicationRating','locationRating','nightly_price','cleaning_fees','service_fees','stay_tax','computation','computation','total_price','num_guests','num_nights'],axis=1,inplace=True)"
   ]
  },
  {
   "cell_type": "markdown",
   "id": "50e0c371",
   "metadata": {},
   "source": [
    "##### As we are going to use the value rating, we need to keep only listings that have at least 5 reviews."
   ]
  },
  {
   "cell_type": "code",
   "execution_count": 4,
   "id": "9ec8feca",
   "metadata": {},
   "outputs": [
    {
     "name": "stdout",
     "output_type": "stream",
     "text": [
      "<class 'pandas.core.frame.DataFrame'>\n",
      "Int64Index: 1789 entries, 0 to 2800\n",
      "Data columns (total 15 columns):\n",
      " #   Column              Non-Null Count  Dtype  \n",
      "---  ------              --------------  -----  \n",
      " 0   reviewsCount        1789 non-null   int64  \n",
      " 1   is_SuperHost        1789 non-null   bool   \n",
      " 2   lat                 1789 non-null   float64\n",
      " 3   lng                 1789 non-null   float64\n",
      " 4   housing_Type        1789 non-null   object \n",
      " 5   personCapacity      1789 non-null   int64  \n",
      " 6   num_chambres        1789 non-null   int64  \n",
      " 7   num_lits            1789 non-null   int64  \n",
      " 8   num_sdb             1789 non-null   float64\n",
      " 9   num_amenities       1789 non-null   int32  \n",
      " 10  pictureCount        1789 non-null   float64\n",
      " 11  valueRating         1789 non-null   float64\n",
      " 12  price_per_pers      1789 non-null   float64\n",
      " 13  price               1789 non-null   float64\n",
      " 14  availability_ratio  1789 non-null   float64\n",
      "dtypes: bool(1), float64(8), int32(1), int64(4), object(1)\n",
      "memory usage: 204.4+ KB\n"
     ]
    }
   ],
   "source": [
    "working_df=working_df[working_df['reviewsCount']>5]\n",
    "working_df.info()"
   ]
  },
  {
   "cell_type": "code",
   "execution_count": 5,
   "id": "1241a74b",
   "metadata": {},
   "outputs": [
    {
     "data": {
      "text/plain": [
       "reviewsCount          1789\n",
       "is_SuperHost          1789\n",
       "lat                   1789\n",
       "lng                   1789\n",
       "housing_Type          1789\n",
       "personCapacity        1789\n",
       "num_chambres          1789\n",
       "num_lits              1789\n",
       "num_sdb               1789\n",
       "num_amenities         1789\n",
       "pictureCount          1789\n",
       "valueRating           1789\n",
       "price_per_pers        1789\n",
       "price                 1789\n",
       "availability_ratio    1789\n",
       "dtype: int64"
      ]
     },
     "execution_count": 5,
     "metadata": {},
     "output_type": "execute_result"
    }
   ],
   "source": [
    "working_df.isna().count()"
   ]
  },
  {
   "cell_type": "markdown",
   "id": "1624966d",
   "metadata": {},
   "source": [
    "##### We don't have a null value."
   ]
  },
  {
   "cell_type": "markdown",
   "id": "a665d4b9",
   "metadata": {},
   "source": [
    "## 1.2 Encoding Categorical Data "
   ]
  },
  {
   "cell_type": "markdown",
   "id": "f95616dd",
   "metadata": {},
   "source": [
    "##### Encoding non_numerial or boolean features"
   ]
  },
  {
   "cell_type": "code",
   "execution_count": 6,
   "id": "e3a4c47d",
   "metadata": {},
   "outputs": [],
   "source": [
    "working_df=pd.get_dummies(working_df)"
   ]
  },
  {
   "cell_type": "code",
   "execution_count": 7,
   "id": "fc18a257",
   "metadata": {
    "collapsed": true
   },
   "outputs": [
    {
     "name": "stdout",
     "output_type": "stream",
     "text": [
      "Requirement already satisfied: scikit-learn==0.23.2 in c:\\users\\amaur\\appdata\\roaming\\python\\python39\\site-packages (0.23.2)\n",
      "Requirement already satisfied: threadpoolctl>=2.0.0 in c:\\users\\amaur\\anaconda3\\envs\\geop\\lib\\site-packages (from scikit-learn==0.23.2) (3.1.0)\n",
      "Requirement already satisfied: numpy>=1.13.3 in c:\\users\\amaur\\anaconda3\\envs\\geop\\lib\\site-packages (from scikit-learn==0.23.2) (1.22.2)\n",
      "Requirement already satisfied: scipy>=0.19.1 in c:\\users\\amaur\\appdata\\roaming\\python\\python39\\site-packages (from scikit-learn==0.23.2) (1.5.4)\n",
      "Requirement already satisfied: joblib>=0.11 in c:\\users\\amaur\\appdata\\roaming\\python\\python39\\site-packages (from scikit-learn==0.23.2) (1.0.1)\n",
      "Note: you may need to restart the kernel to use updated packages.\n"
     ]
    },
    {
     "name": "stderr",
     "output_type": "stream",
     "text": [
      "ERROR: Could not install packages due to an OSError: [Errno 2] No such file or directory: 'c:\\\\users\\\\amaur\\\\anaconda3\\\\envs\\\\geop\\\\lib\\\\site-packages\\\\numpy-1.22.2.dist-info\\\\METADATA'\n",
      "\n"
     ]
    }
   ],
   "source": [
    "pip install scikit-learn==0.23.2"
   ]
  },
  {
   "cell_type": "code",
   "execution_count": 8,
   "id": "140533c2",
   "metadata": {},
   "outputs": [],
   "source": [
    "from sklearn.preprocessing import LabelEncoder\n",
    "from sklearn.preprocessing import StandardScaler\n",
    "from sklearn.model_selection import train_test_split"
   ]
  },
  {
   "cell_type": "markdown",
   "id": "81c20828",
   "metadata": {},
   "source": [
    "##### Encoding boolean features"
   ]
  },
  {
   "cell_type": "code",
   "execution_count": 9,
   "id": "04695583",
   "metadata": {},
   "outputs": [],
   "source": [
    "le = LabelEncoder()\n",
    "working_df['is_SuperHost']=le.fit_transform(working_df['is_SuperHost'])\n",
    "working_df=working_df.reset_index()"
   ]
  },
  {
   "cell_type": "markdown",
   "id": "e00f387d",
   "metadata": {},
   "source": [
    "## 1.3 Transforming skewed numerical Data"
   ]
  },
  {
   "cell_type": "code",
   "execution_count": 10,
   "id": "92152d6d",
   "metadata": {
    "collapsed": true
   },
   "outputs": [
    {
     "name": "stdout",
     "output_type": "stream",
     "text": [
      "Requirement already satisfied: Scipy in c:\\users\\amaur\\appdata\\roaming\\python\\python39\\site-packages (1.5.4)\n",
      "Requirement already satisfied: numpy>=1.14.5 in c:\\users\\amaur\\anaconda3\\envs\\geop\\lib\\site-packages (from Scipy) (1.22.2)\n",
      "Note: you may need to restart the kernel to use updated packages.\n"
     ]
    },
    {
     "name": "stderr",
     "output_type": "stream",
     "text": [
      "ERROR: Could not install packages due to an OSError: [Errno 2] No such file or directory: 'c:\\\\users\\\\amaur\\\\anaconda3\\\\envs\\\\geop\\\\lib\\\\site-packages\\\\numpy-1.22.2.dist-info\\\\METADATA'\n",
      "\n"
     ]
    }
   ],
   "source": [
    "pip install Scipy"
   ]
  },
  {
   "cell_type": "code",
   "execution_count": 11,
   "id": "920e68d7",
   "metadata": {},
   "outputs": [],
   "source": [
    "import numpy as np\n",
    "import scipy\n",
    "from scipy.stats import skew"
   ]
  },
  {
   "cell_type": "markdown",
   "id": "ea368ab4",
   "metadata": {},
   "source": [
    "##### Checking for skewness ( |Skew| > 0.5 )"
   ]
  },
  {
   "cell_type": "code",
   "execution_count": 12,
   "id": "02fa6f72",
   "metadata": {},
   "outputs": [
    {
     "data": {
      "text/plain": [
       "3.3409935344843564"
      ]
     },
     "execution_count": 12,
     "metadata": {},
     "output_type": "execute_result"
    }
   ],
   "source": [
    "skew(working_df['reviewsCount'])"
   ]
  },
  {
   "cell_type": "code",
   "execution_count": 13,
   "id": "f7e5718a",
   "metadata": {},
   "outputs": [
    {
     "data": {
      "text/plain": [
       "0.5097128062212858"
      ]
     },
     "execution_count": 13,
     "metadata": {},
     "output_type": "execute_result"
    }
   ],
   "source": [
    "skew(working_df['num_amenities'])"
   ]
  },
  {
   "cell_type": "code",
   "execution_count": 14,
   "id": "a20e17e1",
   "metadata": {},
   "outputs": [],
   "source": [
    "working_df['reviewsCount']=np.log1p(working_df['reviewsCount'])\n",
    "working_df['num_amenities']=np.log1p(working_df['num_amenities'])"
   ]
  },
  {
   "cell_type": "markdown",
   "id": "bf11febb",
   "metadata": {},
   "source": [
    "### Splitting the Data"
   ]
  },
  {
   "cell_type": "markdown",
   "id": "ee6802e7",
   "metadata": {},
   "source": [
    "##### We want to predict price, this is our dependant variable."
   ]
  },
  {
   "cell_type": "code",
   "execution_count": 15,
   "id": "7b18950e",
   "metadata": {},
   "outputs": [],
   "source": [
    "X_df=working_df.drop('price',axis=1)\n",
    "Y_df=working_df['price']"
   ]
  },
  {
   "cell_type": "markdown",
   "id": "a86c6aec",
   "metadata": {},
   "source": [
    "##### We also want to randomly split our dataset in a train set (to fit our model) and a test set (to evaluate our model)"
   ]
  },
  {
   "cell_type": "code",
   "execution_count": 16,
   "id": "74798eea",
   "metadata": {},
   "outputs": [
    {
     "name": "stdout",
     "output_type": "stream",
     "text": [
      "[295.           2.83321334   0.         -21.36        55.52\n",
      "   2.           1.           1.           1.           3.8918203\n",
      "  17.           4.8         58.92857143   1.           0.\n",
      "   0.           0.           0.           0.           0.\n",
      "   0.           0.           1.           0.           0.\n",
      "   0.           0.           0.           0.           0.\n",
      "   0.           0.           0.           0.           0.\n",
      "   0.           0.        ] [ 1.89400000e+03  3.21887582e+00  1.00000000e+00 -2.11600000e+01\n",
      "  5.58300000e+01  6.00000000e+00  3.00000000e+00  3.00000000e+00\n",
      "  1.00000000e+00  3.46573590e+00  6.00000000e+00  4.71000000e+00\n",
      "  2.48333333e+01  1.00000000e+00  0.00000000e+00  0.00000000e+00\n",
      "  0.00000000e+00  0.00000000e+00  0.00000000e+00  0.00000000e+00\n",
      "  0.00000000e+00  0.00000000e+00  1.00000000e+00  0.00000000e+00\n",
      "  0.00000000e+00  0.00000000e+00  0.00000000e+00  0.00000000e+00\n",
      "  0.00000000e+00  0.00000000e+00  0.00000000e+00  0.00000000e+00\n",
      "  0.00000000e+00  0.00000000e+00  0.00000000e+00  0.00000000e+00\n",
      "  0.00000000e+00] 117.85714285714286 149.0\n"
     ]
    }
   ],
   "source": [
    "X_cols=X_df.columns\n",
    "X = X_df.values\n",
    "y = Y_df.values\n",
    "\n",
    "X_train, X_test, y_train, y_test = train_test_split(X, y, test_size=0.2, random_state=0)\n",
    "print(X_train[0], X_test[0], y_train[0], y_test[0])"
   ]
  },
  {
   "cell_type": "markdown",
   "id": "0ab71fea",
   "metadata": {},
   "source": [
    "## 1.4 Scaling based on training Data"
   ]
  },
  {
   "cell_type": "markdown",
   "id": "1b3a56ae",
   "metadata": {},
   "source": [
    "##### To improve training efficiency we can scale our data"
   ]
  },
  {
   "cell_type": "code",
   "execution_count": 17,
   "id": "0a77b520",
   "metadata": {},
   "outputs": [],
   "source": [
    "scaler=StandardScaler()"
   ]
  },
  {
   "cell_type": "markdown",
   "id": "fb587744",
   "metadata": {},
   "source": [
    "##### We first select the numeric features"
   ]
  },
  {
   "cell_type": "code",
   "execution_count": 18,
   "id": "621717ec",
   "metadata": {},
   "outputs": [
    {
     "name": "stdout",
     "output_type": "stream",
     "text": [
      "      reviewsCount    lat    lng  personCapacity  num_chambres  num_lits  \\\n",
      "0         2.833213 -21.36  55.52             2.0           1.0       1.0   \n",
      "1         1.945910 -21.33  55.48             7.0           3.0       4.0   \n",
      "2         4.418841 -21.10  55.25             4.0           1.0       2.0   \n",
      "3         2.995732 -20.98  55.32             6.0           3.0       3.0   \n",
      "4         4.595120 -21.21  55.29             2.0           1.0       1.0   \n",
      "...            ...    ...    ...             ...           ...       ...   \n",
      "1426      3.688879 -21.13  55.63             4.0           3.0       3.0   \n",
      "1427      3.091042 -21.33  55.53             4.0           2.0       3.0   \n",
      "1428      3.178054 -21.38  55.60             2.0           1.0       1.0   \n",
      "1429      4.276666 -21.13  55.47             2.0           1.0       1.0   \n",
      "1430      2.302585 -20.90  55.46             2.0           1.0       1.0   \n",
      "\n",
      "      num_sdb  num_amenities  pictureCount  valueRating  availability_ratio  \n",
      "0         1.0       3.891820          17.0         4.80            1.000000  \n",
      "1         2.0       3.931826          22.0         4.50            0.986486  \n",
      "2         1.0       2.995732           9.0         4.81            0.991304  \n",
      "3         2.0       3.637586           8.0         4.85            0.938272  \n",
      "4         1.0       3.610918          14.0         4.91            1.000000  \n",
      "...       ...            ...           ...          ...                 ...  \n",
      "1426      1.0       3.258097          13.0         4.92            0.869565  \n",
      "1427      1.0       2.944439          14.0         4.95            1.000000  \n",
      "1428      1.0       3.688879          18.0         4.58            1.000000  \n",
      "1429      1.0       3.465736          18.0         4.48            1.000000  \n",
      "1430      1.0       3.663562          70.0         4.75            1.000000  \n",
      "\n",
      "[1431 rows x 11 columns]\n"
     ]
    }
   ],
   "source": [
    "train_df=pd.DataFrame(X_train,columns=X_cols)\n",
    "test_df=pd.DataFrame(X_test,columns=X_cols)\n",
    "numeric_columns=['reviewsCount','lat', 'lng', 'personCapacity',\n",
    "       'num_chambres', 'num_lits', 'num_sdb', 'num_amenities', 'pictureCount',\n",
    "       'valueRating','availability_ratio']\n",
    "train_df_numeric=train_df[numeric_columns].copy()\n",
    "train_df_non_numeric=train_df.drop(numeric_columns,axis=1).copy()\n",
    "test_df_numeric=test_df[numeric_columns].copy()\n",
    "test_df_non_numeric=test_df.drop(numeric_columns,axis=1).copy()\n",
    "print(train_df_numeric)"
   ]
  },
  {
   "cell_type": "markdown",
   "id": "955c9706",
   "metadata": {},
   "source": [
    "##### We then fit the scaler on the training set only (in order not to leak any data from the test set) and then scale the train and test sets"
   ]
  },
  {
   "cell_type": "code",
   "execution_count": 19,
   "id": "9d77cfd4",
   "metadata": {},
   "outputs": [],
   "source": [
    "scaler.fit(train_df_numeric)\n",
    "train_df_numeric=pd.DataFrame(scaler.transform(train_df_numeric),columns=numeric_columns)\n",
    "test_df_numeric=pd.DataFrame(scaler.transform(test_df_numeric),columns=numeric_columns)"
   ]
  },
  {
   "cell_type": "markdown",
   "id": "b6c90318",
   "metadata": {},
   "source": [
    "##### We then merge back with non numeric features"
   ]
  },
  {
   "cell_type": "code",
   "execution_count": 20,
   "id": "776322d2",
   "metadata": {},
   "outputs": [],
   "source": [
    "X_train_scaled=pd.concat([train_df_numeric,train_df_non_numeric],axis=1).values\n",
    "X_test_scaled=pd.concat([test_df_numeric,test_df_non_numeric],axis=1).values"
   ]
  },
  {
   "cell_type": "markdown",
   "id": "b74e37ef",
   "metadata": {},
   "source": [
    "## 1.5 Visualizing correlations"
   ]
  },
  {
   "cell_type": "code",
   "execution_count": 21,
   "id": "194a294d",
   "metadata": {},
   "outputs": [],
   "source": [
    "import seaborn as sns"
   ]
  },
  {
   "cell_type": "code",
   "execution_count": 22,
   "id": "3dbd5a39",
   "metadata": {},
   "outputs": [],
   "source": [
    "scaled_numerics=pd.concat([train_df_numeric,test_df_numeric],axis=0)\n",
    "Y_cols=['price']\n",
    "y_train_df=pd.DataFrame(y_train,columns=Y_cols)\n",
    "y_test_df=pd.DataFrame(y_test,columns=Y_cols)\n",
    "price_df= pd.concat([y_train_df,y_test_df],axis=0)\n",
    "correlations_df=pd.concat([scaled_numerics,price_df],axis=1)"
   ]
  },
  {
   "cell_type": "code",
   "execution_count": 23,
   "id": "290f2374",
   "metadata": {
    "scrolled": false
   },
   "outputs": [
    {
     "data": {
      "text/plain": [
       "<AxesSubplot:>"
      ]
     },
     "execution_count": 23,
     "metadata": {},
     "output_type": "execute_result"
    },
    {
     "data": {
      "image/png": "[encoded data removed]",
      "text/plain": [
       "<Figure size 432x288 with 2 Axes>"
      ]
     },
     "metadata": {
      "needs_background": "light"
     },
     "output_type": "display_data"
    }
   ],
   "source": [
    "sns.heatmap(correlations_df.corr())"
   ]
  },
  {
   "cell_type": "markdown",
   "id": "fa8f48f8",
   "metadata": {},
   "source": [
    "Except maybe for num_amenities and pictureCOunt, there seems to be no need to remove features that are too much correlated. "
   ]
  },
  {
   "cell_type": "markdown",
   "id": "ccd26dc8",
   "metadata": {},
   "source": [
    "# 2. Trying different models"
   ]
  },
  {
   "cell_type": "markdown",
   "id": "14e9e626",
   "metadata": {},
   "source": [
    "##  2.1 Merging X and Y for pycaret"
   ]
  },
  {
   "cell_type": "code",
   "execution_count": 24,
   "id": "a5211404",
   "metadata": {
    "collapsed": true
   },
   "outputs": [
    {
     "name": "stdout",
     "output_type": "stream",
     "text": [
      "Requirement already satisfied: pycaret in c:\\users\\amaur\\anaconda3\\envs\\geop\\lib\\site-packages (2.3.6)\n",
      "Requirement already satisfied: joblib in c:\\users\\amaur\\appdata\\roaming\\python\\python39\\site-packages (from pycaret) (1.0.1)\n",
      "Requirement already satisfied: plotly>=4.4.1 in c:\\users\\amaur\\anaconda3\\envs\\geop\\lib\\site-packages (from pycaret) (5.6.0)\n",
      "Requirement already satisfied: yellowbrick>=1.0.1 in c:\\users\\amaur\\anaconda3\\envs\\geop\\lib\\site-packages (from pycaret) (1.3.post1)\n",
      "Requirement already satisfied: imbalanced-learn==0.7.0 in c:\\users\\amaur\\anaconda3\\envs\\geop\\lib\\site-packages (from pycaret) (0.7.0)\n",
      "Requirement already satisfied: scipy<=1.5.4 in c:\\users\\amaur\\appdata\\roaming\\python\\python39\\site-packages (from pycaret) (1.5.4)\n",
      "Requirement already satisfied: Boruta in c:\\users\\amaur\\anaconda3\\envs\\geop\\lib\\site-packages (from pycaret) (0.3)\n",
      "Requirement already satisfied: pandas in c:\\users\\amaur\\anaconda3\\envs\\geop\\lib\\site-packages (from pycaret) (1.4.0)\n",
      "Requirement already satisfied: pyyaml<6.0.0 in c:\\users\\amaur\\anaconda3\\envs\\geop\\lib\\site-packages (from pycaret) (5.4.1)\n",
      "Requirement already satisfied: spacy<2.4.0 in c:\\users\\amaur\\anaconda3\\envs\\geop\\lib\\site-packages (from pycaret) (2.3.7)\n",
      "Requirement already satisfied: mlxtend>=0.17.0 in c:\\users\\amaur\\anaconda3\\envs\\geop\\lib\\site-packages (from pycaret) (0.19.0)\n",
      "Requirement already satisfied: matplotlib in c:\\users\\amaur\\anaconda3\\envs\\geop\\lib\\site-packages (from pycaret) (3.5.1)\n",
      "Requirement already satisfied: seaborn in c:\\users\\amaur\\anaconda3\\envs\\geop\\lib\\site-packages (from pycaret) (0.11.2)\n",
      "Requirement already satisfied: pyod in c:\\users\\amaur\\anaconda3\\envs\\geop\\lib\\site-packages (from pycaret) (0.9.7)\n",
      "Requirement already satisfied: lightgbm>=2.3.1 in c:\\users\\amaur\\anaconda3\\envs\\geop\\lib\\site-packages (from pycaret) (3.3.2)\n",
      "Requirement already satisfied: mlflow in c:\\users\\amaur\\anaconda3\\envs\\geop\\lib\\site-packages (from pycaret) (1.23.1)\n",
      "Requirement already satisfied: textblob in c:\\users\\amaur\\anaconda3\\envs\\geop\\lib\\site-packages (from pycaret) (0.17.1)\n",
      "Requirement already satisfied: wordcloud in c:\\users\\amaur\\anaconda3\\envs\\geop\\lib\\site-packages (from pycaret) (1.8.1)\n",
      "Requirement already satisfied: gensim<4.0.0 in c:\\users\\amaur\\anaconda3\\envs\\geop\\lib\\site-packages (from pycaret) (3.8.3)\n",
      "Requirement already satisfied: pandas-profiling>=2.8.0 in c:\\users\\amaur\\anaconda3\\envs\\geop\\lib\\site-packages (from pycaret) (3.1.0)\n",
      "Requirement already satisfied: nltk in c:\\users\\amaur\\anaconda3\\envs\\geop\\lib\\site-packages (from pycaret) (3.7)\n",
      "Requirement already satisfied: cufflinks>=0.17.0 in c:\\users\\amaur\\anaconda3\\envs\\geop\\lib\\site-packages (from pycaret) (0.17.3)\n",
      "Requirement already satisfied: ipywidgets in c:\\users\\amaur\\anaconda3\\envs\\geop\\lib\\site-packages (from pycaret) (7.6.5)\n",
      "Requirement already satisfied: scikit-plot in c:\\users\\amaur\\anaconda3\\envs\\geop\\lib\\site-packages (from pycaret) (0.3.7)\n",
      "Requirement already satisfied: IPython in c:\\users\\amaur\\anaconda3\\envs\\geop\\lib\\site-packages (from pycaret) (8.0.1)\n",
      "Requirement already satisfied: scikit-learn==0.23.2 in c:\\users\\amaur\\appdata\\roaming\\python\\python39\\site-packages (from pycaret) (0.23.2)\n",
      "Requirement already satisfied: pyLDAvis in c:\\users\\amaur\\anaconda3\\envs\\geop\\lib\\site-packages (from pycaret) (3.2.2)\n",
      "Requirement already satisfied: umap-learn in c:\\users\\amaur\\anaconda3\\envs\\geop\\lib\\site-packages (from pycaret) (0.5.2)\n",
      "Requirement already satisfied: kmodes>=0.10.1 in c:\\users\\amaur\\anaconda3\\envs\\geop\\lib\\site-packages (from pycaret) (0.11.1)\n",
      "Requirement already satisfied: numpy>=1.13.3 in c:\\users\\amaur\\appdata\\roaming\\python\\python39\\site-packages (from imbalanced-learn==0.7.0->pycaret) (1.19.5)\n",
      "Requirement already satisfied: threadpoolctl>=2.0.0 in c:\\users\\amaur\\anaconda3\\envs\\geop\\lib\\site-packages (from scikit-learn==0.23.2->pycaret) (3.1.0)\n",
      "Requirement already satisfied: setuptools>=34.4.1 in c:\\users\\amaur\\anaconda3\\envs\\geop\\lib\\site-packages (from cufflinks>=0.17.0->pycaret) (60.8.1)\n",
      "Requirement already satisfied: six>=1.9.0 in c:\\users\\amaur\\anaconda3\\envs\\geop\\lib\\site-packages (from cufflinks>=0.17.0->pycaret) (1.16.0)\n",
      "Requirement already satisfied: colorlover>=0.2.1 in c:\\users\\amaur\\anaconda3\\envs\\geop\\lib\\site-packages (from cufflinks>=0.17.0->pycaret) (0.3.0)\n",
      "Requirement already satisfied: smart-open>=1.8.1 in c:\\users\\amaur\\anaconda3\\envs\\geop\\lib\\site-packages (from gensim<4.0.0->pycaret) (5.2.1)\n",
      "Requirement already satisfied: matplotlib-inline in c:\\users\\amaur\\anaconda3\\envs\\geop\\lib\\site-packages (from IPython->pycaret) (0.1.3)\n",
      "Requirement already satisfied: black in c:\\users\\amaur\\anaconda3\\envs\\geop\\lib\\site-packages (from IPython->pycaret) (19.10b0)\n",
      "Requirement already satisfied: jedi>=0.16 in c:\\users\\amaur\\anaconda3\\envs\\geop\\lib\\site-packages (from IPython->pycaret) (0.18.1)\n",
      "Requirement already satisfied: prompt-toolkit!=3.0.0,!=3.0.1,<3.1.0,>=2.0.0 in c:\\users\\amaur\\anaconda3\\envs\\geop\\lib\\site-packages (from IPython->pycaret) (3.0.26)\n",
      "Requirement already satisfied: backcall in c:\\users\\amaur\\anaconda3\\envs\\geop\\lib\\site-packages (from IPython->pycaret) (0.2.0)\n",
      "Requirement already satisfied: pygments in c:\\users\\amaur\\anaconda3\\envs\\geop\\lib\\site-packages (from IPython->pycaret) (2.11.2)\n",
      "Requirement already satisfied: colorama in c:\\users\\amaur\\anaconda3\\envs\\geop\\lib\\site-packages (from IPython->pycaret) (0.4.4)\n",
      "Requirement already satisfied: traitlets>=5 in c:\\users\\amaur\\anaconda3\\envs\\geop\\lib\\site-packages (from IPython->pycaret) (5.1.1)\n",
      "Requirement already satisfied: decorator in c:\\users\\amaur\\anaconda3\\envs\\geop\\lib\\site-packages (from IPython->pycaret) (5.1.1)\n",
      "Requirement already satisfied: stack-data in c:\\users\\amaur\\anaconda3\\envs\\geop\\lib\\site-packages (from IPython->pycaret) (0.1.4)\n",
      "Requirement already satisfied: pickleshare in c:\\users\\amaur\\anaconda3\\envs\\geop\\lib\\site-packages (from IPython->pycaret) (0.7.5)\n",
      "Requirement already satisfied: ipython-genutils~=0.2.0 in c:\\users\\amaur\\anaconda3\\envs\\geop\\lib\\site-packages (from ipywidgets->pycaret) (0.2.0)\n",
      "Requirement already satisfied: ipykernel>=4.5.1 in c:\\users\\amaur\\anaconda3\\envs\\geop\\lib\\site-packages (from ipywidgets->pycaret) (6.9.0)\n",
      "Requirement already satisfied: jupyterlab-widgets>=1.0.0 in c:\\users\\amaur\\anaconda3\\envs\\geop\\lib\\site-packages (from ipywidgets->pycaret) (1.0.2)\n",
      "Requirement already satisfied: widgetsnbextension~=3.5.0 in c:\\users\\amaur\\anaconda3\\envs\\geop\\lib\\site-packages (from ipywidgets->pycaret) (3.5.2)\n",
      "Requirement already satisfied: nbformat>=4.2.0 in c:\\users\\amaur\\anaconda3\\envs\\geop\\lib\\site-packages (from ipywidgets->pycaret) (5.1.3)\n",
      "Requirement already satisfied: wheel in c:\\users\\amaur\\anaconda3\\envs\\geop\\lib\\site-packages (from lightgbm>=2.3.1->pycaret) (0.37.1)\n",
      "Requirement already satisfied: pillow>=6.2.0 in c:\\users\\amaur\\anaconda3\\envs\\geop\\lib\\site-packages (from matplotlib->pycaret) (9.0.1)\n",
      "Requirement already satisfied: fonttools>=4.22.0 in c:\\users\\amaur\\anaconda3\\envs\\geop\\lib\\site-packages (from matplotlib->pycaret) (4.29.1)\n",
      "Requirement already satisfied: packaging>=20.0 in c:\\users\\amaur\\anaconda3\\envs\\geop\\lib\\site-packages (from matplotlib->pycaret) (21.3)\n",
      "Requirement already satisfied: pyparsing>=2.2.1 in c:\\users\\amaur\\anaconda3\\envs\\geop\\lib\\site-packages (from matplotlib->pycaret) (3.0.7)\n",
      "Requirement already satisfied: python-dateutil>=2.7 in c:\\users\\amaur\\anaconda3\\envs\\geop\\lib\\site-packages (from matplotlib->pycaret) (2.8.2)\n",
      "Requirement already satisfied: cycler>=0.10 in c:\\users\\amaur\\anaconda3\\envs\\geop\\lib\\site-packages (from matplotlib->pycaret) (0.11.0)\n",
      "Requirement already satisfied: kiwisolver>=1.0.1 in c:\\users\\amaur\\anaconda3\\envs\\geop\\lib\\site-packages (from matplotlib->pycaret) (1.3.2)\n",
      "Requirement already satisfied: pytz>=2020.1 in c:\\users\\amaur\\anaconda3\\envs\\geop\\lib\\site-packages (from pandas->pycaret) (2021.3)\n",
      "Requirement already satisfied: missingno>=0.4.2 in c:\\users\\amaur\\anaconda3\\envs\\geop\\lib\\site-packages (from pandas-profiling>=2.8.0->pycaret) (0.5.0)\n",
      "Requirement already satisfied: tqdm>=4.48.2 in c:\\users\\amaur\\anaconda3\\envs\\geop\\lib\\site-packages (from pandas-profiling>=2.8.0->pycaret) (4.62.3)\n",
      "Requirement already satisfied: visions[type_image_path]==0.7.4 in c:\\users\\amaur\\anaconda3\\envs\\geop\\lib\\site-packages (from pandas-profiling>=2.8.0->pycaret) (0.7.4)\n",
      "Requirement already satisfied: jinja2>=2.11.1 in c:\\users\\amaur\\anaconda3\\envs\\geop\\lib\\site-packages (from pandas-profiling>=2.8.0->pycaret) (3.0.3)\n",
      "Requirement already satisfied: markupsafe~=2.0.1 in c:\\users\\amaur\\anaconda3\\envs\\geop\\lib\\site-packages (from pandas-profiling>=2.8.0->pycaret) (2.0.1)\n",
      "Requirement already satisfied: requests>=2.24.0 in c:\\users\\amaur\\anaconda3\\envs\\geop\\lib\\site-packages (from pandas-profiling>=2.8.0->pycaret) (2.27.1)\n",
      "Requirement already satisfied: tangled-up-in-unicode==0.1.0 in c:\\users\\amaur\\anaconda3\\envs\\geop\\lib\\site-packages (from pandas-profiling>=2.8.0->pycaret) (0.1.0)\n",
      "Requirement already satisfied: htmlmin>=0.1.12 in c:\\users\\amaur\\anaconda3\\envs\\geop\\lib\\site-packages (from pandas-profiling>=2.8.0->pycaret) (0.1.12)\n",
      "Requirement already satisfied: pydantic>=1.8.1 in c:\\users\\amaur\\anaconda3\\envs\\geop\\lib\\site-packages (from pandas-profiling>=2.8.0->pycaret) (1.8.2)\n",
      "Requirement already satisfied: phik>=0.11.1 in c:\\users\\amaur\\anaconda3\\envs\\geop\\lib\\site-packages (from pandas-profiling>=2.8.0->pycaret) (0.12.0)\n",
      "Requirement already satisfied: multimethod>=1.4 in c:\\users\\amaur\\anaconda3\\envs\\geop\\lib\\site-packages (from pandas-profiling>=2.8.0->pycaret) (1.7)\n",
      "Requirement already satisfied: attrs>=19.3.0 in c:\\users\\amaur\\anaconda3\\envs\\geop\\lib\\site-packages (from visions[type_image_path]==0.7.4->pandas-profiling>=2.8.0->pycaret) (21.4.0)\n",
      "Requirement already satisfied: networkx>=2.4 in c:\\users\\amaur\\anaconda3\\envs\\geop\\lib\\site-packages (from visions[type_image_path]==0.7.4->pandas-profiling>=2.8.0->pycaret) (2.6.3)\n",
      "Requirement already satisfied: imagehash in c:\\users\\amaur\\anaconda3\\envs\\geop\\lib\\site-packages (from visions[type_image_path]==0.7.4->pandas-profiling>=2.8.0->pycaret) (4.2.1)\n",
      "Requirement already satisfied: tenacity>=6.2.0 in c:\\users\\amaur\\anaconda3\\envs\\geop\\lib\\site-packages (from plotly>=4.4.1->pycaret) (8.0.1)\n",
      "Requirement already satisfied: murmurhash<1.1.0,>=0.28.0 in c:\\users\\amaur\\anaconda3\\envs\\geop\\lib\\site-packages (from spacy<2.4.0->pycaret) (1.0.6)\n",
      "Requirement already satisfied: wasabi<1.1.0,>=0.4.0 in c:\\users\\amaur\\anaconda3\\envs\\geop\\lib\\site-packages (from spacy<2.4.0->pycaret) (0.9.0)\n",
      "Note: you may need to restart the kernel to use updated packages.\n",
      "Requirement already satisfied: plac<1.2.0,>=0.9.6 in c:\\users\\amaur\\anaconda3\\envs\\geop\\lib\\site-packages (from spacy<2.4.0->pycaret) (1.1.3)\n",
      "Requirement already satisfied: cymem<2.1.0,>=2.0.2 in c:\\users\\amaur\\anaconda3\\envs\\geop\\lib\\site-packages (from spacy<2.4.0->pycaret) (2.0.6)\n",
      "Requirement already satisfied: blis<0.8.0,>=0.4.0 in c:\\users\\amaur\\anaconda3\\envs\\geop\\lib\\site-packages (from spacy<2.4.0->pycaret) (0.7.5)\n",
      "Requirement already satisfied: thinc<7.5.0,>=7.4.1 in c:\\users\\amaur\\anaconda3\\envs\\geop\\lib\\site-packages (from spacy<2.4.0->pycaret) (7.4.5)\n",
      "Requirement already satisfied: catalogue<1.1.0,>=0.0.7 in c:\\users\\amaur\\anaconda3\\envs\\geop\\lib\\site-packages (from spacy<2.4.0->pycaret) (1.0.0)\n",
      "Requirement already satisfied: preshed<3.1.0,>=3.0.2 in c:\\users\\amaur\\anaconda3\\envs\\geop\\lib\\site-packages (from spacy<2.4.0->pycaret) (3.0.6)\n",
      "Requirement already satisfied: srsly<1.1.0,>=1.0.2 in c:\\users\\amaur\\anaconda3\\envs\\geop\\lib\\site-packages (from spacy<2.4.0->pycaret) (1.0.5)\n",
      "Requirement already satisfied: click>=7.0 in c:\\users\\amaur\\anaconda3\\envs\\geop\\lib\\site-packages (from mlflow->pycaret) (7.1.2)\n",
      "Requirement already satisfied: querystring-parser in c:\\users\\amaur\\anaconda3\\envs\\geop\\lib\\site-packages (from mlflow->pycaret) (1.2.4)\n",
      "Requirement already satisfied: docker>=4.0.0 in c:\\users\\amaur\\anaconda3\\envs\\geop\\lib\\site-packages (from mlflow->pycaret) (5.0.3)\n",
      "Requirement already satisfied: databricks-cli>=0.8.7 in c:\\users\\amaur\\anaconda3\\envs\\geop\\lib\\site-packages (from mlflow->pycaret) (0.16.4)\n"
     ]
    },
    {
     "name": "stdout",
     "output_type": "stream",
     "text": [
      "Requirement already satisfied: alembic in c:\\users\\amaur\\anaconda3\\envs\\geop\\lib\\site-packages (from mlflow->pycaret) (1.7.6)\n",
      "Requirement already satisfied: gitpython>=2.1.0 in c:\\users\\amaur\\anaconda3\\envs\\geop\\lib\\site-packages (from mlflow->pycaret) (3.1.26)\n",
      "Requirement already satisfied: sqlalchemy in c:\\users\\amaur\\anaconda3\\envs\\geop\\lib\\site-packages (from mlflow->pycaret) (1.4.31)\n",
      "Requirement already satisfied: waitress in c:\\users\\amaur\\anaconda3\\envs\\geop\\lib\\site-packages (from mlflow->pycaret) (2.0.0)\n",
      "Requirement already satisfied: sqlparse>=0.3.1 in c:\\users\\amaur\\anaconda3\\envs\\geop\\lib\\site-packages (from mlflow->pycaret) (0.4.2)\n",
      "Requirement already satisfied: protobuf>=3.7.0 in c:\\users\\amaur\\anaconda3\\envs\\geop\\lib\\site-packages (from mlflow->pycaret) (3.19.4)\n",
      "Requirement already satisfied: cloudpickle in c:\\users\\amaur\\anaconda3\\envs\\geop\\lib\\site-packages (from mlflow->pycaret) (2.0.0)\n",
      "Requirement already satisfied: entrypoints in c:\\users\\amaur\\anaconda3\\envs\\geop\\lib\\site-packages (from mlflow->pycaret) (0.4)\n",
      "Requirement already satisfied: importlib-metadata!=4.7.0,>=3.7.0 in c:\\users\\amaur\\anaconda3\\envs\\geop\\lib\\site-packages (from mlflow->pycaret) (4.10.1)\n",
      "Requirement already satisfied: prometheus-flask-exporter in c:\\users\\amaur\\anaconda3\\envs\\geop\\lib\\site-packages (from mlflow->pycaret) (0.18.7)\n",
      "Requirement already satisfied: Flask in c:\\users\\amaur\\anaconda3\\envs\\geop\\lib\\site-packages (from mlflow->pycaret) (2.0.3)\n",
      "Requirement already satisfied: regex>=2021.8.3 in c:\\users\\amaur\\anaconda3\\envs\\geop\\lib\\site-packages (from nltk->pycaret) (2022.1.18)\n",
      "Requirement already satisfied: funcy in c:\\users\\amaur\\anaconda3\\envs\\geop\\lib\\site-packages (from pyLDAvis->pycaret) (1.17)\n",
      "Requirement already satisfied: numexpr in c:\\users\\amaur\\anaconda3\\envs\\geop\\lib\\site-packages (from pyLDAvis->pycaret) (2.8.1)\n",
      "Requirement already satisfied: future in c:\\users\\amaur\\anaconda3\\envs\\geop\\lib\\site-packages (from pyLDAvis->pycaret) (0.18.2)\n",
      "Requirement already satisfied: numba>=0.35 in c:\\users\\amaur\\anaconda3\\envs\\geop\\lib\\site-packages (from pyod->pycaret) (0.55.1)\n",
      "Requirement already satisfied: statsmodels in c:\\users\\amaur\\anaconda3\\envs\\geop\\lib\\site-packages (from pyod->pycaret) (0.13.2)\n",
      "Requirement already satisfied: pynndescent>=0.5 in c:\\users\\amaur\\anaconda3\\envs\\geop\\lib\\site-packages (from umap-learn->pycaret) (0.5.6)\n",
      "Requirement already satisfied: tabulate>=0.7.7 in c:\\users\\amaur\\anaconda3\\envs\\geop\\lib\\site-packages (from databricks-cli>=0.8.7->mlflow->pycaret) (0.8.9)\n",
      "Requirement already satisfied: websocket-client>=0.32.0 in c:\\users\\amaur\\anaconda3\\envs\\geop\\lib\\site-packages (from docker>=4.0.0->mlflow->pycaret) (1.2.3)\n",
      "Requirement already satisfied: pywin32==227 in c:\\users\\amaur\\appdata\\roaming\\python\\python39\\site-packages (from docker>=4.0.0->mlflow->pycaret) (227)\n",
      "Requirement already satisfied: gitdb<5,>=4.0.1 in c:\\users\\amaur\\anaconda3\\envs\\geop\\lib\\site-packages (from gitpython>=2.1.0->mlflow->pycaret) (4.0.9)\n",
      "Requirement already satisfied: zipp>=0.5 in c:\\users\\amaur\\anaconda3\\envs\\geop\\lib\\site-packages (from importlib-metadata!=4.7.0,>=3.7.0->mlflow->pycaret) (3.7.0)\n",
      "Requirement already satisfied: jupyter-client<8.0 in c:\\users\\amaur\\anaconda3\\envs\\geop\\lib\\site-packages (from ipykernel>=4.5.1->ipywidgets->pycaret) (7.1.2)\n",
      "Requirement already satisfied: debugpy<2.0,>=1.0.0 in c:\\users\\amaur\\anaconda3\\envs\\geop\\lib\\site-packages (from ipykernel>=4.5.1->ipywidgets->pycaret) (1.5.1)\n",
      "Requirement already satisfied: nest-asyncio in c:\\users\\amaur\\anaconda3\\envs\\geop\\lib\\site-packages (from ipykernel>=4.5.1->ipywidgets->pycaret) (1.5.4)\n",
      "Requirement already satisfied: tornado<7.0,>=4.2 in c:\\users\\amaur\\anaconda3\\envs\\geop\\lib\\site-packages (from ipykernel>=4.5.1->ipywidgets->pycaret) (6.1)\n",
      "Requirement already satisfied: parso<0.9.0,>=0.8.0 in c:\\users\\amaur\\anaconda3\\envs\\geop\\lib\\site-packages (from jedi>=0.16->IPython->pycaret) (0.8.3)\n",
      "Requirement already satisfied: jupyter-core in c:\\users\\amaur\\anaconda3\\envs\\geop\\lib\\site-packages (from nbformat>=4.2.0->ipywidgets->pycaret) (4.9.1)\n",
      "Requirement already satisfied: jsonschema!=2.5.0,>=2.4 in c:\\users\\amaur\\anaconda3\\envs\\geop\\lib\\site-packages (from nbformat>=4.2.0->ipywidgets->pycaret) (4.4.0)\n",
      "Requirement already satisfied: llvmlite<0.39,>=0.38.0rc1 in c:\\users\\amaur\\anaconda3\\envs\\geop\\lib\\site-packages (from numba>=0.35->pyod->pycaret) (0.38.0)\n",
      "Requirement already satisfied: wcwidth in c:\\users\\amaur\\anaconda3\\envs\\geop\\lib\\site-packages (from prompt-toolkit!=3.0.0,!=3.0.1,<3.1.0,>=2.0.0->IPython->pycaret) (0.2.5)\n",
      "Requirement already satisfied: typing-extensions>=3.7.4.3 in c:\\users\\amaur\\anaconda3\\envs\\geop\\lib\\site-packages (from pydantic>=1.8.1->pandas-profiling>=2.8.0->pycaret) (4.0.1)\n",
      "Requirement already satisfied: idna<4,>=2.5 in c:\\users\\amaur\\anaconda3\\envs\\geop\\lib\\site-packages (from requests>=2.24.0->pandas-profiling>=2.8.0->pycaret) (3.3)\n",
      "Requirement already satisfied: urllib3<1.27,>=1.21.1 in c:\\users\\amaur\\anaconda3\\envs\\geop\\lib\\site-packages (from requests>=2.24.0->pandas-profiling>=2.8.0->pycaret) (1.26.8)\n",
      "Requirement already satisfied: charset-normalizer~=2.0.0 in c:\\users\\amaur\\anaconda3\\envs\\geop\\lib\\site-packages (from requests>=2.24.0->pandas-profiling>=2.8.0->pycaret) (2.0.11)\n",
      "Requirement already satisfied: certifi>=2017.4.17 in c:\\users\\amaur\\anaconda3\\envs\\geop\\lib\\site-packages (from requests>=2.24.0->pandas-profiling>=2.8.0->pycaret) (2021.10.8)\n",
      "Requirement already satisfied: notebook>=4.4.1 in c:\\users\\amaur\\anaconda3\\envs\\geop\\lib\\site-packages (from widgetsnbextension~=3.5.0->ipywidgets->pycaret) (6.4.8)\n",
      "Requirement already satisfied: Mako in c:\\users\\amaur\\anaconda3\\envs\\geop\\lib\\site-packages (from alembic->mlflow->pycaret) (1.1.6)\n",
      "Requirement already satisfied: greenlet!=0.4.17 in c:\\users\\amaur\\anaconda3\\envs\\geop\\lib\\site-packages (from sqlalchemy->mlflow->pycaret) (1.1.2)\n",
      "Requirement already satisfied: toml>=0.9.4 in c:\\users\\amaur\\anaconda3\\envs\\geop\\lib\\site-packages (from black->IPython->pycaret) (0.10.2)\n",
      "Requirement already satisfied: appdirs in c:\\users\\amaur\\anaconda3\\envs\\geop\\lib\\site-packages (from black->IPython->pycaret) (1.4.4)\n",
      "Requirement already satisfied: pathspec<1,>=0.6 in c:\\users\\amaur\\anaconda3\\envs\\geop\\lib\\site-packages (from black->IPython->pycaret) (0.9.0)\n",
      "Requirement already satisfied: typed-ast>=1.4.0 in c:\\users\\amaur\\anaconda3\\envs\\geop\\lib\\site-packages (from black->IPython->pycaret) (1.5.2)\n",
      "Requirement already satisfied: itsdangerous>=2.0 in c:\\users\\amaur\\anaconda3\\envs\\geop\\lib\\site-packages (from Flask->mlflow->pycaret) (2.0.1)\n",
      "Requirement already satisfied: Werkzeug>=2.0 in c:\\users\\amaur\\anaconda3\\envs\\geop\\lib\\site-packages (from Flask->mlflow->pycaret) (2.0.3)\n",
      "Requirement already satisfied: prometheus-client in c:\\users\\amaur\\anaconda3\\envs\\geop\\lib\\site-packages (from prometheus-flask-exporter->mlflow->pycaret) (0.13.1)\n",
      "Requirement already satisfied: pure-eval in c:\\users\\amaur\\anaconda3\\envs\\geop\\lib\\site-packages (from stack-data->IPython->pycaret) (0.2.2)\n",
      "Requirement already satisfied: executing in c:\\users\\amaur\\anaconda3\\envs\\geop\\lib\\site-packages (from stack-data->IPython->pycaret) (0.8.2)\n",
      "Requirement already satisfied: asttokens in c:\\users\\amaur\\anaconda3\\envs\\geop\\lib\\site-packages (from stack-data->IPython->pycaret) (2.0.5)\n",
      "Requirement already satisfied: patsy>=0.5.2 in c:\\users\\amaur\\anaconda3\\envs\\geop\\lib\\site-packages (from statsmodels->pyod->pycaret) (0.5.2)\n",
      "Requirement already satisfied: smmap<6,>=3.0.1 in c:\\users\\amaur\\anaconda3\\envs\\geop\\lib\\site-packages (from gitdb<5,>=4.0.1->gitpython>=2.1.0->mlflow->pycaret) (5.0.0)\n",
      "Requirement already satisfied: pyrsistent!=0.17.0,!=0.17.1,!=0.17.2,>=0.14.0 in c:\\users\\amaur\\anaconda3\\envs\\geop\\lib\\site-packages (from jsonschema!=2.5.0,>=2.4->nbformat>=4.2.0->ipywidgets->pycaret) (0.18.1)\n",
      "Requirement already satisfied: pyzmq>=13 in c:\\users\\amaur\\anaconda3\\envs\\geop\\lib\\site-packages (from jupyter-client<8.0->ipykernel>=4.5.1->ipywidgets->pycaret) (22.3.0)\n",
      "Requirement already satisfied: argon2-cffi in c:\\users\\amaur\\anaconda3\\envs\\geop\\lib\\site-packages (from notebook>=4.4.1->widgetsnbextension~=3.5.0->ipywidgets->pycaret) (21.3.0)"
     ]
    }
   ],
   "source": [
    "pip install pycaret"
   ]
  },
  {
   "cell_type": "code",
   "execution_count": 25,
   "id": "63138aae",
   "metadata": {
    "collapsed": true
   },
   "outputs": [
    {
     "name": "stdout",
     "output_type": "stream",
     "text": [
      "\n",
      "Requirement already satisfied: Send2Trash>=1.8.0 in c:\\users\\amaur\\anaconda3\\envs\\geop\\lib\\site-packages (from notebook>=4.4.1->widgetsnbextension~=3.5.0->ipywidgets->pycaret) (1.8.0)\n",
      "Requirement already satisfied: nbconvert in c:\\users\\amaur\\anaconda3\\envs\\geop\\lib\\site-packages (from notebook>=4.4.1->widgetsnbextension~=3.5.0->ipywidgets->pycaret) (6.4.1)\n",
      "Requirement already satisfied: terminado>=0.8.3 in c:\\users\\amaur\\anaconda3\\envs\\geop\\lib\\site-packages (from notebook>=4.4.1->widgetsnbextension~=3.5.0->ipywidgets->pycaret) (0.13.1)\n",
      "Requirement already satisfied: PyWavelets in c:\\users\\amaur\\anaconda3\\envs\\geop\\lib\\site-packages (from imagehash->visions[type_image_path]==0.7.4->pandas-profiling>=2.8.0->pycaret) (1.2.0)\n",
      "Requirement already satisfied: pywinpty>=1.1.0 in c:\\users\\amaur\\anaconda3\\envs\\geop\\lib\\site-packages (from terminado>=0.8.3->notebook>=4.4.1->widgetsnbextension~=3.5.0->ipywidgets->pycaret) (2.0.2)\n",
      "Requirement already satisfied: argon2-cffi-bindings in c:\\users\\amaur\\anaconda3\\envs\\geop\\lib\\site-packages (from argon2-cffi->notebook>=4.4.1->widgetsnbextension~=3.5.0->ipywidgets->pycaret) (21.2.0)\n",
      "Requirement already satisfied: jupyterlab-pygments in c:\\users\\amaur\\anaconda3\\envs\\geop\\lib\\site-packages (from nbconvert->notebook>=4.4.1->widgetsnbextension~=3.5.0->ipywidgets->pycaret) (0.1.2)\n",
      "Requirement already satisfied: pandocfilters>=1.4.1 in c:\\users\\amaur\\anaconda3\\envs\\geop\\lib\\site-packages (from nbconvert->notebook>=4.4.1->widgetsnbextension~=3.5.0->ipywidgets->pycaret) (1.5.0)\n",
      "Requirement already satisfied: nbclient<0.6.0,>=0.5.0 in c:\\users\\amaur\\anaconda3\\envs\\geop\\lib\\site-packages (from nbconvert->notebook>=4.4.1->widgetsnbextension~=3.5.0->ipywidgets->pycaret) (0.5.10)\n",
      "Requirement already satisfied: defusedxml in c:\\users\\amaur\\anaconda3\\envs\\geop\\lib\\site-packages (from nbconvert->notebook>=4.4.1->widgetsnbextension~=3.5.0->ipywidgets->pycaret) (0.7.1)\n",
      "Requirement already satisfied: testpath in c:\\users\\amaur\\anaconda3\\envs\\geop\\lib\\site-packages (from nbconvert->notebook>=4.4.1->widgetsnbextension~=3.5.0->ipywidgets->pycaret) (0.5.0)\n",
      "Requirement already satisfied: bleach in c:\\users\\amaur\\anaconda3\\envs\\geop\\lib\\site-packages (from nbconvert->notebook>=4.4.1->widgetsnbextension~=3.5.0->ipywidgets->pycaret) (4.1.0)\n",
      "Requirement already satisfied: mistune<2,>=0.8.1 in c:\\users\\amaur\\anaconda3\\envs\\geop\\lib\\site-packages (from nbconvert->notebook>=4.4.1->widgetsnbextension~=3.5.0->ipywidgets->pycaret) (0.8.4)\n",
      "Requirement already satisfied: cffi>=1.0.1 in c:\\users\\amaur\\anaconda3\\envs\\geop\\lib\\site-packages (from argon2-cffi-bindings->argon2-cffi->notebook>=4.4.1->widgetsnbextension~=3.5.0->ipywidgets->pycaret) (1.15.0)\n",
      "Requirement already satisfied: webencodings in c:\\users\\amaur\\anaconda3\\envs\\geop\\lib\\site-packages (from bleach->nbconvert->notebook>=4.4.1->widgetsnbextension~=3.5.0->ipywidgets->pycaret) (0.5.1)\n",
      "Requirement already satisfied: pycparser in c:\\users\\amaur\\anaconda3\\envs\\geop\\lib\\site-packages (from cffi>=1.0.1->argon2-cffi-bindings->argon2-cffi->notebook>=4.4.1->widgetsnbextension~=3.5.0->ipywidgets->pycaret) (2.21)\n"
     ]
    }
   ],
   "source": [
    "from pycaret.regression import setup,compare_models"
   ]
  },
  {
   "cell_type": "markdown",
   "id": "8bbda81f",
   "metadata": {},
   "source": [
    "##### We'll use pycaret to train and test many different models to see which ones perform best on our data. First, process the data in the format expected by pycaret"
   ]
  },
  {
   "cell_type": "code",
   "execution_count": 26,
   "id": "0f02f97f",
   "metadata": {
    "scrolled": true
   },
   "outputs": [
    {
     "name": "stdout",
     "output_type": "stream",
     "text": [
      "      reviewsCount       lat       lng  personCapacity  num_chambres  \\\n",
      "0        -0.447980 -1.410078  0.801816       -0.781872     -0.628552   \n",
      "1        -1.477788 -1.212865  0.493789        1.326000      1.515568   \n",
      "2         1.392306  0.299105 -1.277362        0.061277     -0.628552   \n",
      "3        -0.259360  1.087958 -0.738316        0.904426      1.515568   \n",
      "4         1.596897 -0.424011 -0.969336       -0.781872     -0.628552   \n",
      "...            ...       ...       ...             ...           ...   \n",
      "1426      0.545110  0.101891  1.648888        0.061277      1.515568   \n",
      "1427     -0.148743 -1.212865  0.878822        0.061277      0.443508   \n",
      "1428     -0.047757 -1.541554  1.417868       -0.781872     -0.628552   \n",
      "1429      1.227298  0.101891  0.416783       -0.781872     -0.628552   \n",
      "1430     -1.063830  1.613861  0.339776       -0.781872     -0.628552   \n",
      "\n",
      "      num_lits   num_sdb  num_amenities  pictureCount  valueRating  \\\n",
      "0    -0.697893 -0.315855       1.172330     -0.009800     0.400254   \n",
      "1     1.084412  1.781538       1.267978      0.412622    -0.743062   \n",
      "2    -0.103791 -0.315855      -0.970118     -0.685676     0.438364   \n",
      "3     0.490310  1.781538       0.564484     -0.770161     0.590806   \n",
      "4    -0.697893 -0.315855       0.500723     -0.263254     0.819469   \n",
      "...        ...       ...            ...           ...          ...   \n",
      "1426  0.490310 -0.315855      -0.342834     -0.347738     0.857580   \n",
      "1427  0.490310 -0.315855      -1.092755     -0.263254     0.971912   \n",
      "1428 -0.697893 -0.315855       0.687120      0.074684    -0.438178   \n",
      "1429 -0.697893 -0.315855       0.153609      0.074684    -0.819283   \n",
      "1430 -0.697893 -0.315855       0.626588      4.467878     0.209701   \n",
      "\n",
      "      availability_ratio  is_SuperHost  price_per_pers  \\\n",
      "0               0.412637           0.0       58.928571   \n",
      "1               0.158045           0.0       19.020408   \n",
      "2               0.248812           1.0       14.928571   \n",
      "3              -0.750315           1.0       13.476190   \n",
      "4               0.412637           1.0       71.000000   \n",
      "...                  ...           ...             ...   \n",
      "1426           -2.044732           1.0       20.464286   \n",
      "1427            0.412637           1.0       21.000000   \n",
      "1428            0.412637           1.0       33.571429   \n",
      "1429            0.412637           1.0       40.214286   \n",
      "1430            0.412637           0.0       31.571429   \n",
      "\n",
      "      housing_Type_ appartement  housing_Type_ appartement en résidence  \\\n",
      "0                           0.0                                     0.0   \n",
      "1                           0.0                                     0.0   \n",
      "2                           1.0                                     0.0   \n",
      "3                           0.0                                     1.0   \n",
      "4                           0.0                                     0.0   \n",
      "...                         ...                                     ...   \n",
      "1426                        0.0                                     0.0   \n",
      "1427                        0.0                                     0.0   \n",
      "1428                        0.0                                     1.0   \n",
      "1429                        0.0                                     0.0   \n",
      "1430                        0.0                                     1.0   \n",
      "\n",
      "      housing_Type_ bungalow  housing_Type_ cabane  housing_Type_ chalet  \\\n",
      "0                        0.0                   0.0                   0.0   \n",
      "1                        0.0                   0.0                   0.0   \n",
      "2                        0.0                   0.0                   0.0   \n",
      "3                        0.0                   0.0                   0.0   \n",
      "4                        0.0                   0.0                   0.0   \n",
      "...                      ...                   ...                   ...   \n",
      "1426                     0.0                   0.0                   0.0   \n",
      "1427                     0.0                   0.0                   0.0   \n",
      "1428                     0.0                   0.0                   0.0   \n",
      "1429                     0.0                   0.0                   0.0   \n",
      "1430                     0.0                   0.0                   0.0   \n",
      "\n",
      "      housing_Type_ cottage  housing_Type_ guest house  housing_Type_ loft  \\\n",
      "0                       0.0                        0.0                 0.0   \n",
      "1                       0.0                        0.0                 0.0   \n",
      "2                       0.0                        0.0                 0.0   \n",
      "3                       0.0                        0.0                 0.0   \n",
      "4                       0.0                        0.0                 0.0   \n",
      "...                     ...                        ...                 ...   \n",
      "1426                    0.0                        0.0                 0.0   \n",
      "1427                    0.0                        0.0                 0.0   \n",
      "1428                    0.0                        0.0                 0.0   \n",
      "1429                    0.0                        0.0                 0.0   \n",
      "1430                    0.0                        0.0                 0.0   \n",
      "\n",
      "      housing_Type_ logement résidentiel  housing_Type_ maison de ville  \\\n",
      "0                                    1.0                            0.0   \n",
      "1                                    0.0                            0.0   \n",
      "2                                    0.0                            0.0   \n",
      "3                                    0.0                            0.0   \n",
      "4                                    0.0                            0.0   \n",
      "...                                  ...                            ...   \n",
      "1426                                 1.0                            0.0   \n",
      "1427                                 0.0                            0.0   \n",
      "1428                                 0.0                            0.0   \n",
      "1429                                 0.0                            0.0   \n",
      "1430                                 0.0                            0.0   \n",
      "\n",
      "      housing_Type_ suite  housing_Type_ villa  \\\n",
      "0                     0.0                  0.0   \n",
      "1                     0.0                  1.0   \n",
      "2                     0.0                  0.0   \n",
      "3                     0.0                  0.0   \n",
      "4                     0.0                  0.0   \n",
      "...                   ...                  ...   \n",
      "1426                  0.0                  0.0   \n",
      "1427                  0.0                  0.0   \n",
      "1428                  0.0                  0.0   \n",
      "1429                  0.0                  0.0   \n",
      "1430                  0.0                  0.0   \n",
      "\n",
      "      housing_Type_Cabane dans les arbres  housing_Type_Chambre d'hôtel  \\\n",
      "0                                     0.0                           0.0   \n",
      "1                                     0.0                           0.0   \n",
      "2                                     0.0                           0.0   \n",
      "3                                     0.0                           0.0   \n",
      "4                                     0.0                           0.0   \n",
      "...                                   ...                           ...   \n",
      "1426                                  0.0                           0.0   \n",
      "1427                                  0.0                           0.0   \n",
      "1428                                  0.0                           0.0   \n",
      "1429                                  0.0                           0.0   \n",
      "1430                                  0.0                           0.0   \n",
      "\n",
      "      housing_Type_Chambre partagée  housing_Type_Chambre privée  \\\n",
      "0                               0.0                          0.0   \n",
      "1                               0.0                          0.0   \n",
      "2                               0.0                          0.0   \n",
      "3                               0.0                          0.0   \n",
      "4                               0.0                          1.0   \n",
      "...                             ...                          ...   \n",
      "1426                            0.0                          0.0   \n",
      "1427                            0.0                          1.0   \n",
      "1428                            0.0                          0.0   \n",
      "1429                            0.0                          1.0   \n",
      "1430                            0.0                          0.0   \n",
      "\n",
      "      housing_Type_Gîte à la ferme  housing_Type_Logement entier  \\\n",
      "0                              0.0                           0.0   \n",
      "1                              0.0                           0.0   \n",
      "2                              0.0                           0.0   \n",
      "3                              0.0                           0.0   \n",
      "4                              0.0                           0.0   \n",
      "...                            ...                           ...   \n",
      "1426                           0.0                           0.0   \n",
      "1427                           0.0                           0.0   \n",
      "1428                           0.0                           0.0   \n",
      "1429                           0.0                           0.0   \n",
      "1430                           0.0                           0.0   \n",
      "\n",
      "      housing_Type_Logement entier dans une résidence de tourisme  \\\n",
      "0                                                   0.0             \n",
      "1                                                   0.0             \n",
      "2                                                   0.0             \n",
      "3                                                   0.0             \n",
      "4                                                   0.0             \n",
      "...                                                 ...             \n",
      "1426                                                0.0             \n",
      "1427                                                0.0             \n",
      "1428                                                0.0             \n",
      "1429                                                0.0             \n",
      "1430                                                0.0             \n",
      "\n",
      "      housing_Type_Maison organique  housing_Type_Micro-maison  \\\n",
      "0                               0.0                        0.0   \n",
      "1                               0.0                        0.0   \n",
      "2                               0.0                        0.0   \n",
      "3                               0.0                        0.0   \n",
      "4                               0.0                        0.0   \n",
      "...                             ...                        ...   \n",
      "1426                            0.0                        0.0   \n",
      "1427                            0.0                        0.0   \n",
      "1428                            0.0                        0.0   \n",
      "1429                            0.0                        0.0   \n",
      "1430                            0.0                        0.0   \n",
      "\n",
      "      housing_Type_Place de camping  housing_Type_Tipi       price  \n",
      "0                               0.0                0.0  117.857143  \n",
      "1                               0.0                0.0  133.142857  \n",
      "2                               0.0                0.0   59.714286  \n",
      "3                               0.0                0.0   80.857143  \n",
      "4                               0.0                0.0  142.000000  \n",
      "...                             ...                ...         ...  \n",
      "1426                            0.0                0.0   81.857143  \n",
      "1427                            0.0                0.0   84.000000  \n",
      "1428                            0.0                0.0   67.142857  \n",
      "1429                            0.0                0.0   80.428571  \n",
      "1430                            0.0                0.0   63.142857  \n",
      "\n",
      "[1431 rows x 37 columns]\n"
     ]
    }
   ],
   "source": [
    "X_cols=train_df_numeric.columns.tolist() + train_df_non_numeric.columns.tolist()\n",
    "X_cols\n",
    "Y_cols=['price']\n",
    "train=pd.DataFrame(X_train_scaled,columns=X_cols)\n",
    "test=pd.DataFrame(y_train,columns=Y_cols)\n",
    "train_data=pd.concat([train,test],axis=1)\n",
    "print(train_data)"
   ]
  },
  {
   "cell_type": "markdown",
   "id": "2d831dc1",
   "metadata": {},
   "source": [
    "## 2.2 Use pycaret compare_models to get an overview of models performance on the Data"
   ]
  },
  {
   "cell_type": "code",
   "execution_count": 27,
   "id": "6b78b634",
   "metadata": {},
   "outputs": [
    {
     "data": {
      "text/html": [
       "<style type=\"text/css\">\n",
       "#T_fe930 th {\n",
       "  text-align: left;\n",
       "}\n",
       "#T_fe930_row0_col0, #T_fe930_row0_col6, #T_fe930_row1_col0, #T_fe930_row1_col1, #T_fe930_row1_col2, #T_fe930_row1_col3, #T_fe930_row1_col4, #T_fe930_row1_col5, #T_fe930_row2_col0, #T_fe930_row2_col1, #T_fe930_row2_col2, #T_fe930_row2_col3, #T_fe930_row2_col4, #T_fe930_row2_col5, #T_fe930_row2_col6, #T_fe930_row3_col0, #T_fe930_row3_col1, #T_fe930_row3_col2, #T_fe930_row3_col3, #T_fe930_row3_col4, #T_fe930_row3_col5, #T_fe930_row3_col6, #T_fe930_row4_col0, #T_fe930_row4_col1, #T_fe930_row4_col2, #T_fe930_row4_col3, #T_fe930_row4_col4, #T_fe930_row4_col5, #T_fe930_row4_col6, #T_fe930_row5_col0, #T_fe930_row5_col1, #T_fe930_row5_col2, #T_fe930_row5_col3, #T_fe930_row5_col4, #T_fe930_row5_col5, #T_fe930_row5_col6, #T_fe930_row6_col0, #T_fe930_row6_col1, #T_fe930_row6_col2, #T_fe930_row6_col3, #T_fe930_row6_col4, #T_fe930_row6_col5, #T_fe930_row6_col6, #T_fe930_row7_col0, #T_fe930_row7_col1, #T_fe930_row7_col2, #T_fe930_row7_col3, #T_fe930_row7_col4, #T_fe930_row7_col5, #T_fe930_row7_col6, #T_fe930_row8_col0, #T_fe930_row8_col1, #T_fe930_row8_col2, #T_fe930_row8_col3, #T_fe930_row8_col4, #T_fe930_row8_col5, #T_fe930_row8_col6, #T_fe930_row9_col0, #T_fe930_row9_col1, #T_fe930_row9_col2, #T_fe930_row9_col3, #T_fe930_row9_col4, #T_fe930_row9_col5, #T_fe930_row9_col6, #T_fe930_row10_col0, #T_fe930_row10_col1, #T_fe930_row10_col2, #T_fe930_row10_col3, #T_fe930_row10_col4, #T_fe930_row10_col5, #T_fe930_row10_col6, #T_fe930_row11_col0, #T_fe930_row11_col1, #T_fe930_row11_col2, #T_fe930_row11_col3, #T_fe930_row11_col4, #T_fe930_row11_col5, #T_fe930_row11_col6, #T_fe930_row12_col0, #T_fe930_row12_col1, #T_fe930_row12_col2, #T_fe930_row12_col3, #T_fe930_row12_col4, #T_fe930_row12_col5, #T_fe930_row12_col6, #T_fe930_row13_col0, #T_fe930_row13_col1, #T_fe930_row13_col2, #T_fe930_row13_col3, #T_fe930_row13_col4, #T_fe930_row13_col5, #T_fe930_row13_col6, #T_fe930_row14_col0, #T_fe930_row14_col1, #T_fe930_row14_col2, #T_fe930_row14_col3, #T_fe930_row14_col4, #T_fe930_row14_col5, #T_fe930_row14_col6, #T_fe930_row15_col0, #T_fe930_row15_col1, #T_fe930_row15_col2, #T_fe930_row15_col3, #T_fe930_row15_col4, #T_fe930_row15_col5, #T_fe930_row15_col6, #T_fe930_row16_col0, #T_fe930_row16_col1, #T_fe930_row16_col2, #T_fe930_row16_col3, #T_fe930_row16_col4, #T_fe930_row16_col5, #T_fe930_row16_col6, #T_fe930_row17_col0, #T_fe930_row17_col1, #T_fe930_row17_col2, #T_fe930_row17_col3, #T_fe930_row17_col4, #T_fe930_row17_col5, #T_fe930_row17_col6 {\n",
       "  text-align: left;\n",
       "}\n",
       "#T_fe930_row0_col1, #T_fe930_row0_col2, #T_fe930_row0_col3, #T_fe930_row0_col4, #T_fe930_row0_col5, #T_fe930_row1_col6 {\n",
       "  text-align: left;\n",
       "  background-color: yellow;\n",
       "}\n",
       "#T_fe930_row0_col7, #T_fe930_row1_col7, #T_fe930_row2_col7, #T_fe930_row3_col7, #T_fe930_row5_col7, #T_fe930_row6_col7, #T_fe930_row8_col7, #T_fe930_row10_col7, #T_fe930_row11_col7, #T_fe930_row13_col7, #T_fe930_row14_col7, #T_fe930_row16_col7, #T_fe930_row17_col7 {\n",
       "  text-align: left;\n",
       "  background-color: lightgrey;\n",
       "}\n",
       "#T_fe930_row4_col7, #T_fe930_row7_col7, #T_fe930_row9_col7, #T_fe930_row12_col7, #T_fe930_row15_col7 {\n",
       "  text-align: left;\n",
       "  background-color: yellow;\n",
       "  background-color: lightgrey;\n",
       "}\n",
       "</style>\n",
       "<table id=\"T_fe930\">\n",
       "  <thead>\n",
       "    <tr>\n",
       "      <th class=\"blank level0\" >&nbsp;</th>\n",
       "      <th id=\"T_fe930_level0_col0\" class=\"col_heading level0 col0\" >Model</th>\n",
       "      <th id=\"T_fe930_level0_col1\" class=\"col_heading level0 col1\" >MAE</th>\n",
       "      <th id=\"T_fe930_level0_col2\" class=\"col_heading level0 col2\" >MSE</th>\n",
       "      <th id=\"T_fe930_level0_col3\" class=\"col_heading level0 col3\" >RMSE</th>\n",
       "      <th id=\"T_fe930_level0_col4\" class=\"col_heading level0 col4\" >R2</th>\n",
       "      <th id=\"T_fe930_level0_col5\" class=\"col_heading level0 col5\" >RMSLE</th>\n",
       "      <th id=\"T_fe930_level0_col6\" class=\"col_heading level0 col6\" >MAPE</th>\n",
       "      <th id=\"T_fe930_level0_col7\" class=\"col_heading level0 col7\" >TT (Sec)</th>\n",
       "    </tr>\n",
       "  </thead>\n",
       "  <tbody>\n",
       "    <tr>\n",
       "      <th id=\"T_fe930_level0_row0\" class=\"row_heading level0 row0\" >gbr</th>\n",
       "      <td id=\"T_fe930_row0_col0\" class=\"data row0 col0\" >Gradient Boosting Regressor</td>\n",
       "      <td id=\"T_fe930_row0_col1\" class=\"data row0 col1\" >4.4300</td>\n",
       "      <td id=\"T_fe930_row0_col2\" class=\"data row0 col2\" >105.7440</td>\n",
       "      <td id=\"T_fe930_row0_col3\" class=\"data row0 col3\" >9.6295</td>\n",
       "      <td id=\"T_fe930_row0_col4\" class=\"data row0 col4\" >0.9871</td>\n",
       "      <td id=\"T_fe930_row0_col5\" class=\"data row0 col5\" >0.0461</td>\n",
       "      <td id=\"T_fe930_row0_col6\" class=\"data row0 col6\" >0.0316</td>\n",
       "      <td id=\"T_fe930_row0_col7\" class=\"data row0 col7\" >0.0550</td>\n",
       "    </tr>\n",
       "    <tr>\n",
       "      <th id=\"T_fe930_level0_row1\" class=\"row_heading level0 row1\" >rf</th>\n",
       "      <td id=\"T_fe930_row1_col0\" class=\"data row1 col0\" >Random Forest Regressor</td>\n",
       "      <td id=\"T_fe930_row1_col1\" class=\"data row1 col1\" >4.6197</td>\n",
       "      <td id=\"T_fe930_row1_col2\" class=\"data row1 col2\" >230.2905</td>\n",
       "      <td id=\"T_fe930_row1_col3\" class=\"data row1 col3\" >14.0009</td>\n",
       "      <td id=\"T_fe930_row1_col4\" class=\"data row1 col4\" >0.9725</td>\n",
       "      <td id=\"T_fe930_row1_col5\" class=\"data row1 col5\" >0.0706</td>\n",
       "      <td id=\"T_fe930_row1_col6\" class=\"data row1 col6\" >0.0295</td>\n",
       "      <td id=\"T_fe930_row1_col7\" class=\"data row1 col7\" >0.1250</td>\n",
       "    </tr>\n",
       "    <tr>\n",
       "      <th id=\"T_fe930_level0_row2\" class=\"row_heading level0 row2\" >et</th>\n",
       "      <td id=\"T_fe930_row2_col0\" class=\"data row2 col0\" >Extra Trees Regressor</td>\n",
       "      <td id=\"T_fe930_row2_col1\" class=\"data row2 col1\" >4.6845</td>\n",
       "      <td id=\"T_fe930_row2_col2\" class=\"data row2 col2\" >262.2502</td>\n",
       "      <td id=\"T_fe930_row2_col3\" class=\"data row2 col3\" >14.9888</td>\n",
       "      <td id=\"T_fe930_row2_col4\" class=\"data row2 col4\" >0.9687</td>\n",
       "      <td id=\"T_fe930_row2_col5\" class=\"data row2 col5\" >0.0716</td>\n",
       "      <td id=\"T_fe930_row2_col6\" class=\"data row2 col6\" >0.0298</td>\n",
       "      <td id=\"T_fe930_row2_col7\" class=\"data row2 col7\" >0.1090</td>\n",
       "    </tr>\n",
       "    <tr>\n",
       "      <th id=\"T_fe930_level0_row3\" class=\"row_heading level0 row3\" >lightgbm</th>\n",
       "      <td id=\"T_fe930_row3_col0\" class=\"data row3 col0\" >Light Gradient Boosting Machine</td>\n",
       "      <td id=\"T_fe930_row3_col1\" class=\"data row3 col1\" >7.7734</td>\n",
       "      <td id=\"T_fe930_row3_col2\" class=\"data row3 col2\" >375.4188</td>\n",
       "      <td id=\"T_fe930_row3_col3\" class=\"data row3 col3\" >18.4806</td>\n",
       "      <td id=\"T_fe930_row3_col4\" class=\"data row3 col4\" >0.9541</td>\n",
       "      <td id=\"T_fe930_row3_col5\" class=\"data row3 col5\" >0.1091</td>\n",
       "      <td id=\"T_fe930_row3_col6\" class=\"data row3 col6\" >0.0615</td>\n",
       "      <td id=\"T_fe930_row3_col7\" class=\"data row3 col7\" >0.0240</td>\n",
       "    </tr>\n",
       "    <tr>\n",
       "      <th id=\"T_fe930_level0_row4\" class=\"row_heading level0 row4\" >dt</th>\n",
       "      <td id=\"T_fe930_row4_col0\" class=\"data row4 col0\" >Decision Tree Regressor</td>\n",
       "      <td id=\"T_fe930_row4_col1\" class=\"data row4 col1\" >6.4847</td>\n",
       "      <td id=\"T_fe930_row4_col2\" class=\"data row4 col2\" >421.2997</td>\n",
       "      <td id=\"T_fe930_row4_col3\" class=\"data row4 col3\" >19.6363</td>\n",
       "      <td id=\"T_fe930_row4_col4\" class=\"data row4 col4\" >0.9451</td>\n",
       "      <td id=\"T_fe930_row4_col5\" class=\"data row4 col5\" >0.0922</td>\n",
       "      <td id=\"T_fe930_row4_col6\" class=\"data row4 col6\" >0.0372</td>\n",
       "      <td id=\"T_fe930_row4_col7\" class=\"data row4 col7\" >0.0040</td>\n",
       "    </tr>\n",
       "    <tr>\n",
       "      <th id=\"T_fe930_level0_row5\" class=\"row_heading level0 row5\" >lasso</th>\n",
       "      <td id=\"T_fe930_row5_col0\" class=\"data row5 col0\" >Lasso Regression</td>\n",
       "      <td id=\"T_fe930_row5_col1\" class=\"data row5 col1\" >16.3730</td>\n",
       "      <td id=\"T_fe930_row5_col2\" class=\"data row5 col2\" >768.4158</td>\n",
       "      <td id=\"T_fe930_row5_col3\" class=\"data row5 col3\" >27.2315</td>\n",
       "      <td id=\"T_fe930_row5_col4\" class=\"data row5 col4\" >0.9019</td>\n",
       "      <td id=\"T_fe930_row5_col5\" class=\"data row5 col5\" >0.2929</td>\n",
       "      <td id=\"T_fe930_row5_col6\" class=\"data row5 col6\" >0.1639</td>\n",
       "      <td id=\"T_fe930_row5_col7\" class=\"data row5 col7\" >0.0050</td>\n",
       "    </tr>\n",
       "    <tr>\n",
       "      <th id=\"T_fe930_level0_row6\" class=\"row_heading level0 row6\" >br</th>\n",
       "      <td id=\"T_fe930_row6_col0\" class=\"data row6 col0\" >Bayesian Ridge</td>\n",
       "      <td id=\"T_fe930_row6_col1\" class=\"data row6 col1\" >16.5175</td>\n",
       "      <td id=\"T_fe930_row6_col2\" class=\"data row6 col2\" >762.2795</td>\n",
       "      <td id=\"T_fe930_row6_col3\" class=\"data row6 col3\" >27.2132</td>\n",
       "      <td id=\"T_fe930_row6_col4\" class=\"data row6 col4\" >0.9017</td>\n",
       "      <td id=\"T_fe930_row6_col5\" class=\"data row6 col5\" >0.3007</td>\n",
       "      <td id=\"T_fe930_row6_col6\" class=\"data row6 col6\" >0.1662</td>\n",
       "      <td id=\"T_fe930_row6_col7\" class=\"data row6 col7\" >0.0050</td>\n",
       "    </tr>\n",
       "    <tr>\n",
       "      <th id=\"T_fe930_level0_row7\" class=\"row_heading level0 row7\" >ridge</th>\n",
       "      <td id=\"T_fe930_row7_col0\" class=\"data row7 col0\" >Ridge Regression</td>\n",
       "      <td id=\"T_fe930_row7_col1\" class=\"data row7 col1\" >16.5806</td>\n",
       "      <td id=\"T_fe930_row7_col2\" class=\"data row7 col2\" >765.7958</td>\n",
       "      <td id=\"T_fe930_row7_col3\" class=\"data row7 col3\" >27.2926</td>\n",
       "      <td id=\"T_fe930_row7_col4\" class=\"data row7 col4\" >0.9010</td>\n",
       "      <td id=\"T_fe930_row7_col5\" class=\"data row7 col5\" >0.3075</td>\n",
       "      <td id=\"T_fe930_row7_col6\" class=\"data row7 col6\" >0.1673</td>\n",
       "      <td id=\"T_fe930_row7_col7\" class=\"data row7 col7\" >0.0040</td>\n",
       "    </tr>\n",
       "    <tr>\n",
       "      <th id=\"T_fe930_level0_row8\" class=\"row_heading level0 row8\" >lr</th>\n",
       "      <td id=\"T_fe930_row8_col0\" class=\"data row8 col0\" >Linear Regression</td>\n",
       "      <td id=\"T_fe930_row8_col1\" class=\"data row8 col1\" >16.6404</td>\n",
       "      <td id=\"T_fe930_row8_col2\" class=\"data row8 col2\" >769.5395</td>\n",
       "      <td id=\"T_fe930_row8_col3\" class=\"data row8 col3\" >27.3678</td>\n",
       "      <td id=\"T_fe930_row8_col4\" class=\"data row8 col4\" >0.9005</td>\n",
       "      <td id=\"T_fe930_row8_col5\" class=\"data row8 col5\" >0.3111</td>\n",
       "      <td id=\"T_fe930_row8_col6\" class=\"data row8 col6\" >0.1681</td>\n",
       "      <td id=\"T_fe930_row8_col7\" class=\"data row8 col7\" >0.4650</td>\n",
       "    </tr>\n",
       "    <tr>\n",
       "      <th id=\"T_fe930_level0_row9\" class=\"row_heading level0 row9\" >omp</th>\n",
       "      <td id=\"T_fe930_row9_col0\" class=\"data row9 col0\" >Orthogonal Matching Pursuit</td>\n",
       "      <td id=\"T_fe930_row9_col1\" class=\"data row9 col1\" >16.4548</td>\n",
       "      <td id=\"T_fe930_row9_col2\" class=\"data row9 col2\" >793.1172</td>\n",
       "      <td id=\"T_fe930_row9_col3\" class=\"data row9 col3\" >27.7398</td>\n",
       "      <td id=\"T_fe930_row9_col4\" class=\"data row9 col4\" >0.8983</td>\n",
       "      <td id=\"T_fe930_row9_col5\" class=\"data row9 col5\" >0.3220</td>\n",
       "      <td id=\"T_fe930_row9_col6\" class=\"data row9 col6\" >0.1684</td>\n",
       "      <td id=\"T_fe930_row9_col7\" class=\"data row9 col7\" >0.0040</td>\n",
       "    </tr>\n",
       "    <tr>\n",
       "      <th id=\"T_fe930_level0_row10\" class=\"row_heading level0 row10\" >huber</th>\n",
       "      <td id=\"T_fe930_row10_col0\" class=\"data row10 col0\" >Huber Regressor</td>\n",
       "      <td id=\"T_fe930_row10_col1\" class=\"data row10 col1\" >15.3825</td>\n",
       "      <td id=\"T_fe930_row10_col2\" class=\"data row10 col2\" >804.7633</td>\n",
       "      <td id=\"T_fe930_row10_col3\" class=\"data row10 col3\" >27.7472</td>\n",
       "      <td id=\"T_fe930_row10_col4\" class=\"data row10 col4\" >0.8976</td>\n",
       "      <td id=\"T_fe930_row10_col5\" class=\"data row10 col5\" >0.1776</td>\n",
       "      <td id=\"T_fe930_row10_col6\" class=\"data row10 col6\" >0.1316</td>\n",
       "      <td id=\"T_fe930_row10_col7\" class=\"data row10 col7\" >0.0100</td>\n",
       "    </tr>\n",
       "    <tr>\n",
       "      <th id=\"T_fe930_level0_row11\" class=\"row_heading level0 row11\" >ada</th>\n",
       "      <td id=\"T_fe930_row11_col0\" class=\"data row11 col0\" >AdaBoost Regressor</td>\n",
       "      <td id=\"T_fe930_row11_col1\" class=\"data row11 col1\" >22.9688</td>\n",
       "      <td id=\"T_fe930_row11_col2\" class=\"data row11 col2\" >897.8313</td>\n",
       "      <td id=\"T_fe930_row11_col3\" class=\"data row11 col3\" >29.6711</td>\n",
       "      <td id=\"T_fe930_row11_col4\" class=\"data row11 col4\" >0.8809</td>\n",
       "      <td id=\"T_fe930_row11_col5\" class=\"data row11 col5\" >0.3142</td>\n",
       "      <td id=\"T_fe930_row11_col6\" class=\"data row11 col6\" >0.3063</td>\n",
       "      <td id=\"T_fe930_row11_col7\" class=\"data row11 col7\" >0.0420</td>\n",
       "    </tr>\n",
       "    <tr>\n",
       "      <th id=\"T_fe930_level0_row12\" class=\"row_heading level0 row12\" >en</th>\n",
       "      <td id=\"T_fe930_row12_col0\" class=\"data row12 col0\" >Elastic Net</td>\n",
       "      <td id=\"T_fe930_row12_col1\" class=\"data row12 col1\" >19.9123</td>\n",
       "      <td id=\"T_fe930_row12_col2\" class=\"data row12 col2\" >1086.5307</td>\n",
       "      <td id=\"T_fe930_row12_col3\" class=\"data row12 col3\" >32.3166</td>\n",
       "      <td id=\"T_fe930_row12_col4\" class=\"data row12 col4\" >0.8633</td>\n",
       "      <td id=\"T_fe930_row12_col5\" class=\"data row12 col5\" >0.2267</td>\n",
       "      <td id=\"T_fe930_row12_col6\" class=\"data row12 col6\" >0.1847</td>\n",
       "      <td id=\"T_fe930_row12_col7\" class=\"data row12 col7\" >0.0040</td>\n",
       "    </tr>\n",
       "    <tr>\n",
       "      <th id=\"T_fe930_level0_row13\" class=\"row_heading level0 row13\" >par</th>\n",
       "      <td id=\"T_fe930_row13_col0\" class=\"data row13 col0\" >Passive Aggressive Regressor</td>\n",
       "      <td id=\"T_fe930_row13_col1\" class=\"data row13 col1\" >26.0225</td>\n",
       "      <td id=\"T_fe930_row13_col2\" class=\"data row13 col2\" >1734.7292</td>\n",
       "      <td id=\"T_fe930_row13_col3\" class=\"data row13 col3\" >38.1512</td>\n",
       "      <td id=\"T_fe930_row13_col4\" class=\"data row13 col4\" >0.7722</td>\n",
       "      <td id=\"T_fe930_row13_col5\" class=\"data row13 col5\" >0.3922</td>\n",
       "      <td id=\"T_fe930_row13_col6\" class=\"data row13 col6\" >0.2503</td>\n",
       "      <td id=\"T_fe930_row13_col7\" class=\"data row13 col7\" >0.0110</td>\n",
       "    </tr>\n",
       "    <tr>\n",
       "      <th id=\"T_fe930_level0_row14\" class=\"row_heading level0 row14\" >knn</th>\n",
       "      <td id=\"T_fe930_row14_col0\" class=\"data row14 col0\" >K Neighbors Regressor</td>\n",
       "      <td id=\"T_fe930_row14_col1\" class=\"data row14 col1\" >23.6112</td>\n",
       "      <td id=\"T_fe930_row14_col2\" class=\"data row14 col2\" >1794.4314</td>\n",
       "      <td id=\"T_fe930_row14_col3\" class=\"data row14 col3\" >41.4194</td>\n",
       "      <td id=\"T_fe930_row14_col4\" class=\"data row14 col4\" >0.7699</td>\n",
       "      <td id=\"T_fe930_row14_col5\" class=\"data row14 col5\" >0.2692</td>\n",
       "      <td id=\"T_fe930_row14_col6\" class=\"data row14 col6\" >0.2044</td>\n",
       "      <td id=\"T_fe930_row14_col7\" class=\"data row14 col7\" >0.0060</td>\n",
       "    </tr>\n",
       "    <tr>\n",
       "      <th id=\"T_fe930_level0_row15\" class=\"row_heading level0 row15\" >llar</th>\n",
       "      <td id=\"T_fe930_row15_col0\" class=\"data row15 col0\" >Lasso Least Angle Regression</td>\n",
       "      <td id=\"T_fe930_row15_col1\" class=\"data row15 col1\" >33.6997</td>\n",
       "      <td id=\"T_fe930_row15_col2\" class=\"data row15 col2\" >2847.3642</td>\n",
       "      <td id=\"T_fe930_row15_col3\" class=\"data row15 col3\" >52.5854</td>\n",
       "      <td id=\"T_fe930_row15_col4\" class=\"data row15 col4\" >0.6376</td>\n",
       "      <td id=\"T_fe930_row15_col5\" class=\"data row15 col5\" >0.3636</td>\n",
       "      <td id=\"T_fe930_row15_col6\" class=\"data row15 col6\" >0.3544</td>\n",
       "      <td id=\"T_fe930_row15_col7\" class=\"data row15 col7\" >0.0040</td>\n",
       "    </tr>\n",
       "    <tr>\n",
       "      <th id=\"T_fe930_level0_row16\" class=\"row_heading level0 row16\" >dummy</th>\n",
       "      <td id=\"T_fe930_row16_col0\" class=\"data row16 col0\" >Dummy Regressor</td>\n",
       "      <td id=\"T_fe930_row16_col1\" class=\"data row16 col1\" >61.1097</td>\n",
       "      <td id=\"T_fe930_row16_col2\" class=\"data row16 col2\" >7798.8875</td>\n",
       "      <td id=\"T_fe930_row16_col3\" class=\"data row16 col3\" >87.7702</td>\n",
       "      <td id=\"T_fe930_row16_col4\" class=\"data row16 col4\" >-0.0138</td>\n",
       "      <td id=\"T_fe930_row16_col5\" class=\"data row16 col5\" >0.6400</td>\n",
       "      <td id=\"T_fe930_row16_col6\" class=\"data row16 col6\" >0.6885</td>\n",
       "      <td id=\"T_fe930_row16_col7\" class=\"data row16 col7\" >0.0060</td>\n",
       "    </tr>\n",
       "    <tr>\n",
       "      <th id=\"T_fe930_level0_row17\" class=\"row_heading level0 row17\" >lar</th>\n",
       "      <td id=\"T_fe930_row17_col0\" class=\"data row17 col0\" >Least Angle Regression</td>\n",
       "      <td id=\"T_fe930_row17_col1\" class=\"data row17 col1\" >404.0001</td>\n",
       "      <td id=\"T_fe930_row17_col2\" class=\"data row17 col2\" >149867546.3639</td>\n",
       "      <td id=\"T_fe930_row17_col3\" class=\"data row17 col3\" >3895.9863</td>\n",
       "      <td id=\"T_fe930_row17_col4\" class=\"data row17 col4\" >-15713.0055</td>\n",
       "      <td id=\"T_fe930_row17_col5\" class=\"data row17 col5\" >0.3785</td>\n",
       "      <td id=\"T_fe930_row17_col6\" class=\"data row17 col6\" >4.2635</td>\n",
       "      <td id=\"T_fe930_row17_col7\" class=\"data row17 col7\" >0.0120</td>\n",
       "    </tr>\n",
       "  </tbody>\n",
       "</table>\n"
      ],
      "text/plain": [
       "<pandas.io.formats.style.Styler at 0x1aeb1d25310>"
      ]
     },
     "metadata": {},
     "output_type": "display_data"
    },
    {
     "name": "stdout",
     "output_type": "stream",
     "text": [
      "GradientBoostingRegressor(alpha=0.9, ccp_alpha=0.0, criterion='friedman_mse',\n",
      "                          init=None, learning_rate=0.1, loss='ls', max_depth=3,\n",
      "                          max_features=None, max_leaf_nodes=None,\n",
      "                          min_impurity_decrease=0.0, min_impurity_split=None,\n",
      "                          min_samples_leaf=1, min_samples_split=2,\n",
      "                          min_weight_fraction_leaf=0.0, n_estimators=100,\n",
      "                          n_iter_no_change=None, presort='deprecated',\n",
      "                          random_state=8332, subsample=1.0, tol=0.0001,\n",
      "                          validation_fraction=0.1, verbose=0, warm_start=False)\n"
     ]
    }
   ],
   "source": [
    "setup(data=train_data,target='price')\n",
    "results=compare_models()\n",
    "print(results)"
   ]
  },
  {
   "cell_type": "markdown",
   "id": "5fe26202",
   "metadata": {},
   "source": [
    "We can see that tree based algorithms perform well on our data. We'll keep ExtraTreesRegressor as our tree based baseline model. We'll also select the 2 best linear models to see if we can improve predictions when associated to the baseline model"
   ]
  },
  {
   "cell_type": "markdown",
   "id": "a80c52e7",
   "metadata": {},
   "source": [
    "# 3. Baseline Model"
   ]
  },
  {
   "cell_type": "code",
   "execution_count": 28,
   "id": "7389ada2",
   "metadata": {},
   "outputs": [],
   "source": [
    "from sklearn.ensemble import ExtraTreesRegressor"
   ]
  },
  {
   "cell_type": "markdown",
   "id": "17997321",
   "metadata": {},
   "source": [
    "##### We use the paramters from pycaret as tree based models are not easy to tune."
   ]
  },
  {
   "cell_type": "code",
   "execution_count": 29,
   "id": "5769a8fd",
   "metadata": {},
   "outputs": [],
   "source": [
    "baseline_model=ExtraTreesRegressor(bootstrap=False, ccp_alpha=0.0, criterion='mse',\n",
    "                    max_depth=None, max_features='auto', max_leaf_nodes=None,\n",
    "                    max_samples=None, min_impurity_decrease=0.0,\n",
    "                    min_impurity_split=None, min_samples_leaf=1,\n",
    "                    min_samples_split=2, min_weight_fraction_leaf=0.0,\n",
    "                    n_estimators=100, n_jobs=-1, oob_score=False,\n",
    "                    random_state=1499, verbose=0, warm_start=False)"
   ]
  },
  {
   "cell_type": "code",
   "execution_count": 30,
   "id": "cb52db5d",
   "metadata": {},
   "outputs": [
    {
     "data": {
      "text/plain": [
       "ExtraTreesRegressor(bootstrap=False, ccp_alpha=0.0, criterion='mse',\n",
       "                    max_depth=None, max_features='auto', max_leaf_nodes=None,\n",
       "                    max_samples=None, min_impurity_decrease=0.0,\n",
       "                    min_impurity_split=None, min_samples_leaf=1,\n",
       "                    min_samples_split=2, min_weight_fraction_leaf=0.0,\n",
       "                    n_estimators=100, n_jobs=-1, oob_score=False,\n",
       "                    random_state=1499, verbose=0, warm_start=False)"
      ]
     },
     "execution_count": 30,
     "metadata": {},
     "output_type": "execute_result"
    }
   ],
   "source": [
    "baseline_model.fit(X_train_scaled, y_train)"
   ]
  },
  {
   "cell_type": "code",
   "execution_count": 31,
   "id": "b6db13f9",
   "metadata": {},
   "outputs": [],
   "source": [
    "y_pred=baseline_model.predict(X_test_scaled)"
   ]
  },
  {
   "cell_type": "code",
   "execution_count": 32,
   "id": "7c652523",
   "metadata": {
    "scrolled": true
   },
   "outputs": [
    {
     "name": "stdout",
     "output_type": "stream",
     "text": [
      "0.9481187398443469\n"
     ]
    }
   ],
   "source": [
    "from sklearn.metrics import r2_score\n",
    "score = r2_score(y_test, y_pred)\n",
    "print(score)"
   ]
  },
  {
   "cell_type": "code",
   "execution_count": 33,
   "id": "a7235375",
   "metadata": {},
   "outputs": [
    {
     "name": "stdout",
     "output_type": "stream",
     "text": [
      "149.0 ----- 148.2930158730158 ----- 0.7069841269841959\n",
      "136.28571428571428 ----- 139.30142857142854 ----- -3.0157142857142674\n",
      "159.0 ----- 159.95523809523803 ----- -0.9552380952380304\n",
      "34.42857142857143 ----- 34.12047619047619 ----- 0.3080952380952411\n",
      "76.0 ----- 76.14904761904764 ----- -0.14904761904763575\n",
      "66.71428571428571 ----- 66.70142857142856 ----- 0.012857142857143344\n",
      "194.28571428571428 ----- 196.7038095238096 ----- -2.418095238095333\n",
      "237.7142857142857 ----- 242.87428571428572 ----- -5.160000000000025\n",
      "137.0 ----- 136.93857142857144 ----- 0.06142857142856428\n",
      "219.0 ----- 218.0014285714285 ----- 0.9985714285714948\n",
      "70.28571428571429 ----- 72.3012698412699 ----- -2.0155555555556077\n",
      "108.71428571428572 ----- 110.03015873015869 ----- -1.3158730158729668\n",
      "58.888888888888886 ----- 58.85714285714285 ----- 0.03174603174603874\n",
      "62.85714285714285 ----- 62.85857142857145 ----- -0.0014285714286046414\n",
      "87.14285714285714 ----- 87.1185714285715 ----- 0.024285714285639415\n",
      "398.8571428571428 ----- 415.71111111111117 ----- -16.85396825396839\n",
      "97.14285714285714 ----- 97.20253968253972 ----- -0.059682539682583524\n",
      "61.142857142857146 ----- 61.14999999999996 ----- -0.0071428571428171495\n",
      "524.4285714285714 ----- 413.0242857142858 ----- 111.40428571428566\n",
      "79.71428571428571 ----- 79.42238095238098 ----- 0.2919047619047319\n",
      "42.71428571428572 ----- 42.64269841269837 ----- 0.07158730158734983\n",
      "70.14285714285714 ----- 69.84142857142851 ----- 0.3014285714286302\n",
      "58.42857142857143 ----- 58.43523809523815 ----- -0.006666666666717447\n",
      "86.42857142857143 ----- 86.41571428571424 ----- 0.012857142857185977\n",
      "169.0 ----- 170.61650793650784 ----- -1.616507936507844\n",
      "91.14285714285714 ----- 91.22777777777776 ----- -0.0849206349206213\n",
      "56.42857142857143 ----- 55.35333333333336 ----- 1.0752380952380705\n",
      "267.7142857142857 ----- 262.14079365079374 ----- 5.573492063491983\n",
      "132.0 ----- 132.13428571428568 ----- -0.13428571428568148\n",
      "90.0 ----- 90.53793650793651 ----- -0.5379365079365073\n",
      "90.14285714285714 ----- 90.07428571428574 ----- 0.06857142857140275\n",
      "66.85714285714286 ----- 67.53952380952379 ----- -0.6823809523809246\n",
      "52.57142857142857 ----- 53.8228571428571 ----- -1.2514285714285336\n",
      "204.77777777777777 ----- 202.17000000000007 ----- 2.6077777777776987\n",
      "64.28571428571429 ----- 64.27428571428581 ----- 0.01142857142848186\n",
      "83.28571428571429 ----- 83.2801587301588 ----- 0.0055555555554889224\n",
      "58.42857142857143 ----- 57.92428571428576 ----- 0.5042857142856718\n",
      "85.71428571428571 ----- 85.88714285714288 ----- -0.17285714285716836\n",
      "65.42857142857143 ----- 65.3604761904762 ----- 0.06809523809522489\n",
      "162.57142857142858 ----- 161.03555555555567 ----- 1.5358730158729088\n",
      "62.142857142857146 ----- 62.15968253968254 ----- -0.01682539682539641\n",
      "35.714285714285715 ----- 35.71333333333334 ----- 0.000952380952377041\n",
      "91.33333333333331 ----- 93.35428571428577 ----- -2.020952380952451\n",
      "76.0 ----- 75.92380952380951 ----- 0.07619047619049013\n",
      "36.85714285714285 ----- 36.742857142857126 ----- 0.11428571428572099\n",
      "222.14285714285717 ----- 210.70285714285717 ----- 11.439999999999998\n",
      "47.285714285714285 ----- 45.25761904761904 ----- 2.028095238095247\n",
      "167.14285714285714 ----- 170.48555555555566 ----- -3.3426984126985246\n",
      "119.14285714285714 ----- 119.1026984126985 ----- 0.04015873015863747\n",
      "125.33333333333331 ----- 133.17952380952383 ----- -7.846190476190515\n",
      "79.42857142857143 ----- 79.54190476190489 ----- -0.11333333333345763\n",
      "100.57142857142856 ----- 99.30412698412704 ----- 1.2673015873015174\n",
      "273.42857142857144 ----- 274.33904761904745 ----- -0.9104761904760039\n",
      "76.42857142857143 ----- 77.03571428571435 ----- -0.607142857142918\n",
      "109.42857142857144 ----- 109.98666666666662 ----- -0.5580952380951771\n",
      "65.33333333333333 ----- 65.53936507936508 ----- -0.2060317460317549\n",
      "217.42857142857144 ----- 217.9082539682539 ----- -0.4796825396824431\n",
      "143.42857142857142 ----- 143.49571428571423 ----- -0.06714285714281232\n",
      "57.57142857142857 ----- 57.58142857142852 ----- -0.009999999999948272\n",
      "122.0 ----- 121.53857142857136 ----- 0.461428571428641\n",
      "76.14285714285714 ----- 76.12539682539688 ----- 0.01746031746026233\n",
      "70.28571428571429 ----- 70.3571428571428 ----- -0.07142857142851256\n",
      "85.42857142857143 ----- 85.80666666666659 ----- -0.3780952380951561\n",
      "84.42857142857143 ----- 84.56857142857143 ----- -0.14000000000000057\n",
      "30.33333333333333 ----- 30.144761904761914 ----- 0.1885714285714144\n",
      "76.0 ----- 75.97285714285714 ----- 0.02714285714286291\n",
      "136.42857142857142 ----- 137.21349206349197 ----- -0.7849206349205531\n",
      "63.42857142857143 ----- 63.633015873015935 ----- -0.20444444444450482\n",
      "116.42857142857144 ----- 116.11396825396821 ----- 0.31460317460323495\n",
      "55.42857142857143 ----- 55.40460317460321 ----- 0.023968253968220665\n",
      "105.0 ----- 105.20507936507937 ----- -0.20507936507937075\n",
      "216.57142857142856 ----- 221.03428571428577 ----- -4.462857142857217\n",
      "135.85714285714286 ----- 135.80857142857153 ----- 0.04857142857133567\n",
      "125.85714285714286 ----- 121.42603174603177 ----- 4.431111111111093\n",
      "333.2857142857143 ----- 324.9042857142855 ----- 8.381428571428785\n",
      "119.57142857142856 ----- 119.31857142857145 ----- 0.2528571428571098\n",
      "231.8571428571429 ----- 229.77476190476187 ----- 2.0823809523810155\n",
      "72.0 ----- 72.36984126984119 ----- -0.3698412698411886\n",
      "96.57142857142856 ----- 96.42063492063488 ----- 0.15079365079367335\n",
      "53.57142857142857 ----- 53.51619047619043 ----- 0.055238095238138385\n",
      "68.28571428571429 ----- 68.44428571428566 ----- -0.15857142857136353\n",
      "81.85714285714286 ----- 80.65428571428576 ----- 1.2028571428570984\n",
      "206.0 ----- 202.9804761904762 ----- 3.019523809523804\n",
      "39.85714285714285 ----- 39.929523809523815 ----- -0.07238095238096776\n",
      "69.14285714285714 ----- 69.08190476190474 ----- 0.06095238095240063\n",
      "93.42857142857144 ----- 93.94444444444443 ----- -0.5158730158729838\n",
      "288.2857142857143 ----- 286.89555555555546 ----- 1.3901587301588165\n",
      "42.71428571428572 ----- 48.12000000000002 ----- -5.405714285714296\n",
      "94.0 ----- 94.05111111111118 ----- -0.05111111111118305\n",
      "76.57142857142857 ----- 76.58777777777783 ----- -0.01634920634926118\n",
      "107.33333333333331 ----- 108.75841269841267 ----- -1.4250793650793554\n",
      "166.71428571428572 ----- 167.17428571428587 ----- -0.46000000000015007\n",
      "48.0 ----- 51.891428571428584 ----- -3.891428571428584\n",
      "67.57142857142857 ----- 67.6 ----- -0.028571428571424917\n",
      "94.42857142857144 ----- 101.65333333333334 ----- -7.224761904761891\n",
      "89.0 ----- 89.53968253968253 ----- -0.5396825396825307\n",
      "96.14285714285714 ----- 96.08777777777782 ----- 0.05507936507932243\n",
      "80.85714285714286 ----- 80.81999999999998 ----- 0.037142857142882235\n",
      "98.0 ----- 97.88507936507945 ----- 0.11492063492055138\n",
      "77.0 ----- 76.78000000000002 ----- 0.21999999999998465\n",
      "57.888888888888886 ----- 57.9485714285714 ----- -0.05968253968251247\n",
      "212.28571428571428 ----- 213.4909523809526 ----- -1.2052380952383146\n",
      "100.14285714285714 ----- 100.42476190476202 ----- -0.2819047619048831\n",
      "95.14285714285714 ----- 95.29460317460318 ----- -0.1517460317460433\n",
      "143.85714285714286 ----- 146.83285714285705 ----- -2.97571428571419\n",
      "41.57142857142857 ----- 41.55190476190474 ----- 0.01952380952383237\n",
      "103.0 ----- 102.83968253968261 ----- 0.16031746031738692\n",
      "139.0 ----- 140.03285714285718 ----- -1.032857142857182\n",
      "40.333333333333336 ----- 40.24857142857146 ----- 0.0847619047618764\n",
      "101.57142857142856 ----- 101.82365079365077 ----- -0.25222222222221546\n",
      "61.0 ----- 60.97428571428571 ----- 0.02571428571428669\n",
      "54.85714285714285 ----- 54.82460317460317 ----- 0.03253968253967798\n",
      "72.66666666666667 ----- 72.61682539682538 ----- 0.04984126984129489\n",
      "113.14285714285714 ----- 112.87142857142851 ----- 0.2714285714286291\n",
      "58.57142857142857 ----- 58.65523809523812 ----- -0.08380952380954909\n",
      "274.3333333333333 ----- 254.80174603174618 ----- 19.531587301587138\n",
      "69.71428571428571 ----- 69.71460317460314 ----- -0.00031746031743296044\n",
      "63.42857142857143 ----- 63.4485714285715 ----- -0.020000000000067075\n",
      "66.44444444444444 ----- 66.11634920634921 ----- 0.32809523809523\n",
      "83.33333333333333 ----- 83.36460317460323 ----- -0.03126984126990351\n",
      "65.85714285714286 ----- 66.65571428571435 ----- -0.798571428571492\n",
      "394.57142857142856 ----- 428.63126984126984 ----- -34.059841269841286\n",
      "63.42857142857143 ----- 63.80666666666664 ----- -0.37809523809521295\n",
      "168.0 ----- 165.74428571428587 ----- 2.2557142857141343\n",
      "64.28571428571429 ----- 64.68571428571435 ----- -0.40000000000006253\n",
      "70.28571428571429 ----- 76.51428571428578 ----- -6.228571428571485\n",
      "103.28571428571428 ----- 206.01428571428562 ----- -102.72857142857134\n",
      "59.85714285714285 ----- 59.83460317460316 ----- 0.022539682539687078\n",
      "204.57142857142856 ----- 207.94365079365087 ----- -3.3722222222223195\n",
      "45.142857142857146 ----- 44.88095238095242 ----- 0.26190476190472367\n",
      "136.42857142857142 ----- 136.70000000000005 ----- -0.2714285714286291\n",
      "70.0 ----- 70.05365079365083 ----- -0.053650793650831474\n",
      "65.57142857142857 ----- 65.61285714285717 ----- -0.04142857142859668\n",
      "64.66666666666667 ----- 64.67809523809515 ----- -0.01142857142848186\n",
      "64.33333333333333 ----- 64.06571428571424 ----- 0.2676190476190925\n",
      "120.71428571428572 ----- 120.89428571428576 ----- -0.18000000000003524\n",
      "119.57142857142856 ----- 119.68269841269843 ----- -0.11126984126987338\n",
      "92.28571428571428 ----- 92.26047619047614 ----- 0.025238095238137248\n",
      "210.42857142857144 ----- 211.61365079365092 ----- -1.1850793650794742\n",
      "59.42857142857143 ----- 59.43936507936509 ----- -0.010793650793658571\n",
      "85.55555555555556 ----- 86.07095238095242 ----- -0.5153968253968628\n",
      "91.14285714285714 ----- 90.5888888888889 ----- 0.553968253968236\n",
      "40.42857142857143 ----- 40.3998412698413 ----- 0.028730158730127187\n",
      "35.285714285714285 ----- 34.992857142857154 ----- 0.29285714285713027\n",
      "208.0 ----- 200.60634920634922 ----- 7.393650793650778\n",
      "78.71428571428571 ----- 79.70476190476194 ----- -0.9904761904762296\n",
      "47.71428571428572 ----- 47.752380952380925 ----- -0.03809523809520243\n",
      "49.57142857142857 ----- 49.53809523809521 ----- 0.03333333333335986\n",
      "160.85714285714286 ----- 163.5849206349208 ----- -2.7277777777779306\n",
      "71.85714285714286 ----- 70.42603174603173 ----- 1.4311111111111359\n",
      "38.285714285714285 ----- 38.26476190476191 ----- 0.020952380952373062\n",
      "60.85714285714285 ----- 60.914761904761896 ----- -0.05761904761904901\n",
      "53.42857142857143 ----- 53.37999999999995 ----- 0.04857142857147778\n",
      "132.57142857142858 ----- 137.7092063492063 ----- -5.137777777777728\n",
      "40.66666666666666 ----- 40.67714285714281 ----- -0.010476190476154557\n",
      "46.66666666666666 ----- 46.614285714285714 ----- 0.05238095238094331\n",
      "147.33333333333334 ----- 149.57825396825405 ----- -2.244920634920703\n",
      "131.71428571428572 ----- 143.16888888888892 ----- -11.454603174603193\n",
      "78.66666666666667 ----- 78.38714285714288 ----- 0.27952380952379485\n",
      "110.42857142857144 ----- 110.52666666666659 ----- -0.09809523809514076\n",
      "59.0 ----- 58.938571428571464 ----- 0.06142857142853586\n",
      "374.1428571428572 ----- 349.98365079365067 ----- 24.159206349206556\n",
      "89.71428571428571 ----- 89.20571428571428 ----- 0.5085714285714289\n",
      "90.42857142857144 ----- 229.0322222222223 ----- -138.60365079365084\n",
      "57.57142857142857 ----- 57.56571428571422 ----- 0.005714285714347511\n",
      "115.85714285714286 ----- 114.76349206349214 ----- 1.093650793650724\n",
      "53.85714285714285 ----- 53.7826984126984 ----- 0.07444444444444542\n",
      "73.14285714285714 ----- 73.13920634920635 ----- 0.003650793650791684\n",
      "253.0 ----- 256.9468253968253 ----- -3.946825396825318\n",
      "160.85714285714286 ----- 160.23634920634942 ----- 0.6207936507934448\n",
      "81.85714285714286 ----- 81.91206349206351 ----- -0.05492063492064858\n",
      "98.0 ----- 97.98904761904761 ----- 0.010952380952389262\n",
      "62.85714285714285 ----- 62.86539682539682 ----- -0.00825396825397462\n",
      "76.28571428571429 ----- 76.26174603174609 ----- 0.023968253968206454\n",
      "156.28571428571428 ----- 155.1842857142858 ----- 1.101428571428471\n",
      "45.71428571428572 ----- 45.6147619047619 ----- 0.09952380952382356\n",
      "100.85714285714286 ----- 101.28396825396833 ----- -0.42682539682546405\n",
      "167.28571428571428 ----- 170.88809523809527 ----- -3.6023809523809973\n",
      "547.7142857142857 ----- 459.60015873015846 ----- 88.11412698412721\n",
      "168.42857142857142 ----- 158.44492063492058 ----- 9.983650793650838\n",
      "59.142857142857146 ----- 59.45952380952385 ----- -0.3166666666667055\n",
      "52.71428571428572 ----- 52.70158730158727 ----- 0.012698412698455286\n",
      "114.85714285714286 ----- 114.80238095238093 ----- 0.0547619047619321\n",
      "419.8571428571428 ----- 409.4276190476191 ----- 10.429523809523687\n",
      "107.85714285714286 ----- 107.93571428571438 ----- -0.07857142857152155\n",
      "66.85714285714286 ----- 67.26142857142855 ----- -0.4042857142856917\n",
      "59.66666666666666 ----- 59.66571428571423 ----- 0.000952380952426779\n",
      "43.22222222222222 ----- 43.17317460317459 ----- 0.04904761904763433\n",
      "101.57142857142856 ----- 101.13428571428568 ----- 0.4371428571428737\n",
      "96.57142857142856 ----- 96.54285714285714 ----- 0.028571428571410706\n",
      "304.85714285714283 ----- 292.64555555555563 ----- 12.211587301587201\n",
      "267.7142857142857 ----- 276.38285714285695 ----- -8.668571428571227\n",
      "909.1428571428572 ----- 606.6195238095236 ----- 302.52333333333365\n",
      "81.85714285714286 ----- 83.05238095238101 ----- -1.1952380952381532\n",
      "463.57142857142856 ----- 408.76031746031776 ----- 54.81111111111079\n",
      "51.85714285714285 ----- 51.87666666666664 ----- -0.019523809523789737\n",
      "218.7142857142857 ----- 218.22714285714287 ----- 0.48714285714282823\n",
      "52.57142857142857 ----- 52.609999999999935 ----- -0.038571428571366084\n",
      "126.11111111111111 ----- 128.22777777777773 ----- -2.1166666666666174\n",
      "41.0 ----- 43.0952380952381 ----- -2.095238095238102\n",
      "73.0 ----- 73.00555555555552 ----- -0.005555555555517344\n",
      "60.11111111111112 ----- 60.050476190476175 ----- 0.060634920634946354\n",
      "43.0 ----- 42.93476190476186 ----- 0.0652380952381435\n",
      "150.77777777777777 ----- 149.21571428571423 ----- 1.562063492063544\n",
      "51.85714285714285 ----- 51.85999999999997 ----- -0.0028571428571240176\n",
      "300.7142857142857 ----- 333.346507936508 ----- -32.63222222222225\n",
      "54.85714285714285 ----- 54.84999999999997 ----- 0.007142857142873993\n",
      "370.7142857142857 ----- 334.51555555555575 ----- 36.19873015872997\n",
      "54.42857142857143 ----- 54.40714285714291 ----- 0.021428571428522503\n",
      "82.57142857142857 ----- 82.45158730158738 ----- 0.11984126984118859\n",
      "571.5714285714286 ----- 477.4204761904758 ----- 94.15095238095273\n",
      "106.28571428571428 ----- 100.88301587301581 ----- 5.40269841269847\n",
      "148.0 ----- 151.5992063492063 ----- -3.5992063492062982\n",
      "33.666666666666664 ----- 33.429047619047644 ----- 0.2376190476190203\n",
      "124.14285714285714 ----- 122.00698412698408 ----- 2.1358730158730594\n",
      "74.85714285714286 ----- 74.81285714285714 ----- 0.0442857142857207\n",
      "219.28571428571428 ----- 221.8960317460317 ----- -2.610317460317418\n",
      "97.42857142857144 ----- 97.46492063492067 ----- -0.03634920634922878\n",
      "96.42857142857144 ----- 93.65380952380956 ----- 2.7747619047618883\n",
      "138.42857142857142 ----- 142.23380952380938 ----- -3.805238095237968\n",
      "110.22222222222224 ----- 110.25428571428583 ----- -0.032063492063585386\n",
      "69.14285714285714 ----- 69.03000000000002 ----- 0.11285714285712345\n",
      "72.66666666666667 ----- 72.3695238095238 ----- 0.29714285714287314\n",
      "48.57142857142857 ----- 51.11761904761901 ----- -2.5461904761904393\n",
      "167.57142857142858 ----- 172.85587301587302 ----- -5.284444444444432\n",
      "70.28571428571429 ----- 70.82761904761908 ----- -0.5419047619047888\n",
      "66.71428571428571 ----- 66.71047619047614 ----- 0.0038095238095650075\n",
      "41.0 ----- 40.92603174603175 ----- 0.07396825396825335\n",
      "54.285714285714285 ----- 55.00428571428572 ----- -0.7185714285714369\n",
      "195.8571428571429 ----- 186.9949206349206 ----- 8.8622222222223\n",
      "101.28571428571428 ----- 102.11174603174615 ----- -0.8260317460318731\n",
      "173.0 ----- 171.22269841269835 ----- 1.7773015873016504\n",
      "79.85714285714286 ----- 80.0133333333334 ----- -0.15619047619054527\n",
      "69.71428571428571 ----- 70.33095238095235 ----- -0.6166666666666458\n",
      "88.85714285714286 ----- 89.02380952380949 ----- -0.16666666666662877\n",
      "36.333333333333336 ----- 36.44476190476188 ----- -0.11142857142854723\n",
      "54.285714285714285 ----- 54.13650793650794 ----- 0.14920634920634512\n",
      "105.28571428571428 ----- 108.99523809523815 ----- -3.7095238095238727\n",
      "107.42857142857144 ----- 104.81841269841263 ----- 2.6101587301588154\n",
      "127.14285714285714 ----- 137.90666666666664 ----- -10.763809523809499\n",
      "41.0 ----- 40.98682539682541 ----- 0.013174603174590516\n",
      "100.71428571428572 ----- 100.72190476190481 ----- -0.007619047619087382\n",
      "65.57142857142857 ----- 65.94714285714285 ----- -0.375714285714281\n",
      "38.42857142857143 ----- 38.44190476190477 ----- -0.013333333333342523\n",
      "108.66666666666669 ----- 121.05111111111113 ----- -12.38444444444444\n",
      "83.57142857142857 ----- 83.96285714285716 ----- -0.391428571428591\n",
      "89.0 ----- 88.74761904761912 ----- 0.2523809523808751\n",
      "122.0 ----- 120.91809523809523 ----- 1.0819047619047666\n",
      "107.28571428571428 ----- 106.37333333333328 ----- 0.9123809523809996\n",
      "59.333333333333336 ----- 59.30873015873021 ----- 0.02460317460312922\n",
      "111.57142857142856 ----- 111.82952380952378 ----- -0.2580952380952226\n",
      "99.28571428571428 ----- 98.68253968253964 ----- 0.6031746031746366\n",
      "45.142857142857146 ----- 45.140000000000036 ----- 0.0028571428571098068\n",
      "93.57142857142856 ----- 93.5625396825397 ----- 0.008888888888861857\n",
      "112.33333333333331 ----- 112.68285714285723 ----- -0.34952380952391593\n",
      "56.11111111111112 ----- 56.11031746031749 ----- 0.0007936507936321391\n",
      "279.6666666666667 ----- 262.2426984126983 ----- 17.423968253968383\n",
      "221.8571428571429 ----- 207.3906349206349 ----- 14.46650793650798\n",
      "86.28571428571429 ----- 86.38952380952384 ----- -0.10380952380954511\n",
      "111.0 ----- 101.39142857142856 ----- 9.608571428571437\n",
      "200.42857142857144 ----- 199.51777777777784 ----- 0.9107936507936074\n",
      "83.57142857142857 ----- 83.56952380952376 ----- 0.0019047619048109254\n",
      "61.71428571428572 ----- 61.73142857142848 ----- -0.017142857142758317\n",
      "83.0 ----- 83.03841269841276 ----- -0.038412698412756185\n",
      "340.85714285714283 ----- 350.6428571428569 ----- -9.78571428571405\n",
      "138.42857142857142 ----- 138.86285714285722 ----- -0.43428571428580653\n",
      "73.57142857142857 ----- 73.60095238095231 ----- -0.02952380952373801\n",
      "227.7142857142857 ----- 217.0403174603174 ----- 10.673968253968297\n",
      "71.57142857142857 ----- 71.58761904761896 ----- -0.01619047619038838\n",
      "78.71428571428571 ----- 78.89238095238092 ----- -0.1780952380952101\n",
      "41.85714285714285 ----- 41.85285714285714 ----- 0.004285714285707343\n",
      "146.28571428571428 ----- 146.26714285714283 ----- 0.018571428571448223\n",
      "44.42857142857143 ----- 44.347142857142906 ----- 0.08142857142852478\n",
      "132.0 ----- 135.13047619047612 ----- -3.1304761904761165\n",
      "64.42857142857143 ----- 65.69666666666662 ----- -1.268095238095185\n",
      "76.0 ----- 76.07793650793651 ----- -0.07793650793651352\n",
      "83.28571428571429 ----- 83.07285714285719 ----- 0.21285714285710355\n",
      "98.57142857142856 ----- 98.04190476190477 ----- 0.5295238095237806\n",
      "111.28571428571428 ----- 111.25920634920647 ----- 0.026507936507812246\n",
      "166.14285714285714 ----- 161.48365079365095 ----- 4.659206349206187\n",
      "440.7142857142857 ----- 456.62968253968245 ----- -15.915396825396726\n",
      "90.0 ----- 103.4588888888889 ----- -13.458888888888893\n",
      "146.33333333333334 ----- 145.73333333333343 ----- 0.599999999999909\n",
      "237.57142857142856 ----- 219.18714285714276 ----- 18.384285714285795\n",
      "140.0 ----- 138.21142857142863 ----- 1.7885714285713732\n",
      "47.0 ----- 46.9757142857143 ----- 0.024285714285703364\n",
      "216.8571428571429 ----- 215.61714285714282 ----- 1.240000000000066\n",
      "93.57142857142856 ----- 93.49063492063495 ----- 0.08079365079360912\n",
      "357.0 ----- 259.2309523809522 ----- 97.7690476190478\n",
      "98.85714285714286 ----- 98.90809523809523 ----- -0.05095238095236709\n",
      "495.8888888888889 ----- 468.53333333333313 ----- 27.35555555555578\n",
      "236.8571428571429 ----- 234.05666666666667 ----- 2.8004761904762177\n",
      "40.285714285714285 ----- 40.20492063492064 ----- 0.08079365079364464\n",
      "56.66666666666666 ----- 56.678571428571395 ----- -0.011904761904737882\n",
      "181.0 ----- 182.2376190476191 ----- -1.2376190476190914\n",
      "70.0 ----- 69.6357142857143 ----- 0.36428571428569967\n",
      "62.85714285714285 ----- 61.20047619047618 ----- 1.6566666666666663\n",
      "55.285714285714285 ----- 55.30428571428577 ----- -0.01857142857148375\n",
      "77.14285714285714 ----- 78.27698412698416 ----- -1.1341269841270218\n",
      "49.285714285714285 ----- 49.3457142857143 ----- -0.060000000000016485\n",
      "67.0 ----- 73.710634920635 ----- -6.710634920635002\n",
      "81.57142857142857 ----- 80.71619047619049 ----- 0.8552380952380787\n",
      "85.42857142857143 ----- 85.5971428571429 ----- -0.16857142857146812\n",
      "109.42857142857144 ----- 110.04999999999997 ----- -0.6214285714285239\n",
      "51.42857142857143 ----- 51.39761904761903 ----- 0.030952380952399494\n",
      "82.71428571428571 ----- 82.7420634920635 ----- -0.027777777777785673\n",
      "53.57142857142857 ----- 55.350317460317484 ----- -1.7788888888889147\n",
      "66.33333333333333 ----- 66.34095238095232 ----- -0.007619047618987906\n",
      "86.66666666666667 ----- 86.29999999999998 ----- 0.36666666666668846\n",
      "64.0 ----- 64.34380952380955 ----- -0.3438095238095542\n",
      "69.28571428571429 ----- 69.29317460317455 ----- -0.007460317460257215\n",
      "119.28571428571428 ----- 118.67142857142859 ----- 0.6142857142856855\n",
      "312.42857142857144 ----- 313.3457142857141 ----- -0.9171428571426645\n",
      "97.71428571428572 ----- 97.72793650793652 ----- -0.0136507936507968\n",
      "56.285714285714285 ----- 56.338571428571484 ----- -0.052857142857199335\n",
      "165.28571428571428 ----- 165.41920634920646 ----- -0.13349206349218434\n",
      "86.28571428571429 ----- 85.99000000000004 ----- 0.2957142857142543\n",
      "70.71428571428571 ----- 70.70619047619037 ----- 0.008095238095336299\n",
      "184.28571428571428 ----- 183.3092063492064 ----- 0.9765079365078861\n",
      "66.85714285714286 ----- 66.98809523809523 ----- -0.1309523809523654\n",
      "69.42857142857143 ----- 69.92142857142862 ----- -0.49285714285718996\n",
      "48.71428571428572 ----- 49.14809523809521 ----- -0.43380952380948656\n",
      "30.428571428571427 ----- 29.870476190476197 ----- 0.5580952380952304\n",
      "128.14285714285714 ----- 128.01428571428568 ----- 0.12857142857146187\n",
      "93.57142857142856 ----- 93.54285714285712 ----- 0.028571428571439128\n",
      "111.11111111111111 ----- 110.98746031746045 ----- 0.12365079365066833\n",
      "90.28571428571428 ----- 90.88 ----- -0.5942857142857179\n",
      "28.571428571428573 ----- 28.75619047619049 ----- -0.1847619047619169\n",
      "152.42857142857142 ----- 148.96158730158723 ----- 3.466984126984187\n",
      "49.42857142857143 ----- 49.390476190476214 ----- 0.038095238095216644\n",
      "108.66666666666669 ----- 108.35238095238087 ----- 0.3142857142858162\n",
      "99.44444444444444 ----- 99.43920634920637 ----- 0.005238095238070173\n",
      "102.0 ----- 102.32190476190482 ----- -0.3219047619048183\n",
      "81.85714285714286 ----- 110.41539682539685 ----- -28.558253968253993\n",
      "79.28571428571429 ----- 79.28571428571446 ----- -1.7053025658242404e-13\n",
      "85.44444444444444 ----- 85.56571428571434 ----- -0.12126984126989271\n",
      "140.57142857142858 ----- 143.22841269841268 ----- -2.6569841269840992\n",
      "115.28571428571428 ----- 114.66666666666671 ----- 0.6190476190475636\n",
      "262.2857142857143 ----- 267.57142857142867 ----- -5.285714285714391\n",
      "55.71428571428572 ----- 55.70571428571426 ----- 0.008571428571464423\n",
      "62.0 ----- 62.496190476190485 ----- -0.49619047619048473\n",
      "67.71428571428571 ----- 67.69507936507932 ----- 0.019206349206385198\n",
      "255.57142857142856 ----- 259.74158730158723 ----- -4.1701587301586756\n",
      "30.857142857142858 ----- 31.210000000000004 ----- -0.35285714285714675\n",
      "54.0 ----- 53.91238095238094 ----- 0.08761904761905726\n",
      "102.71428571428572 ----- 113.05285714285712 ----- -10.338571428571399\n",
      "168.28571428571428 ----- 175.73492063492077 ----- -7.4492063492064915\n",
      "146.71428571428572 ----- 149.53174603174602 ----- -2.817460317460302\n",
      "88.66666666666667 ----- 88.88746031746021 ----- -0.22079365079353863\n",
      "36.66666666666666 ----- 36.74666666666665 ----- -0.07999999999999119\n",
      "271.57142857142856 ----- 273.7860317460318 ----- -2.214603174603269\n",
      "33.666666666666664 ----- 34.13428571428568 ----- -0.4676190476190172\n",
      "264.42857142857144 ----- 245.76841269841267 ----- 18.66015873015877\n",
      "85.14285714285714 ----- 84.92476190476197 ----- 0.21809523809517373\n",
      "104.71428571428572 ----- 105.00857142857144 ----- -0.2942857142857207\n",
      "103.71428571428572 ----- 102.55142857142859 ----- 1.1628571428571348\n",
      "75.0 ----- 75.0585714285715 ----- -0.05857142857149711\n",
      "43.57142857142857 ----- 43.66031746031746 ----- -0.08888888888888857\n"
     ]
    }
   ],
   "source": [
    "for index in range(len(y_test)):\n",
    "    print(y_test[index],'-----',y_pred[index],'-----',y_test[index]-y_pred[index])"
   ]
  },
  {
   "cell_type": "markdown",
   "id": "bde2b759",
   "metadata": {},
   "source": [
    "# 4. Hyperparameter optimization"
   ]
  },
  {
   "cell_type": "code",
   "execution_count": 34,
   "id": "484a0b94",
   "metadata": {},
   "outputs": [
    {
     "name": "stdout",
     "output_type": "stream",
     "text": [
      "Requirement already satisfied: optuna in c:\\users\\amaur\\anaconda3\\envs\\geop\\lib\\site-packages (2.10.0)\n",
      "Requirement already satisfied: cmaes>=0.8.2 in c:\\users\\amaur\\anaconda3\\envs\\geop\\lib\\site-packages (from optuna) (0.8.2)\n",
      "Requirement already satisfied: packaging>=20.0 in c:\\users\\amaur\\anaconda3\\envs\\geop\\lib\\site-packages (from optuna) (21.3)\n",
      "Requirement already satisfied: scipy!=1.4.0 in c:\\users\\amaur\\appdata\\roaming\\python\\python39\\site-packages (from optuna) (1.5.4)\n",
      "Requirement already satisfied: alembic in c:\\users\\amaur\\anaconda3\\envs\\geop\\lib\\site-packages (from optuna) (1.7.6)\n",
      "Requirement already satisfied: tqdm in c:\\users\\amaur\\anaconda3\\envs\\geop\\lib\\site-packages (from optuna) (4.62.3)\n",
      "Requirement already satisfied: cliff in c:\\users\\amaur\\anaconda3\\envs\\geop\\lib\\site-packages (from optuna) (3.10.0)\n",
      "Requirement already satisfied: sqlalchemy>=1.1.0 in c:\\users\\amaur\\anaconda3\\envs\\geop\\lib\\site-packages (from optuna) (1.4.31)\n",
      "Requirement already satisfied: colorlog in c:\\users\\amaur\\anaconda3\\envs\\geop\\lib\\site-packages (from optuna) (6.6.0)\n",
      "Requirement already satisfied: numpy in c:\\users\\amaur\\appdata\\roaming\\python\\python39\\site-packages (from optuna) (1.19.5)\n",
      "Requirement already satisfied: PyYAML in c:\\users\\amaur\\anaconda3\\envs\\geop\\lib\\site-packages (from optuna) (5.4.1)\n",
      "Requirement already satisfied: pyparsing!=3.0.5,>=2.0.2 in c:\\users\\amaur\\anaconda3\\envs\\geop\\lib\\site-packages (from packaging>=20.0->optuna) (3.0.7)\n",
      "Requirement already satisfied: greenlet!=0.4.17 in c:\\users\\amaur\\anaconda3\\envs\\geop\\lib\\site-packages (from sqlalchemy>=1.1.0->optuna) (1.1.2)\n",
      "Requirement already satisfied: Mako in c:\\users\\amaur\\anaconda3\\envs\\geop\\lib\\site-packages (from alembic->optuna) (1.1.6)\n",
      "Requirement already satisfied: autopage>=0.4.0 in c:\\users\\amaur\\anaconda3\\envs\\geop\\lib\\site-packages (from cliff->optuna) (0.5.0)\n",
      "Requirement already satisfied: cmd2>=1.0.0 in c:\\users\\amaur\\anaconda3\\envs\\geop\\lib\\site-packages (from cliff->optuna) (2.3.3)\n",
      "Requirement already satisfied: stevedore>=2.0.1 in c:\\users\\amaur\\anaconda3\\envs\\geop\\lib\\site-packages (from cliff->optuna) (3.5.0)\n",
      "Requirement already satisfied: pbr!=2.1.0,>=2.0.0 in c:\\users\\amaur\\anaconda3\\envs\\geop\\lib\\site-packages (from cliff->optuna) (5.8.1)\n",
      "Requirement already satisfied: PrettyTable>=0.7.2 in c:\\users\\amaur\\anaconda3\\envs\\geop\\lib\\site-packages (from cliff->optuna) (3.1.0)\n",
      "Requirement already satisfied: colorama in c:\\users\\amaur\\anaconda3\\envs\\geop\\lib\\site-packages (from colorlog->optuna) (0.4.4)\n",
      "Requirement already satisfied: attrs>=16.3.0 in c:\\users\\amaur\\anaconda3\\envs\\geop\\lib\\site-packages (from cmd2>=1.0.0->cliff->optuna) (21.4.0)\n",
      "Requirement already satisfied: pyperclip>=1.6 in c:\\users\\amaur\\anaconda3\\envs\\geop\\lib\\site-packages (from cmd2>=1.0.0->cliff->optuna) (1.8.2)\n",
      "Requirement already satisfied: wcwidth>=0.1.7 in c:\\users\\amaur\\anaconda3\\envs\\geop\\lib\\site-packages (from cmd2>=1.0.0->cliff->optuna) (0.2.5)\n",
      "Requirement already satisfied: pyreadline3 in c:\\users\\amaur\\anaconda3\\envs\\geop\\lib\\site-packages (from cmd2>=1.0.0->cliff->optuna) (3.4.1)\n",
      "Requirement already satisfied: MarkupSafe>=0.9.2 in c:\\users\\amaur\\anaconda3\\envs\\geop\\lib\\site-packages (from Mako->alembic->optuna) (2.0.1)\n",
      "Note: you may need to restart the kernel to use updated packages.\n"
     ]
    }
   ],
   "source": [
    "pip install optuna"
   ]
  },
  {
   "cell_type": "code",
   "execution_count": 35,
   "id": "7e84e999",
   "metadata": {},
   "outputs": [],
   "source": [
    "import optuna"
   ]
  },
  {
   "cell_type": "code",
   "execution_count": 36,
   "id": "2155fb3a",
   "metadata": {},
   "outputs": [],
   "source": [
    "from sklearn.linear_model import Lasso,HuberRegressor"
   ]
  },
  {
   "cell_type": "code",
   "execution_count": 37,
   "id": "21d0d8a8",
   "metadata": {},
   "outputs": [],
   "source": [
    "import matplotlib.pyplot as plt\n",
    "from scipy import stats"
   ]
  },
  {
   "cell_type": "markdown",
   "id": "c2b7d7c4",
   "metadata": {},
   "source": [
    "### Lasso"
   ]
  },
  {
   "cell_type": "code",
   "execution_count": 38,
   "id": "4717d2df",
   "metadata": {},
   "outputs": [],
   "source": [
    "def lasso_objective(trial):\n",
    "\n",
    "    tol=trial.suggest_loguniform('tol', 1e-8, 10.0)\n",
    "#     default=1e-4\n",
    "#     The tolerance for the optimization: if the updates are smaller than tol, \n",
    "#     the optimization code checks the dual gap for optimality and continues until it is smaller than tol.\n",
    "\n",
    "    model = Lasso(\n",
    "        tol=tol,\n",
    "    )\n",
    "\n",
    "    model.fit(X_train_scaled, y_train)\n",
    "\n",
    "    br_prediction=model.predict(X_test_scaled)\n",
    "    br_r2_score = r2_score(y_test, br_prediction)\n",
    "\n",
    "    return br_r2_score"
   ]
  },
  {
   "cell_type": "code",
   "execution_count": 39,
   "id": "5cd754bb",
   "metadata": {},
   "outputs": [
    {
     "name": "stderr",
     "output_type": "stream",
     "text": [
      "\u001b[32m[I 2022-02-23 09:47:45,343]\u001b[0m A new study created in memory with name: no-name-244952fb-b5a9-4ba3-a096-2bbc071ab519\u001b[0m\n"
     ]
    }
   ],
   "source": [
    "study = optuna.create_study(direction='minimize')"
   ]
  },
  {
   "cell_type": "code",
   "execution_count": 40,
   "id": "3b26510a",
   "metadata": {},
   "outputs": [
    {
     "name": "stderr",
     "output_type": "stream",
     "text": [
      "\u001b[32m[I 2022-02-23 09:47:45,365]\u001b[0m Trial 0 finished with value: 0.8811839590998353 and parameters: {'tol': 0.00029117594318855353}. Best is trial 0 with value: 0.8811839590998353.\u001b[0m\n",
      "\u001b[32m[I 2022-02-23 09:47:45,370]\u001b[0m Trial 1 finished with value: 0.8811839590998353 and parameters: {'tol': 0.0002152773533105755}. Best is trial 0 with value: 0.8811839590998353.\u001b[0m\n",
      "\u001b[32m[I 2022-02-23 09:47:45,373]\u001b[0m Trial 2 finished with value: 0.881257479074652 and parameters: {'tol': 0.00552952531901334}. Best is trial 0 with value: 0.8811839590998353.\u001b[0m\n",
      "\u001b[32m[I 2022-02-23 09:47:45,377]\u001b[0m Trial 3 finished with value: 0.8816275098763748 and parameters: {'tol': 0.3329375480119228}. Best is trial 0 with value: 0.8811839590998353.\u001b[0m\n",
      "\u001b[32m[I 2022-02-23 09:47:45,380]\u001b[0m Trial 4 finished with value: 0.8806935395620819 and parameters: {'tol': 0.11620663037684154}. Best is trial 4 with value: 0.8806935395620819.\u001b[0m\n",
      "\u001b[32m[I 2022-02-23 09:47:45,385]\u001b[0m Trial 5 finished with value: 0.8811783336331213 and parameters: {'tol': 1.808242321592391e-06}. Best is trial 4 with value: 0.8806935395620819.\u001b[0m\n",
      "\u001b[32m[I 2022-02-23 09:47:45,390]\u001b[0m Trial 6 finished with value: 0.8806935395620819 and parameters: {'tol': 0.07589862670386144}. Best is trial 4 with value: 0.8806935395620819.\u001b[0m\n",
      "\u001b[32m[I 2022-02-23 09:47:45,393]\u001b[0m Trial 7 finished with value: 0.8811811767736929 and parameters: {'tol': 0.015120331190128906}. Best is trial 4 with value: 0.8806935395620819.\u001b[0m\n",
      "\u001b[32m[I 2022-02-23 09:47:45,397]\u001b[0m Trial 8 finished with value: 0.881190691091828 and parameters: {'tol': 0.0004359883301897213}. Best is trial 4 with value: 0.8806935395620819.\u001b[0m\n",
      "\u001b[32m[I 2022-02-23 09:47:45,402]\u001b[0m Trial 9 finished with value: 0.8653937938585319 and parameters: {'tol': 2.2992787870433973}. Best is trial 9 with value: 0.8653937938585319.\u001b[0m\n",
      "\u001b[32m[I 2022-02-23 09:47:45,410]\u001b[0m Trial 10 finished with value: 0.8653937938585319 and parameters: {'tol': 3.75345587436693}. Best is trial 9 with value: 0.8653937938585319.\u001b[0m\n",
      "\u001b[32m[I 2022-02-23 09:47:45,419]\u001b[0m Trial 11 finished with value: 0.8653937938585319 and parameters: {'tol': 6.785781885888187}. Best is trial 9 with value: 0.8653937938585319.\u001b[0m\n",
      "\u001b[32m[I 2022-02-23 09:47:45,427]\u001b[0m Trial 12 finished with value: 0.8653937938585319 and parameters: {'tol': 6.475516409665896}. Best is trial 9 with value: 0.8653937938585319.\u001b[0m\n",
      "\u001b[32m[I 2022-02-23 09:47:45,436]\u001b[0m Trial 13 finished with value: 0.8811783336331213 and parameters: {'tol': 1.829783415302538e-06}. Best is trial 9 with value: 0.8653937938585319.\u001b[0m\n",
      "\u001b[32m[I 2022-02-23 09:47:45,444]\u001b[0m Trial 14 finished with value: 0.8811782704822376 and parameters: {'tol': 4.1995521581652844e-08}. Best is trial 9 with value: 0.8653937938585319.\u001b[0m\n",
      "\u001b[32m[I 2022-02-23 09:47:45,453]\u001b[0m Trial 15 finished with value: 0.8653937938585319 and parameters: {'tol': 1.0301401818958802}. Best is trial 9 with value: 0.8653937938585319.\u001b[0m\n",
      "\u001b[32m[I 2022-02-23 09:47:45,462]\u001b[0m Trial 16 finished with value: 0.881257479074652 and parameters: {'tol': 0.006663429199504213}. Best is trial 9 with value: 0.8653937938585319.\u001b[0m\n",
      "\u001b[32m[I 2022-02-23 09:47:45,471]\u001b[0m Trial 17 finished with value: 0.8816275098763748 and parameters: {'tol': 0.6705276500179137}. Best is trial 9 with value: 0.8653937938585319.\u001b[0m\n",
      "\u001b[32m[I 2022-02-23 09:47:45,477]\u001b[0m Trial 18 finished with value: 0.8816275098763748 and parameters: {'tol': 0.7853249058547116}. Best is trial 9 with value: 0.8653937938585319.\u001b[0m\n",
      "\u001b[32m[I 2022-02-23 09:47:45,483]\u001b[0m Trial 19 finished with value: 0.8811796389436835 and parameters: {'tol': 4.114261562884053e-05}. Best is trial 9 with value: 0.8653937938585319.\u001b[0m\n",
      "\u001b[32m[I 2022-02-23 09:47:45,490]\u001b[0m Trial 20 finished with value: 0.8806935395620819 and parameters: {'tol': 0.05287804992038594}. Best is trial 9 with value: 0.8653937938585319.\u001b[0m\n",
      "\u001b[32m[I 2022-02-23 09:47:45,497]\u001b[0m Trial 21 finished with value: 0.8653937938585319 and parameters: {'tol': 9.073312877788105}. Best is trial 9 with value: 0.8653937938585319.\u001b[0m\n",
      "\u001b[32m[I 2022-02-23 09:47:45,508]\u001b[0m Trial 22 finished with value: 0.8653937938585319 and parameters: {'tol': 2.4022692568714286}. Best is trial 9 with value: 0.8653937938585319.\u001b[0m\n",
      "\u001b[32m[I 2022-02-23 09:47:45,519]\u001b[0m Trial 23 finished with value: 0.8816275098763748 and parameters: {'tol': 0.35906226979622613}. Best is trial 9 with value: 0.8653937938585319.\u001b[0m\n",
      "\u001b[32m[I 2022-02-23 09:47:45,525]\u001b[0m Trial 24 finished with value: 0.8653937938585319 and parameters: {'tol': 9.221625944774656}. Best is trial 9 with value: 0.8653937938585319.\u001b[0m\n",
      "\u001b[32m[I 2022-02-23 09:47:45,536]\u001b[0m Trial 25 finished with value: 0.8653937938585319 and parameters: {'tol': 5.2711996980349465}. Best is trial 9 with value: 0.8653937938585319.\u001b[0m\n",
      "\u001b[32m[I 2022-02-23 09:47:45,542]\u001b[0m Trial 26 finished with value: 0.8811811767736929 and parameters: {'tol': 0.020780821106377224}. Best is trial 9 with value: 0.8653937938585319.\u001b[0m\n",
      "\u001b[32m[I 2022-02-23 09:47:45,550]\u001b[0m Trial 27 finished with value: 0.8653937938585319 and parameters: {'tol': 9.647018956187816}. Best is trial 9 with value: 0.8653937938585319.\u001b[0m\n",
      "\u001b[32m[I 2022-02-23 09:47:45,559]\u001b[0m Trial 28 finished with value: 0.8806935395620819 and parameters: {'tol': 0.13710984350665986}. Best is trial 9 with value: 0.8653937938585319.\u001b[0m\n",
      "\u001b[32m[I 2022-02-23 09:47:45,572]\u001b[0m Trial 29 finished with value: 0.881257479074652 and parameters: {'tol': 0.0021680428354608466}. Best is trial 9 with value: 0.8653937938585319.\u001b[0m\n",
      "\u001b[32m[I 2022-02-23 09:47:45,585]\u001b[0m Trial 30 finished with value: 0.8653937938585319 and parameters: {'tol': 1.1935716053077474}. Best is trial 9 with value: 0.8653937938585319.\u001b[0m\n",
      "\u001b[32m[I 2022-02-23 09:47:45,598]\u001b[0m Trial 31 finished with value: 0.8653937938585319 and parameters: {'tol': 8.16806103461016}. Best is trial 9 with value: 0.8653937938585319.\u001b[0m\n",
      "\u001b[32m[I 2022-02-23 09:47:45,609]\u001b[0m Trial 32 finished with value: 0.8653937938585319 and parameters: {'tol': 1.336491219315322}. Best is trial 9 with value: 0.8653937938585319.\u001b[0m\n",
      "\u001b[32m[I 2022-02-23 09:47:45,621]\u001b[0m Trial 33 finished with value: 0.8816275098763748 and parameters: {'tol': 0.22938569867902406}. Best is trial 9 with value: 0.8653937938585319.\u001b[0m\n",
      "\u001b[32m[I 2022-02-23 09:47:45,635]\u001b[0m Trial 34 finished with value: 0.8653937938585319 and parameters: {'tol': 2.164333646605515}. Best is trial 9 with value: 0.8653937938585319.\u001b[0m\n",
      "\u001b[32m[I 2022-02-23 09:47:45,646]\u001b[0m Trial 35 finished with value: 0.8653937938585319 and parameters: {'tol': 3.09184623982494}. Best is trial 9 with value: 0.8653937938585319.\u001b[0m\n",
      "\u001b[32m[I 2022-02-23 09:47:45,658]\u001b[0m Trial 36 finished with value: 0.8806935395620819 and parameters: {'tol': 0.04252632670968304}. Best is trial 9 with value: 0.8653937938585319.\u001b[0m\n",
      "\u001b[32m[I 2022-02-23 09:47:45,669]\u001b[0m Trial 37 finished with value: 0.8816275098763748 and parameters: {'tol': 0.2590066960667021}. Best is trial 9 with value: 0.8653937938585319.\u001b[0m\n",
      "\u001b[32m[I 2022-02-23 09:47:45,676]\u001b[0m Trial 38 finished with value: 0.8653937938585319 and parameters: {'tol': 1.4973196190966385}. Best is trial 9 with value: 0.8653937938585319.\u001b[0m\n",
      "\u001b[32m[I 2022-02-23 09:47:45,685]\u001b[0m Trial 39 finished with value: 0.8811790003656053 and parameters: {'tol': 2.2785822938618515e-05}. Best is trial 9 with value: 0.8653937938585319.\u001b[0m\n",
      "\u001b[32m[I 2022-02-23 09:47:45,698]\u001b[0m Trial 40 finished with value: 0.881257479074652 and parameters: {'tol': 0.0013757940225942687}. Best is trial 9 with value: 0.8653937938585319.\u001b[0m\n",
      "\u001b[32m[I 2022-02-23 09:47:45,712]\u001b[0m Trial 41 finished with value: 0.8653937938585319 and parameters: {'tol': 8.070943209004444}. Best is trial 9 with value: 0.8653937938585319.\u001b[0m\n",
      "\u001b[32m[I 2022-02-23 09:47:45,727]\u001b[0m Trial 42 finished with value: 0.8816275098763748 and parameters: {'tol': 0.4932177685132361}. Best is trial 9 with value: 0.8653937938585319.\u001b[0m\n",
      "\u001b[32m[I 2022-02-23 09:47:45,736]\u001b[0m Trial 43 finished with value: 0.8653937938585319 and parameters: {'tol': 9.113581191969033}. Best is trial 9 with value: 0.8653937938585319.\u001b[0m\n",
      "\u001b[32m[I 2022-02-23 09:47:45,745]\u001b[0m Trial 44 finished with value: 0.8653937938585319 and parameters: {'tol': 2.306424012494461}. Best is trial 9 with value: 0.8653937938585319.\u001b[0m\n"
     ]
    },
    {
     "name": "stderr",
     "output_type": "stream",
     "text": [
      "\u001b[32m[I 2022-02-23 09:47:45,753]\u001b[0m Trial 45 finished with value: 0.8653937938585319 and parameters: {'tol': 1.7229137308657274}. Best is trial 9 with value: 0.8653937938585319.\u001b[0m\n",
      "\u001b[32m[I 2022-02-23 09:47:45,762]\u001b[0m Trial 46 finished with value: 0.8806935395620819 and parameters: {'tol': 0.10182661952293746}. Best is trial 9 with value: 0.8653937938585319.\u001b[0m\n",
      "\u001b[32m[I 2022-02-23 09:47:45,770]\u001b[0m Trial 47 finished with value: 0.8816275098763748 and parameters: {'tol': 0.8723840530295405}. Best is trial 9 with value: 0.8653937938585319.\u001b[0m\n",
      "\u001b[32m[I 2022-02-23 09:47:45,777]\u001b[0m Trial 48 finished with value: 0.8653937938585319 and parameters: {'tol': 3.254724573012657}. Best is trial 9 with value: 0.8653937938585319.\u001b[0m\n",
      "\u001b[32m[I 2022-02-23 09:47:45,787]\u001b[0m Trial 49 finished with value: 0.8816275098763748 and parameters: {'tol': 0.21579711351249597}. Best is trial 9 with value: 0.8653937938585319.\u001b[0m\n",
      "\u001b[32m[I 2022-02-23 09:47:45,801]\u001b[0m Trial 50 finished with value: 0.8653937938585319 and parameters: {'tol': 4.252579026953811}. Best is trial 9 with value: 0.8653937938585319.\u001b[0m\n",
      "\u001b[32m[I 2022-02-23 09:47:45,808]\u001b[0m Trial 51 finished with value: 0.8653937938585319 and parameters: {'tol': 4.159400111715063}. Best is trial 9 with value: 0.8653937938585319.\u001b[0m\n",
      "\u001b[32m[I 2022-02-23 09:47:45,818]\u001b[0m Trial 52 finished with value: 0.8653937938585319 and parameters: {'tol': 5.364017710353603}. Best is trial 9 with value: 0.8653937938585319.\u001b[0m\n",
      "\u001b[32m[I 2022-02-23 09:47:45,831]\u001b[0m Trial 53 finished with value: 0.8653937938585319 and parameters: {'tol': 1.1753284204068397}. Best is trial 9 with value: 0.8653937938585319.\u001b[0m\n",
      "\u001b[32m[I 2022-02-23 09:47:45,838]\u001b[0m Trial 54 finished with value: 0.8653937938585319 and parameters: {'tol': 1.1779515545970587}. Best is trial 9 with value: 0.8653937938585319.\u001b[0m\n",
      "\u001b[32m[I 2022-02-23 09:47:45,847]\u001b[0m Trial 55 finished with value: 0.8816275098763748 and parameters: {'tol': 0.7828986163433369}. Best is trial 9 with value: 0.8653937938585319.\u001b[0m\n",
      "\u001b[32m[I 2022-02-23 09:47:45,853]\u001b[0m Trial 56 finished with value: 0.8811782694197674 and parameters: {'tol': 2.0692414681602758e-08}. Best is trial 9 with value: 0.8653937938585319.\u001b[0m\n",
      "\u001b[32m[I 2022-02-23 09:47:45,862]\u001b[0m Trial 57 finished with value: 0.8811782819473855 and parameters: {'tol': 2.9972783659766114e-07}. Best is trial 9 with value: 0.8653937938585319.\u001b[0m\n",
      "\u001b[32m[I 2022-02-23 09:47:45,868]\u001b[0m Trial 58 finished with value: 0.8653937938585319 and parameters: {'tol': 3.5067649147546134}. Best is trial 9 with value: 0.8653937938585319.\u001b[0m\n",
      "\u001b[32m[I 2022-02-23 09:47:45,880]\u001b[0m Trial 59 finished with value: 0.8653937938585319 and parameters: {'tol': 9.558034813608561}. Best is trial 9 with value: 0.8653937938585319.\u001b[0m\n",
      "\u001b[32m[I 2022-02-23 09:47:45,888]\u001b[0m Trial 60 finished with value: 0.8816275098763748 and parameters: {'tol': 0.40597711899587047}. Best is trial 9 with value: 0.8653937938585319.\u001b[0m\n",
      "\u001b[32m[I 2022-02-23 09:47:45,898]\u001b[0m Trial 61 finished with value: 0.8653937938585319 and parameters: {'tol': 4.854511654050929}. Best is trial 9 with value: 0.8653937938585319.\u001b[0m\n",
      "\u001b[32m[I 2022-02-23 09:47:45,912]\u001b[0m Trial 62 finished with value: 0.8653937938585319 and parameters: {'tol': 2.968005331480948}. Best is trial 9 with value: 0.8653937938585319.\u001b[0m\n",
      "\u001b[32m[I 2022-02-23 09:47:45,924]\u001b[0m Trial 63 finished with value: 0.8816275098763748 and parameters: {'tol': 0.6169555637710346}. Best is trial 9 with value: 0.8653937938585319.\u001b[0m\n",
      "\u001b[32m[I 2022-02-23 09:47:45,938]\u001b[0m Trial 64 finished with value: 0.8653937938585319 and parameters: {'tol': 9.904892062428907}. Best is trial 9 with value: 0.8653937938585319.\u001b[0m\n",
      "\u001b[32m[I 2022-02-23 09:47:45,944]\u001b[0m Trial 65 finished with value: 0.8653937938585319 and parameters: {'tol': 1.6455465923481696}. Best is trial 9 with value: 0.8653937938585319.\u001b[0m\n",
      "\u001b[32m[I 2022-02-23 09:47:45,952]\u001b[0m Trial 66 finished with value: 0.8811811767736929 and parameters: {'tol': 0.017706162580468577}. Best is trial 9 with value: 0.8653937938585319.\u001b[0m\n",
      "\u001b[32m[I 2022-02-23 09:47:45,959]\u001b[0m Trial 67 finished with value: 0.8806935395620819 and parameters: {'tol': 0.0566116545557468}. Best is trial 9 with value: 0.8653937938585319.\u001b[0m\n",
      "\u001b[32m[I 2022-02-23 09:47:45,967]\u001b[0m Trial 68 finished with value: 0.8811839590998353 and parameters: {'tol': 0.00018155260005960934}. Best is trial 9 with value: 0.8653937938585319.\u001b[0m\n",
      "\u001b[32m[I 2022-02-23 09:47:45,976]\u001b[0m Trial 69 finished with value: 0.8816275098763748 and parameters: {'tol': 0.16019287840853905}. Best is trial 9 with value: 0.8653937938585319.\u001b[0m\n",
      "\u001b[32m[I 2022-02-23 09:47:45,989]\u001b[0m Trial 70 finished with value: 0.8653937938585319 and parameters: {'tol': 3.9716977029776785}. Best is trial 9 with value: 0.8653937938585319.\u001b[0m\n",
      "\u001b[32m[I 2022-02-23 09:47:46,000]\u001b[0m Trial 71 finished with value: 0.8653937938585319 and parameters: {'tol': 2.4093260961078564}. Best is trial 9 with value: 0.8653937938585319.\u001b[0m\n",
      "\u001b[32m[I 2022-02-23 09:47:46,006]\u001b[0m Trial 72 finished with value: 0.8653937938585319 and parameters: {'tol': 1.4805336469853574}. Best is trial 9 with value: 0.8653937938585319.\u001b[0m\n",
      "\u001b[32m[I 2022-02-23 09:47:46,022]\u001b[0m Trial 73 finished with value: 0.8653937938585319 and parameters: {'tol': 1.6728175883906788}. Best is trial 9 with value: 0.8653937938585319.\u001b[0m\n",
      "\u001b[32m[I 2022-02-23 09:47:46,030]\u001b[0m Trial 74 finished with value: 0.8816275098763748 and parameters: {'tol': 0.3996729839639189}. Best is trial 9 with value: 0.8653937938585319.\u001b[0m\n",
      "\u001b[32m[I 2022-02-23 09:47:46,036]\u001b[0m Trial 75 finished with value: 0.8816275098763748 and parameters: {'tol': 0.6520654739107186}. Best is trial 9 with value: 0.8653937938585319.\u001b[0m\n",
      "\u001b[32m[I 2022-02-23 09:47:46,043]\u001b[0m Trial 76 finished with value: 0.8653937938585319 and parameters: {'tol': 5.659174813167202}. Best is trial 9 with value: 0.8653937938585319.\u001b[0m\n",
      "\u001b[32m[I 2022-02-23 09:47:46,050]\u001b[0m Trial 77 finished with value: 0.8653937938585319 and parameters: {'tol': 2.2602049397299124}. Best is trial 9 with value: 0.8653937938585319.\u001b[0m\n",
      "\u001b[32m[I 2022-02-23 09:47:46,058]\u001b[0m Trial 78 finished with value: 0.8653937938585319 and parameters: {'tol': 5.493690364969922}. Best is trial 9 with value: 0.8653937938585319.\u001b[0m\n",
      "\u001b[32m[I 2022-02-23 09:47:46,066]\u001b[0m Trial 79 finished with value: 0.8653937938585319 and parameters: {'tol': 7.157565088756244}. Best is trial 9 with value: 0.8653937938585319.\u001b[0m\n",
      "\u001b[32m[I 2022-02-23 09:47:46,073]\u001b[0m Trial 80 finished with value: 0.8653937938585319 and parameters: {'tol': 6.11952021433707}. Best is trial 9 with value: 0.8653937938585319.\u001b[0m\n",
      "\u001b[32m[I 2022-02-23 09:47:46,083]\u001b[0m Trial 81 finished with value: 0.8653937938585319 and parameters: {'tol': 1.2267292377307673}. Best is trial 9 with value: 0.8653937938585319.\u001b[0m\n",
      "\u001b[32m[I 2022-02-23 09:47:46,089]\u001b[0m Trial 82 finished with value: 0.8653937938585319 and parameters: {'tol': 1.1229823918625366}. Best is trial 9 with value: 0.8653937938585319.\u001b[0m\n",
      "\u001b[32m[I 2022-02-23 09:47:46,096]\u001b[0m Trial 83 finished with value: 0.8653937938585319 and parameters: {'tol': 2.378797293585522}. Best is trial 9 with value: 0.8653937938585319.\u001b[0m\n",
      "\u001b[32m[I 2022-02-23 09:47:46,102]\u001b[0m Trial 84 finished with value: 0.8653937938585319 and parameters: {'tol': 3.075909894537225}. Best is trial 9 with value: 0.8653937938585319.\u001b[0m\n",
      "\u001b[32m[I 2022-02-23 09:47:46,110]\u001b[0m Trial 85 finished with value: 0.8816275098763748 and parameters: {'tol': 0.36223579936091516}. Best is trial 9 with value: 0.8653937938585319.\u001b[0m\n",
      "\u001b[32m[I 2022-02-23 09:47:46,117]\u001b[0m Trial 86 finished with value: 0.8653937938585319 and parameters: {'tol': 3.504982494482755}. Best is trial 9 with value: 0.8653937938585319.\u001b[0m\n",
      "\u001b[32m[I 2022-02-23 09:47:46,124]\u001b[0m Trial 87 finished with value: 0.8653937938585319 and parameters: {'tol': 4.876325103571321}. Best is trial 9 with value: 0.8653937938585319.\u001b[0m\n",
      "\u001b[32m[I 2022-02-23 09:47:46,131]\u001b[0m Trial 88 finished with value: 0.8653937938585319 and parameters: {'tol': 3.36328263776602}. Best is trial 9 with value: 0.8653937938585319.\u001b[0m\n",
      "\u001b[32m[I 2022-02-23 09:47:46,139]\u001b[0m Trial 89 finished with value: 0.8816275098763748 and parameters: {'tol': 0.6299083132985819}. Best is trial 9 with value: 0.8653937938585319.\u001b[0m\n"
     ]
    },
    {
     "name": "stderr",
     "output_type": "stream",
     "text": [
      "\u001b[32m[I 2022-02-23 09:47:46,148]\u001b[0m Trial 90 finished with value: 0.8653937938585319 and parameters: {'tol': 1.9524347407017009}. Best is trial 9 with value: 0.8653937938585319.\u001b[0m\n",
      "\u001b[32m[I 2022-02-23 09:47:46,157]\u001b[0m Trial 91 finished with value: 0.8653937938585319 and parameters: {'tol': 1.0357950533428864}. Best is trial 9 with value: 0.8653937938585319.\u001b[0m\n",
      "\u001b[32m[I 2022-02-23 09:47:46,166]\u001b[0m Trial 92 finished with value: 0.8653937938585319 and parameters: {'tol': 4.95218239980136}. Best is trial 9 with value: 0.8653937938585319.\u001b[0m\n",
      "\u001b[32m[I 2022-02-23 09:47:46,173]\u001b[0m Trial 93 finished with value: 0.8653937938585319 and parameters: {'tol': 7.502812176302466}. Best is trial 9 with value: 0.8653937938585319.\u001b[0m\n",
      "\u001b[32m[I 2022-02-23 09:47:46,180]\u001b[0m Trial 94 finished with value: 0.8816275098763748 and parameters: {'tol': 0.23361878915426193}. Best is trial 9 with value: 0.8653937938585319.\u001b[0m\n",
      "\u001b[32m[I 2022-02-23 09:47:46,186]\u001b[0m Trial 95 finished with value: 0.8653937938585319 and parameters: {'tol': 1.5550017845583701}. Best is trial 9 with value: 0.8653937938585319.\u001b[0m\n",
      "\u001b[32m[I 2022-02-23 09:47:46,194]\u001b[0m Trial 96 finished with value: 0.8811783676158609 and parameters: {'tol': 2.8510990106496447e-06}. Best is trial 9 with value: 0.8653937938585319.\u001b[0m\n",
      "\u001b[32m[I 2022-02-23 09:47:46,199]\u001b[0m Trial 97 finished with value: 0.8653937938585319 and parameters: {'tol': 2.0174558181371203}. Best is trial 9 with value: 0.8653937938585319.\u001b[0m\n",
      "\u001b[32m[I 2022-02-23 09:47:46,207]\u001b[0m Trial 98 finished with value: 0.8653937938585319 and parameters: {'tol': 9.395021880673061}. Best is trial 9 with value: 0.8653937938585319.\u001b[0m\n",
      "\u001b[32m[I 2022-02-23 09:47:46,216]\u001b[0m Trial 99 finished with value: 0.8816275098763748 and parameters: {'tol': 0.796239661920585}. Best is trial 9 with value: 0.8653937938585319.\u001b[0m\n"
     ]
    }
   ],
   "source": [
    "study.optimize(lasso_objective, n_trials=100)"
   ]
  },
  {
   "cell_type": "code",
   "execution_count": 41,
   "id": "83ad1f24",
   "metadata": {},
   "outputs": [],
   "source": [
    "lasso_params=study.best_params"
   ]
  },
  {
   "cell_type": "markdown",
   "id": "02985cd7",
   "metadata": {},
   "source": [
    "### HuberRegressor"
   ]
  },
  {
   "cell_type": "code",
   "execution_count": 42,
   "id": "8629e66e",
   "metadata": {},
   "outputs": [],
   "source": [
    "def HR_objective(trial):\n",
    "\n",
    "\n",
    "    epsilon=1+trial.suggest_loguniform('epsilon', 1, 10.0)\n",
    "    # float, greater than 1.0, default=1.35\n",
    "    # The parameter epsilon controls the number of samples that should be classified as outliers. \n",
    "    # The smaller the epsilon, the more robust it is to outliers.\n",
    "\n",
    "    max_iter = trial.suggest_int('max_iter', 50, 600)\n",
    "    # int, default=100\n",
    "    # Maximum number of iterations that scipy.optimize.minimize(method=\"L-BFGS-B\") should run for.\n",
    "\n",
    "    alpha=trial.suggest_loguniform('alpha', 1e-6, 1.0)\n",
    "    # float, default=0.0001\n",
    "    # Regularization parameter.\n",
    "\n",
    "    tol=trial.suggest_loguniform('tol', 1e-8, 10.0)\n",
    "#     float, default=1e-05\n",
    "#     The iteration will stop when max{|proj g_i | i = 1, ..., n} <= tol where pg_i is the i-th component of the projected gradient.\n",
    "\n",
    "    model = HuberRegressor(\n",
    "        epsilon=epsilon,\n",
    "        max_iter=max_iter,\n",
    "        alpha=alpha,\n",
    "        tol=tol,\n",
    "    )\n",
    "\n",
    "    model.fit(X_train_scaled, y_train)\n",
    "\n",
    "    br_prediction=model.predict(X_test_scaled)\n",
    "    br_r2_score = r2_score(y_test, br_prediction)\n",
    "\n",
    "    return br_r2_score"
   ]
  },
  {
   "cell_type": "code",
   "execution_count": 43,
   "id": "3436e23d",
   "metadata": {},
   "outputs": [
    {
     "name": "stderr",
     "output_type": "stream",
     "text": [
      "\u001b[32m[I 2022-02-23 09:47:46,265]\u001b[0m A new study created in memory with name: no-name-a9801ad8-d9fc-4c9c-bcb2-b3b6d9e724b1\u001b[0m\n"
     ]
    }
   ],
   "source": [
    "study = optuna.create_study(direction='minimize')"
   ]
  },
  {
   "cell_type": "code",
   "execution_count": 44,
   "id": "30c8eca1",
   "metadata": {},
   "outputs": [
    {
     "name": "stderr",
     "output_type": "stream",
     "text": [
      "\u001b[32m[I 2022-02-23 09:47:46,487]\u001b[0m Trial 0 finished with value: 0.8857895993626181 and parameters: {'epsilon': 7.1408171483978045, 'max_iter': 219, 'alpha': 0.0003586557923863666, 'tol': 1.0988691154862513e-05}. Best is trial 0 with value: 0.8857895993626181.\u001b[0m\n",
      "\u001b[32m[I 2022-02-23 09:47:46,878]\u001b[0m Trial 1 finished with value: 0.8758368523405323 and parameters: {'epsilon': 1.2346383307518303, 'max_iter': 443, 'alpha': 2.0025544979190584e-06, 'tol': 0.0008864468343445115}. Best is trial 1 with value: 0.8758368523405323.\u001b[0m\n",
      "\u001b[32m[I 2022-02-23 09:47:47,138]\u001b[0m Trial 2 finished with value: 0.8790883101800421 and parameters: {'epsilon': 1.8372555900437504, 'max_iter': 492, 'alpha': 1.1665945451265889e-05, 'tol': 1.892701144460281}. Best is trial 1 with value: 0.8758368523405323.\u001b[0m\n",
      "\u001b[32m[I 2022-02-23 09:47:47,586]\u001b[0m Trial 3 finished with value: 0.8751635232709121 and parameters: {'epsilon': 1.1675242910783847, 'max_iter': 499, 'alpha': 0.03775878252650749, 'tol': 2.6920288752612442e-08}. Best is trial 3 with value: 0.8751635232709121.\u001b[0m\n",
      "\u001b[32m[I 2022-02-23 09:47:47,673]\u001b[0m Trial 4 finished with value: 0.8776970152826967 and parameters: {'epsilon': 1.7537697454443406, 'max_iter': 69, 'alpha': 0.42248700069608947, 'tol': 1.117011818544389e-06}. Best is trial 3 with value: 0.8751635232709121.\u001b[0m\n",
      "\u001b[32m[I 2022-02-23 09:47:48,385]\u001b[0m Trial 5 finished with value: 0.8857625585178522 and parameters: {'epsilon': 7.994636229329033, 'max_iter': 556, 'alpha': 0.03261455570211065, 'tol': 1.912436483753114e-05}. Best is trial 3 with value: 0.8751635232709121.\u001b[0m\n",
      "\u001b[32m[I 2022-02-23 09:47:48,529]\u001b[0m Trial 6 finished with value: 0.8802717527857972 and parameters: {'epsilon': 2.6662351097350214, 'max_iter': 588, 'alpha': 0.538162893653853, 'tol': 6.526417341952133e-07}. Best is trial 3 with value: 0.8751635232709121.\u001b[0m\n",
      "\u001b[32m[I 2022-02-23 09:47:48,976]\u001b[0m Trial 7 finished with value: 0.8748526959776182 and parameters: {'epsilon': 1.1986158938186084, 'max_iter': 486, 'alpha': 0.23682270902690053, 'tol': 0.030956564359556172}. Best is trial 7 with value: 0.8748526959776182.\u001b[0m\n",
      "\u001b[32m[I 2022-02-23 09:47:49,262]\u001b[0m Trial 8 finished with value: 0.8840327356664004 and parameters: {'epsilon': 4.620287342708589, 'max_iter': 368, 'alpha': 0.17812791800407088, 'tol': 0.001185627759543683}. Best is trial 7 with value: 0.8748526959776182.\u001b[0m\n",
      "\u001b[32m[I 2022-02-23 09:47:49,645]\u001b[0m Trial 9 finished with value: 0.8851869248172907 and parameters: {'epsilon': 6.242994749308068, 'max_iter': 360, 'alpha': 1.4893630060574107e-05, 'tol': 1.8751386379188227e-06}. Best is trial 7 with value: 0.8748526959776182.\u001b[0m\n",
      "\u001b[32m[I 2022-02-23 09:47:49,853]\u001b[0m Trial 10 finished with value: 0.8815701409753938 and parameters: {'epsilon': 2.9456995004173696, 'max_iter': 228, 'alpha': 0.002458293214108875, 'tol': 0.5175516615814253}. Best is trial 7 with value: 0.8748526959776182.\u001b[0m\n",
      "\u001b[32m[I 2022-02-23 09:47:50,195]\u001b[0m Trial 11 finished with value: 0.8741208150959416 and parameters: {'epsilon': 1.016816109887058, 'max_iter': 462, 'alpha': 0.009816684516984099, 'tol': 2.2278305224083053e-08}. Best is trial 11 with value: 0.8741208150959416.\u001b[0m\n",
      "\u001b[32m[I 2022-02-23 09:47:50,615]\u001b[0m Trial 12 finished with value: 0.8738220325612935 and parameters: {'epsilon': 1.004388263909504, 'max_iter': 427, 'alpha': 0.007461603509828956, 'tol': 0.025390245617005175}. Best is trial 12 with value: 0.8738220325612935.\u001b[0m\n",
      "\u001b[32m[I 2022-02-23 09:47:50,861]\u001b[0m Trial 13 finished with value: 0.8739394740907591 and parameters: {'epsilon': 1.0128814501094454, 'max_iter': 284, 'alpha': 0.0016491983305899497, 'tol': 0.016939333521033426}. Best is trial 12 with value: 0.8738220325612935.\u001b[0m\n",
      "\u001b[32m[I 2022-02-23 09:47:51,173]\u001b[0m Trial 14 finished with value: 0.8790306665966171 and parameters: {'epsilon': 1.9960682753413133, 'max_iter': 257, 'alpha': 0.0005284245640412434, 'tol': 0.0454639828102455}. Best is trial 12 with value: 0.8738220325612935.\u001b[0m\n",
      "\u001b[32m[I 2022-02-23 09:47:51,282]\u001b[0m Trial 15 finished with value: 0.8772439424962931 and parameters: {'epsilon': 1.50228193097573, 'max_iter': 139, 'alpha': 0.002826229733306124, 'tol': 0.012377416193522874}. Best is trial 12 with value: 0.8738220325612935.\u001b[0m\n",
      "\u001b[32m[I 2022-02-23 09:47:51,628]\u001b[0m Trial 16 finished with value: 0.8841409986054989 and parameters: {'epsilon': 4.768761035076646, 'max_iter': 306, 'alpha': 0.00011219473457764001, 'tol': 0.17168312542257894}. Best is trial 12 with value: 0.8738220325612935.\u001b[0m\n",
      "\u001b[32m[I 2022-02-23 09:47:52,109]\u001b[0m Trial 17 finished with value: 0.8811062975481443 and parameters: {'epsilon': 2.4753672945386773, 'max_iter': 408, 'alpha': 9.566358098657459e-05, 'tol': 0.004100886321218367}. Best is trial 12 with value: 0.8738220325612935.\u001b[0m\n",
      "\u001b[32m[I 2022-02-23 09:47:52,240]\u001b[0m Trial 18 finished with value: 0.8837248543930859 and parameters: {'epsilon': 3.851117268888551, 'max_iter': 303, 'alpha': 0.0093998072097372, 'tol': 7.972606092367271}. Best is trial 12 with value: 0.8738220325612935.\u001b[0m\n",
      "\u001b[32m[I 2022-02-23 09:47:52,477]\u001b[0m Trial 19 finished with value: 0.8777069567180869 and parameters: {'epsilon': 1.498507841660826, 'max_iter': 155, 'alpha': 0.0017666492540252424, 'tol': 0.00013563365920175974}. Best is trial 12 with value: 0.8738220325612935.\u001b[0m\n",
      "\u001b[32m[I 2022-02-23 09:47:52,749]\u001b[0m Trial 20 finished with value: 0.8856036542985998 and parameters: {'epsilon': 9.692692668473379, 'max_iter': 373, 'alpha': 0.05019664324999286, 'tol': 0.00013431143633501385}. Best is trial 12 with value: 0.8738220325612935.\u001b[0m\n",
      "\u001b[32m[I 2022-02-23 09:47:53,256]\u001b[0m Trial 21 finished with value: 0.874263956637862 and parameters: {'epsilon': 1.0514435748055198, 'max_iter': 433, 'alpha': 0.00989141194092882, 'tol': 4.100571860824407e-08}. Best is trial 12 with value: 0.8738220325612935.\u001b[0m\n",
      "\u001b[32m[I 2022-02-23 09:47:53,819]\u001b[0m Trial 22 finished with value: 0.8742362000916517 and parameters: {'epsilon': 1.0542506561279932, 'max_iter': 530, 'alpha': 0.006868471041488569, 'tol': 0.22365715270713638}. Best is trial 12 with value: 0.8738220325612935.\u001b[0m\n",
      "\u001b[32m[I 2022-02-23 09:47:54,167]\u001b[0m Trial 23 finished with value: 0.8774365634881756 and parameters: {'epsilon': 1.46135029871604, 'max_iter': 456, 'alpha': 0.0005951764639331935, 'tol': 0.0056554686470706335}. Best is trial 12 with value: 0.8738220325612935.\u001b[0m\n",
      "\u001b[32m[I 2022-02-23 09:47:54,693]\u001b[0m Trial 24 finished with value: 0.8805520760345804 and parameters: {'epsilon': 2.2856112537213993, 'max_iter': 402, 'alpha': 0.08240051863838226, 'tol': 0.06355788097038399}. Best is trial 12 with value: 0.8738220325612935.\u001b[0m\n",
      "\u001b[32m[I 2022-02-23 09:47:55,005]\u001b[0m Trial 25 finished with value: 0.8768375249855938 and parameters: {'epsilon': 1.4143406664246132, 'max_iter': 263, 'alpha': 0.013176707550773529, 'tol': 0.000649158436225884}. Best is trial 12 with value: 0.8738220325612935.\u001b[0m\n",
      "\u001b[32m[I 2022-02-23 09:47:55,451]\u001b[0m Trial 26 finished with value: 0.8735522681206876 and parameters: {'epsilon': 1.0080455301340592, 'max_iter': 309, 'alpha': 0.00018239959619309137, 'tol': 1.8971855499372778e-07}. Best is trial 26 with value: 0.8735522681206876.\u001b[0m\n",
      "\u001b[32m[I 2022-02-23 09:47:55,940]\u001b[0m Trial 27 finished with value: 0.8763946372689357 and parameters: {'epsilon': 1.3393867309048753, 'max_iter': 334, 'alpha': 0.0001855662363942275, 'tol': 1.707252919812064e-07}. Best is trial 26 with value: 0.8735522681206876.\u001b[0m\n",
      "\u001b[32m[I 2022-02-23 09:47:56,234]\u001b[0m Trial 28 finished with value: 0.8782025576542634 and parameters: {'epsilon': 1.6959419674651337, 'max_iter': 171, 'alpha': 3.204667957236528e-05, 'tol': 7.784855606340599e-05}. Best is trial 26 with value: 0.8735522681206876.\u001b[0m\n",
      "\u001b[32m[I 2022-02-23 09:47:56,516]\u001b[0m Trial 29 finished with value: 0.8794376996972139 and parameters: {'epsilon': 2.004743495125077, 'max_iter': 194, 'alpha': 0.0010757329365132663, 'tol': 7.465941176888329e-06}. Best is trial 26 with value: 0.8735522681206876.\u001b[0m\n",
      "\u001b[32m[I 2022-02-23 09:47:56,955]\u001b[0m Trial 30 finished with value: 0.8739931051214412 and parameters: {'epsilon': 1.016080155815239, 'max_iter': 279, 'alpha': 0.00026138007552027614, 'tol': 0.0025212910681520545}. Best is trial 26 with value: 0.8735522681206876.\u001b[0m\n"
     ]
    },
    {
     "name": "stderr",
     "output_type": "stream",
     "text": [
      "\u001b[32m[I 2022-02-23 09:47:57,378]\u001b[0m Trial 31 finished with value: 0.8756707429784285 and parameters: {'epsilon': 1.2245893596062833, 'max_iter': 267, 'alpha': 0.000266255232251379, 'tol': 0.0028614841973301254}. Best is trial 26 with value: 0.8735522681206876.\u001b[0m\n",
      "\u001b[32m[I 2022-02-23 09:47:57,675]\u001b[0m Trial 32 finished with value: 0.8737024087022693 and parameters: {'epsilon': 1.0207203802357203, 'max_iter': 315, 'alpha': 5.565144399060808e-05, 'tol': 0.00995542541974851}. Best is trial 26 with value: 0.8735522681206876.\u001b[0m\n",
      "\u001b[32m[I 2022-02-23 09:47:58,012]\u001b[0m Trial 33 finished with value: 0.8756087978845599 and parameters: {'epsilon': 1.2355147757019231, 'max_iter': 333, 'alpha': 1.6907310494413644e-06, 'tol': 0.016690702718170025}. Best is trial 26 with value: 0.8735522681206876.\u001b[0m\n",
      "\u001b[32m[I 2022-02-23 09:47:58,361]\u001b[0m Trial 34 finished with value: 0.8733876177696941 and parameters: {'epsilon': 1.002891720544011, 'max_iter': 231, 'alpha': 6.174547850091551e-06, 'tol': 0.8794366005069683}. Best is trial 34 with value: 0.8733876177696941.\u001b[0m\n",
      "\u001b[32m[I 2022-02-23 09:47:58,578]\u001b[0m Trial 35 finished with value: 0.8783388664111299 and parameters: {'epsilon': 1.6559998083313074, 'max_iter': 220, 'alpha': 5.016590345013251e-06, 'tol': 1.8528993804527742}. Best is trial 34 with value: 0.8733876177696941.\u001b[0m\n",
      "\u001b[32m[I 2022-02-23 09:47:58,737]\u001b[0m Trial 36 finished with value: 0.874996554154496 and parameters: {'epsilon': 1.1712075441595038, 'max_iter': 104, 'alpha': 3.442681005310808e-05, 'tol': 1.1186659858136603}. Best is trial 34 with value: 0.8733876177696941.\u001b[0m\n",
      "\u001b[32m[I 2022-02-23 09:47:59,027]\u001b[0m Trial 37 finished with value: 0.8761125511299047 and parameters: {'epsilon': 1.2643708409883263, 'max_iter': 401, 'alpha': 8.016698250537625e-06, 'tol': 9.77865246135001}. Best is trial 34 with value: 0.8733876177696941.\u001b[0m\n",
      "\u001b[32m[I 2022-02-23 09:47:59,525]\u001b[0m Trial 38 finished with value: 0.8744415822658538 and parameters: {'epsilon': 1.1174884086296635, 'max_iter': 332, 'alpha': 3.6486087494991328e-06, 'tol': 0.08943904928764182}. Best is trial 34 with value: 0.8733876177696941.\u001b[0m\n",
      "\u001b[32m[I 2022-02-23 09:47:59,831]\u001b[0m Trial 39 finished with value: 0.8762152538164402 and parameters: {'epsilon': 1.3187999174538845, 'max_iter': 194, 'alpha': 3.0236128957848255e-05, 'tol': 0.3047074914638129}. Best is trial 34 with value: 0.8733876177696941.\u001b[0m\n",
      "\u001b[32m[I 2022-02-23 09:48:00,191]\u001b[0m Trial 40 finished with value: 0.877997144978047 and parameters: {'epsilon': 1.670898396418633, 'max_iter': 230, 'alpha': 1.05535657064747e-06, 'tol': 2.886084175782379e-05}. Best is trial 34 with value: 0.8733876177696941.\u001b[0m\n",
      "\u001b[32m[I 2022-02-23 09:48:00,533]\u001b[0m Trial 41 finished with value: 0.8735705653685341 and parameters: {'epsilon': 1.002720125214947, 'max_iter': 289, 'alpha': 7.614189338280575e-05, 'tol': 0.010968083005511442}. Best is trial 34 with value: 0.8733876177696941.\u001b[0m\n",
      "\u001b[32m[I 2022-02-23 09:48:00,752]\u001b[0m Trial 42 finished with value: 0.8748938183447323 and parameters: {'epsilon': 1.153846977925175, 'max_iter': 300, 'alpha': 7.512324973045559e-05, 'tol': 0.0009058525669406025}. Best is trial 34 with value: 0.8733876177696941.\u001b[0m\n",
      "\u001b[32m[I 2022-02-23 09:48:01,239]\u001b[0m Trial 43 finished with value: 0.8749849390698605 and parameters: {'epsilon': 1.132887937814641, 'max_iter': 360, 'alpha': 1.8565475157804337e-05, 'tol': 0.0002970897299481476}. Best is trial 34 with value: 0.8733876177696941.\u001b[0m\n",
      "\u001b[32m[I 2022-02-23 09:48:01,596]\u001b[0m Trial 44 finished with value: 0.876963431377844 and parameters: {'epsilon': 1.3835186290141552, 'max_iter': 250, 'alpha': 4.2830761653556565e-05, 'tol': 0.6275431962727859}. Best is trial 34 with value: 0.8733876177696941.\u001b[0m\n",
      "\u001b[32m[I 2022-02-23 09:48:02,164]\u001b[0m Trial 45 finished with value: 0.8747311578029385 and parameters: {'epsilon': 1.12331587114129, 'max_iter': 350, 'alpha': 7.516760802175665e-06, 'tol': 0.011608162896744312}. Best is trial 34 with value: 0.8733876177696941.\u001b[0m\n",
      "\u001b[32m[I 2022-02-23 09:48:02,572]\u001b[0m Trial 46 finished with value: 0.8789007491582708 and parameters: {'epsilon': 1.9214943837143732, 'max_iter': 312, 'alpha': 0.00014917960068677586, 'tol': 0.10711068632247156}. Best is trial 34 with value: 0.8733876177696941.\u001b[0m\n",
      "\u001b[32m[I 2022-02-23 09:48:02,962]\u001b[0m Trial 47 finished with value: 0.8741135091719077 and parameters: {'epsilon': 1.0209415408929463, 'max_iter': 386, 'alpha': 5.574311579549848e-05, 'tol': 0.026577984784843547}. Best is trial 34 with value: 0.8733876177696941.\u001b[0m\n",
      "\u001b[32m[I 2022-02-23 09:48:03,120]\u001b[0m Trial 48 finished with value: 0.8824624860151774 and parameters: {'epsilon': 3.4796989086076686, 'max_iter': 244, 'alpha': 0.0004958198190123214, 'tol': 6.448265477086585e-06}. Best is trial 34 with value: 0.8733876177696941.\u001b[0m\n",
      "\u001b[32m[I 2022-02-23 09:48:03,562]\u001b[0m Trial 49 finished with value: 0.8777841395421537 and parameters: {'epsilon': 1.547189141024992, 'max_iter': 289, 'alpha': 1.6477366422243884e-05, 'tol': 3.614747340069567}. Best is trial 34 with value: 0.8733876177696941.\u001b[0m\n",
      "\u001b[32m[I 2022-02-23 09:48:03,684]\u001b[0m Trial 50 finished with value: 0.885245882995412 and parameters: {'epsilon': 5.9849061102203915, 'max_iter': 198, 'alpha': 0.005106505795303897, 'tol': 3.6313681125249214e-07}. Best is trial 34 with value: 0.8733876177696941.\u001b[0m\n",
      "\u001b[32m[I 2022-02-23 09:48:04,076]\u001b[0m Trial 51 finished with value: 0.8736823381656244 and parameters: {'epsilon': 1.0016373838896508, 'max_iter': 278, 'alpha': 0.0010103669039025806, 'tol': 0.006740550766167947}. Best is trial 34 with value: 0.8733876177696941.\u001b[0m\n",
      "\u001b[32m[I 2022-02-23 09:48:04,419]\u001b[0m Trial 52 finished with value: 0.875713429846778 and parameters: {'epsilon': 1.2553086764753285, 'max_iter': 325, 'alpha': 0.0009500777505495899, 'tol': 0.005294574513293366}. Best is trial 34 with value: 0.8733876177696941.\u001b[0m\n",
      "\u001b[32m[I 2022-02-23 09:48:04,705]\u001b[0m Trial 53 finished with value: 0.87427825518501 and parameters: {'epsilon': 1.0947326421496815, 'max_iter': 276, 'alpha': 0.02423433360501781, 'tol': 0.001425435016781552}. Best is trial 34 with value: 0.8733876177696941.\u001b[0m\n",
      "\u001b[32m[I 2022-02-23 09:48:05,239]\u001b[0m Trial 54 finished with value: 0.8739115004465352 and parameters: {'epsilon': 1.0083121766944318, 'max_iter': 514, 'alpha': 7.712537231339748e-05, 'tol': 0.008907221767980098}. Best is trial 34 with value: 0.8733876177696941.\u001b[0m\n",
      "\u001b[32m[I 2022-02-23 09:48:05,977]\u001b[0m Trial 55 finished with value: 0.8755068742227169 and parameters: {'epsilon': 1.2000963842260828, 'max_iter': 437, 'alpha': 0.003319333732273861, 'tol': 0.00035188851505254734}. Best is trial 34 with value: 0.8733876177696941.\u001b[0m\n",
      "\u001b[32m[I 2022-02-23 09:48:06,707]\u001b[0m Trial 56 finished with value: 0.8766183664531894 and parameters: {'epsilon': 1.3453824733072526, 'max_iter': 600, 'alpha': 0.0007666438969344311, 'tol': 0.027423325495201885}. Best is trial 34 with value: 0.8733876177696941.\u001b[0m\n",
      "\u001b[32m[I 2022-02-23 09:48:06,983]\u001b[0m Trial 57 finished with value: 0.8749737902711979 and parameters: {'epsilon': 1.1023622467985852, 'max_iter': 241, 'alpha': 0.00015919175724322354, 'tol': 0.04028468756883181}. Best is trial 34 with value: 0.8733876177696941.\u001b[0m\n",
      "\u001b[32m[I 2022-02-23 09:48:07,333]\u001b[0m Trial 58 finished with value: 0.877620320995204 and parameters: {'epsilon': 1.5326542901317928, 'max_iter': 312, 'alpha': 0.0013593769341774618, 'tol': 0.4598094496902984}. Best is trial 34 with value: 0.8733876177696941.\u001b[0m\n",
      "\u001b[32m[I 2022-02-23 09:48:07,617]\u001b[0m Trial 59 finished with value: 0.8736055317296398 and parameters: {'epsilon': 1.0083113572465812, 'max_iter': 207, 'alpha': 0.000407822878631941, 'tol': 0.1532014239848576}. Best is trial 34 with value: 0.8733876177696941.\u001b[0m\n",
      "\u001b[32m[I 2022-02-23 09:48:07,823]\u001b[0m Trial 60 finished with value: 0.8767426747396545 and parameters: {'epsilon': 1.3080885174205883, 'max_iter': 126, 'alpha': 0.00040386905804616955, 'tol': 0.18369863235581121}. Best is trial 34 with value: 0.8733876177696941.\u001b[0m\n",
      "\u001b[32m[I 2022-02-23 09:48:08,152]\u001b[0m Trial 61 finished with value: 0.8746811066371668 and parameters: {'epsilon': 1.0788212790326552, 'max_iter': 200, 'alpha': 0.000265891487848202, 'tol': 0.08777253349577306}. Best is trial 34 with value: 0.8733876177696941.\u001b[0m\n"
     ]
    },
    {
     "name": "stderr",
     "output_type": "stream",
     "text": [
      "\u001b[32m[I 2022-02-23 09:48:08,404]\u001b[0m Trial 62 finished with value: 0.8740306304464454 and parameters: {'epsilon': 1.0127490460644015, 'max_iter': 178, 'alpha': 0.0022732197507359746, 'tol': 1.1052449161733264}. Best is trial 34 with value: 0.8733876177696941.\u001b[0m\n",
      "\u001b[32m[I 2022-02-23 09:48:08,615]\u001b[0m Trial 63 finished with value: 0.875427211037716 and parameters: {'epsilon': 1.1738405980053166, 'max_iter': 213, 'alpha': 0.00012091959751345612, 'tol': 3.6076882216540893}. Best is trial 34 with value: 0.8733876177696941.\u001b[0m\n",
      "\u001b[32m[I 2022-02-23 09:48:08,930]\u001b[0m Trial 64 finished with value: 0.8736536140907969 and parameters: {'epsilon': 1.0103070899896238, 'max_iter': 264, 'alpha': 2.216392937882947e-05, 'tol': 0.0022618650691552757}. Best is trial 34 with value: 0.8733876177696941.\u001b[0m\n",
      "\u001b[32m[I 2022-02-23 09:48:09,302]\u001b[0m Trial 65 finished with value: 0.8743477500021669 and parameters: {'epsilon': 1.085312378834003, 'max_iter': 261, 'alpha': 3.066267348646113e-06, 'tol': 0.0016077681451273581}. Best is trial 34 with value: 0.8733876177696941.\u001b[0m\n",
      "\u001b[32m[I 2022-02-23 09:48:09,568]\u001b[0m Trial 66 finished with value: 0.88167964614733 and parameters: {'epsilon': 2.8690357934531305, 'max_iter': 294, 'alpha': 2.6105590009280827e-05, 'tol': 0.0073281142813460005}. Best is trial 34 with value: 0.8733876177696941.\u001b[0m\n",
      "\u001b[32m[I 2022-02-23 09:48:09,742]\u001b[0m Trial 67 finished with value: 0.8773311852295755 and parameters: {'epsilon': 1.4045616881134098, 'max_iter': 230, 'alpha': 1.1237872793086667e-05, 'tol': 6.134028840286125e-08}. Best is trial 34 with value: 0.8733876177696941.\u001b[0m\n",
      "\u001b[32m[I 2022-02-23 09:48:10,124]\u001b[0m Trial 68 finished with value: 0.8737873722859985 and parameters: {'epsilon': 1.0012907995938374, 'max_iter': 275, 'alpha': 5.872320183658129e-05, 'tol': 0.002727958884863681}. Best is trial 34 with value: 0.8733876177696941.\u001b[0m\n",
      "\u001b[32m[I 2022-02-23 09:48:10,545]\u001b[0m Trial 69 finished with value: 0.8758553312751658 and parameters: {'epsilon': 1.2396460224762458, 'max_iter': 347, 'alpha': 2.2662530658001513e-05, 'tol': 2.0557845494061625e-06}. Best is trial 34 with value: 0.8733876177696941.\u001b[0m\n",
      "\u001b[32m[I 2022-02-23 09:48:10,906]\u001b[0m Trial 70 finished with value: 0.8747468303922777 and parameters: {'epsilon': 1.1829338089844477, 'max_iter': 319, 'alpha': 1.1057263512669085e-05, 'tol': 0.0003044162241914043}. Best is trial 34 with value: 0.8733876177696941.\u001b[0m\n",
      "\u001b[32m[I 2022-02-23 09:48:11,221]\u001b[0m Trial 71 finished with value: 0.8742203839441205 and parameters: {'epsilon': 1.0731157458680691, 'max_iter': 268, 'alpha': 4.866712738123565e-05, 'tol': 0.0032772745285640377}. Best is trial 34 with value: 0.8733876177696941.\u001b[0m\n",
      "\u001b[32m[I 2022-02-23 09:48:11,556]\u001b[0m Trial 72 finished with value: 0.8739784555399781 and parameters: {'epsilon': 1.0101739099305822, 'max_iter': 288, 'alpha': 7.525453484346435e-05, 'tol': 0.01420910999508187}. Best is trial 34 with value: 0.8733876177696941.\u001b[0m\n",
      "\u001b[32m[I 2022-02-23 09:48:11,910]\u001b[0m Trial 73 finished with value: 0.8745025801203558 and parameters: {'epsilon': 1.136705120355947, 'max_iter': 246, 'alpha': 0.00021560391224958447, 'tol': 1.0202975649786736e-08}. Best is trial 34 with value: 0.8733876177696941.\u001b[0m\n",
      "\u001b[32m[I 2022-02-23 09:48:12,367]\u001b[0m Trial 74 finished with value: 0.8737786779694323 and parameters: {'epsilon': 1.005650230713166, 'max_iter': 276, 'alpha': 0.00010477357534727631, 'tol': 0.0005590012184326206}. Best is trial 34 with value: 0.8733876177696941.\u001b[0m\n",
      "\u001b[32m[I 2022-02-23 09:48:12,627]\u001b[0m Trial 75 finished with value: 0.8754163643252916 and parameters: {'epsilon': 1.270977823328759, 'max_iter': 171, 'alpha': 0.00031643675321165653, 'tol': 2.6859400032772713e-05}. Best is trial 34 with value: 0.8733876177696941.\u001b[0m\n",
      "\u001b[32m[I 2022-02-23 09:48:12,837]\u001b[0m Trial 76 finished with value: 0.874574505412983 and parameters: {'epsilon': 1.076309175541457, 'max_iter': 211, 'alpha': 0.00010875468241553983, 'tol': 0.0006814784204616413}. Best is trial 34 with value: 0.8733876177696941.\u001b[0m\n",
      "\u001b[32m[I 2022-02-23 09:48:13,115]\u001b[0m Trial 77 finished with value: 0.8749137950479938 and parameters: {'epsilon': 1.1482394729031158, 'max_iter': 302, 'alpha': 0.0006857395405819207, 'tol': 0.0004974884780151801}. Best is trial 34 with value: 0.8733876177696941.\u001b[0m\n",
      "\u001b[32m[I 2022-02-23 09:48:13,526]\u001b[0m Trial 78 finished with value: 0.877131998413323 and parameters: {'epsilon': 1.4264682410678993, 'max_iter': 345, 'alpha': 0.0004213454666227853, 'tol': 0.0014675509560597177}. Best is trial 34 with value: 0.8733876177696941.\u001b[0m\n",
      "\u001b[32m[I 2022-02-23 09:48:13,826]\u001b[0m Trial 79 finished with value: 0.8754155305065294 and parameters: {'epsilon': 1.2130150265146846, 'max_iter': 231, 'alpha': 5.878690731346912e-06, 'tol': 0.00015005210121719965}. Best is trial 34 with value: 0.8733876177696941.\u001b[0m\n",
      "\u001b[32m[I 2022-02-23 09:48:14,190]\u001b[0m Trial 80 finished with value: 0.8839027363419505 and parameters: {'epsilon': 4.451640231042472, 'max_iter': 379, 'alpha': 3.935431213183487e-05, 'tol': 0.045892978111389864}. Best is trial 34 with value: 0.8733876177696941.\u001b[0m\n",
      "\u001b[32m[I 2022-02-23 09:48:14,355]\u001b[0m Trial 81 finished with value: 0.8733380275636682 and parameters: {'epsilon': 1.0015508331730387, 'max_iter': 266, 'alpha': 5.574115232321828e-05, 'tol': 0.004011372026408464}. Best is trial 81 with value: 0.8733380275636682.\u001b[0m\n",
      "\u001b[32m[I 2022-02-23 09:48:14,650]\u001b[0m Trial 82 finished with value: 0.8745343640646612 and parameters: {'epsilon': 1.0839667168241096, 'max_iter': 260, 'alpha': 0.0001354915956919024, 'tol': 0.0047535171101122315}. Best is trial 81 with value: 0.8733380275636682.\u001b[0m\n",
      "\u001b[32m[I 2022-02-23 09:48:14,858]\u001b[0m Trial 83 finished with value: 0.880235532899519 and parameters: {'epsilon': 2.22500700638262, 'max_iter': 281, 'alpha': 0.00018779164389637137, 'tol': 0.0020102003939029287}. Best is trial 81 with value: 0.8733380275636682.\u001b[0m\n",
      "\u001b[32m[I 2022-02-23 09:48:15,131]\u001b[0m Trial 84 finished with value: 0.874116618740282 and parameters: {'epsilon': 1.0641789224064222, 'max_iter': 250, 'alpha': 7.596865888689736e-05, 'tol': 0.00829046678620512}. Best is trial 81 with value: 0.8733380275636682.\u001b[0m\n",
      "\u001b[32m[I 2022-02-23 09:48:15,328]\u001b[0m Trial 85 finished with value: 0.8762899914578065 and parameters: {'epsilon': 1.3084879280377595, 'max_iter': 322, 'alpha': 1.355937418453123e-05, 'tol': 0.020343846961563567}. Best is trial 81 with value: 0.8733380275636682.\u001b[0m\n",
      "\u001b[32m[I 2022-02-23 09:48:15,569]\u001b[0m Trial 86 finished with value: 0.8753563809573465 and parameters: {'epsilon': 1.1635782738939067, 'max_iter': 222, 'alpha': 1.8569936182904366e-05, 'tol': 0.0009387341762162811}. Best is trial 81 with value: 0.8733380275636682.\u001b[0m\n",
      "\u001b[32m[I 2022-02-23 09:48:15,751]\u001b[0m Trial 87 finished with value: 0.8737051538813331 and parameters: {'epsilon': 1.0026573020786067, 'max_iter': 294, 'alpha': 5.9208739087487195e-05, 'tol': 4.89685526264888e-05}. Best is trial 81 with value: 0.8733380275636682.\u001b[0m\n",
      "\u001b[32m[I 2022-02-23 09:48:15,993]\u001b[0m Trial 88 finished with value: 0.874331848616902 and parameters: {'epsilon': 1.0689247447401002, 'max_iter': 303, 'alpha': 5.550495149205888e-05, 'tol': 1.4056200387573997e-06}. Best is trial 81 with value: 0.8733380275636682.\u001b[0m\n",
      "\u001b[32m[I 2022-02-23 09:48:16,238]\u001b[0m Trial 89 finished with value: 0.8756100907765756 and parameters: {'epsilon': 1.2226301359771035, 'max_iter': 336, 'alpha': 2.789302267202081e-05, 'tol': 2.921160383073692e-06}. Best is trial 81 with value: 0.8733380275636682.\u001b[0m\n",
      "\u001b[32m[I 2022-02-23 09:48:16,478]\u001b[0m Trial 90 finished with value: 0.8746892749293653 and parameters: {'epsilon': 1.1154195514885177, 'max_iter': 360, 'alpha': 4.169934598562719e-05, 'tol': 0.13269943146431132}. Best is trial 81 with value: 0.8733380275636682.\u001b[0m\n",
      "\u001b[32m[I 2022-02-23 09:48:16,773]\u001b[0m Trial 91 finished with value: 0.8740134798840308 and parameters: {'epsilon': 1.0426940923076815, 'max_iter': 289, 'alpha': 9.163706984018533e-05, 'tol': 4.5423030204749626e-05}. Best is trial 81 with value: 0.8733380275636682.\u001b[0m\n",
      "\u001b[32m[I 2022-02-23 09:48:17,027]\u001b[0m Trial 92 finished with value: 0.8739649106396108 and parameters: {'epsilon': 1.0258441591460083, 'max_iter': 269, 'alpha': 0.00019464783742494695, 'tol': 5.91943268743267e-07}. Best is trial 81 with value: 0.8733380275636682.\u001b[0m\n"
     ]
    },
    {
     "name": "stderr",
     "output_type": "stream",
     "text": [
      "\u001b[32m[I 2022-02-23 09:48:17,219]\u001b[0m Trial 93 finished with value: 0.8740708450054943 and parameters: {'epsilon': 1.0048123332737156, 'max_iter': 258, 'alpha': 0.00010029812020930756, 'tol': 9.89469704692553e-05}. Best is trial 81 with value: 0.8733380275636682.\u001b[0m\n",
      "\u001b[32m[I 2022-02-23 09:48:17,664]\u001b[0m Trial 94 finished with value: 0.8751013685163849 and parameters: {'epsilon': 1.1475667021559997, 'max_iter': 236, 'alpha': 0.00032142759315904407, 'tol': 1.470122749343124e-07}. Best is trial 81 with value: 0.8733380275636682.\u001b[0m\n",
      "\u001b[32m[I 2022-02-23 09:48:18,127]\u001b[0m Trial 95 finished with value: 0.8857427430396064 and parameters: {'epsilon': 7.7525730267543205, 'max_iter': 309, 'alpha': 0.001159829539834354, 'tol': 0.004094886127966323}. Best is trial 81 with value: 0.8733380275636682.\u001b[0m\n",
      "\u001b[32m[I 2022-02-23 09:48:18,402]\u001b[0m Trial 96 finished with value: 0.8743723920160232 and parameters: {'epsilon': 1.055715178749529, 'max_iter': 182, 'alpha': 2.261668870676065e-05, 'tol': 0.3243628814860335}. Best is trial 81 with value: 0.8733380275636682.\u001b[0m\n",
      "\u001b[32m[I 2022-02-23 09:48:18,734]\u001b[0m Trial 97 finished with value: 0.8761422219537189 and parameters: {'epsilon': 1.292460689125878, 'max_iter': 210, 'alpha': 9.39859227798182e-06, 'tol': 0.00021425897531577397}. Best is trial 81 with value: 0.8733380275636682.\u001b[0m\n",
      "\u001b[32m[I 2022-02-23 09:48:19,007]\u001b[0m Trial 98 finished with value: 0.8750256398278157 and parameters: {'epsilon': 1.1992911009169913, 'max_iter': 276, 'alpha': 0.0005432554788915379, 'tol': 0.96527428679386}. Best is trial 81 with value: 0.8733380275636682.\u001b[0m\n",
      "\u001b[32m[I 2022-02-23 09:48:19,124]\u001b[0m Trial 99 finished with value: 0.8745073481606955 and parameters: {'epsilon': 1.1189394186507617, 'max_iter': 156, 'alpha': 6.421017668018704e-05, 'tol': 2.666195280572822}. Best is trial 81 with value: 0.8733380275636682.\u001b[0m\n"
     ]
    }
   ],
   "source": [
    "study.optimize(HR_objective, n_trials=100)"
   ]
  },
  {
   "cell_type": "code",
   "execution_count": 45,
   "id": "a86b9fdc",
   "metadata": {},
   "outputs": [],
   "source": [
    "HR_params=study.best_params"
   ]
  },
  {
   "cell_type": "markdown",
   "id": "f23e1489",
   "metadata": {},
   "source": [
    "# 5. Bagging"
   ]
  },
  {
   "cell_type": "code",
   "execution_count": 46,
   "id": "93b0122b",
   "metadata": {},
   "outputs": [
    {
     "data": {
      "text/plain": [
       "{'tol': 2.2992787870433973}"
      ]
     },
     "execution_count": 46,
     "metadata": {},
     "output_type": "execute_result"
    }
   ],
   "source": [
    "lasso_params"
   ]
  },
  {
   "cell_type": "code",
   "execution_count": 47,
   "id": "8b7df9ad",
   "metadata": {},
   "outputs": [
    {
     "data": {
      "text/plain": [
       "{'epsilon': 1.0015508331730387,\n",
       " 'max_iter': 266,\n",
       " 'alpha': 5.574115232321828e-05,\n",
       " 'tol': 0.004011372026408464}"
      ]
     },
     "execution_count": 47,
     "metadata": {},
     "output_type": "execute_result"
    }
   ],
   "source": [
    "HR_params"
   ]
  },
  {
   "cell_type": "markdown",
   "id": "7a4b04b2",
   "metadata": {},
   "source": [
    "## Dict of models"
   ]
  },
  {
   "cell_type": "code",
   "execution_count": 48,
   "id": "227349e8",
   "metadata": {},
   "outputs": [],
   "source": [
    "models={\n",
    "    'Lasso':Lasso(**lasso_params), \n",
    "    'HR':HuberRegressor(**HR_params),\n",
    "}"
   ]
  },
  {
   "cell_type": "markdown",
   "id": "760b5ab2",
   "metadata": {},
   "source": [
    "## Fitting models with tuned parameters"
   ]
  },
  {
   "cell_type": "code",
   "execution_count": 49,
   "id": "45bcbb95",
   "metadata": {
    "scrolled": true
   },
   "outputs": [
    {
     "name": "stdout",
     "output_type": "stream",
     "text": [
      "Lasso\n",
      "HR\n"
     ]
    }
   ],
   "source": [
    "for name,model in models.items():\n",
    "    model.fit(X_train_scaled,y_train)\n",
    "    print(name)"
   ]
  },
  {
   "cell_type": "markdown",
   "id": "84ca52ac",
   "metadata": {},
   "source": [
    "## Assessing models "
   ]
  },
  {
   "cell_type": "code",
   "execution_count": 50,
   "id": "abf4eec2",
   "metadata": {},
   "outputs": [
    {
     "name": "stdout",
     "output_type": "stream",
     "text": [
      "<function r2_score at 0x000001AEFF2400D0>\n",
      "{'Lasso': 0.8653937938585319, 'HR': 0.8665182300903739}\n"
     ]
    }
   ],
   "source": [
    "from sklearn.metrics import r2_score\n",
    "r2_scores={}\n",
    "print(r2_score)\n",
    "for name,model in models.items():\n",
    "    prediction=model.predict(X_test_scaled)\n",
    "    r2_score_compute = r2_score(y_test, prediction)\n",
    "    r2_scores[name]=r2_score_compute\n",
    "\n",
    "print(r2_scores)"
   ]
  },
  {
   "cell_type": "markdown",
   "id": "39d208a5",
   "metadata": {},
   "source": [
    "## Combining predictions"
   ]
  },
  {
   "cell_type": "code",
   "execution_count": 51,
   "id": "756bf88a",
   "metadata": {},
   "outputs": [],
   "source": [
    "final_prediction=(0.5*baseline_model.predict(X_test_scaled)\n",
    "                  +0.25*models['Lasso'].predict(X_test_scaled)\n",
    "                  +0.25*models['HR'].predict(X_test_scaled)\n",
    "                 )"
   ]
  },
  {
   "cell_type": "code",
   "execution_count": 52,
   "id": "42459831",
   "metadata": {
    "scrolled": true
   },
   "outputs": [
    {
     "name": "stdout",
     "output_type": "stream",
     "text": [
      "0.9279290475957248\n"
     ]
    }
   ],
   "source": [
    "r2_score_combination = r2_score(y_test, final_prediction)\n",
    "print(r2_score_combination)"
   ]
  },
  {
   "cell_type": "code",
   "execution_count": 53,
   "id": "d0827156",
   "metadata": {},
   "outputs": [
    {
     "name": "stdout",
     "output_type": "stream",
     "text": [
      "0.9227639340740528\n"
     ]
    }
   ],
   "source": [
    "final_prediction=(0.5*baseline_model.predict(X_test_scaled)\n",
    "                  +0.5*models['HR'].predict(X_test_scaled)\n",
    "                 )\n",
    "r2_score_combination = r2_score(y_test, final_prediction)\n",
    "print(r2_score_combination)"
   ]
  },
  {
   "cell_type": "code",
   "execution_count": 54,
   "id": "9a433fb3",
   "metadata": {
    "scrolled": true
   },
   "outputs": [
    {
     "name": "stdout",
     "output_type": "stream",
     "text": [
      "0.9274634854009579\n"
     ]
    }
   ],
   "source": [
    "final_prediction=(0.5*baseline_model.predict(X_test_scaled)\n",
    "                  +0.5*models['Lasso'].predict(X_test_scaled)\n",
    "                 )\n",
    "\n",
    "r2_score_combination = r2_score(y_test, final_prediction)\n",
    "print(r2_score_combination)"
   ]
  },
  {
   "cell_type": "markdown",
   "id": "968189bd",
   "metadata": {},
   "source": [
    "We're are not able to improve our r2 score with bagging (0.95 for ExtraTreesRegressor alone). But we can anlyse our lasso model coefs more easily than the ExtraTreesRegressor which is an ensemnle method."
   ]
  },
  {
   "cell_type": "markdown",
   "id": "00f25471",
   "metadata": {},
   "source": [
    "## Plotting coeffs"
   ]
  },
  {
   "cell_type": "code",
   "execution_count": 55,
   "id": "a69b869a",
   "metadata": {
    "scrolled": false
   },
   "outputs": [
    {
     "data": {
      "text/plain": [
       "<matplotlib.legend.Legend at 0x1aeb5e5e2b0>"
      ]
     },
     "execution_count": 55,
     "metadata": {},
     "output_type": "execute_result"
    },
    {
     "data": {
      "image/png": "[encoded data removed]",
      "text/plain": [
       "<Figure size 432x360 with 1 Axes>"
      ]
     },
     "metadata": {},
     "output_type": "display_data"
    }
   ],
   "source": [
    "# Plot true weights, estimated weights, histogram of the weights, and\n",
    "# predictions with standard deviations\n",
    "lw = 2\n",
    "plt.figure(figsize=(6, 5))\n",
    "plt.title(\"Weights of the model\")\n",
    "plt.plot(models['Lasso'].coef_, color=\"lightgreen\", linewidth=lw, label=\"HR estimate\")\n",
    "# plt.plot(w, color=\"gold\", linewidth=lw, label=\"Ground truth\")\n",
    "# plt.plot(ols.coef_, color=\"navy\", linestyle=\"--\", label=\"OLS estimate\")\n",
    "plt.xlabel(\"Features\")\n",
    "plt.ylabel(\"Values of the weights\")\n",
    "plt.legend(loc=\"best\", prop=dict(size=12))"
   ]
  },
  {
   "cell_type": "markdown",
   "id": "bb87c466",
   "metadata": {},
   "source": [
    "##### We can see that a majority of coefficients are not significant. We want to visulize the main ones."
   ]
  },
  {
   "cell_type": "code",
   "execution_count": 56,
   "id": "31a3b710",
   "metadata": {},
   "outputs": [],
   "source": [
    "rounded_coef=np.round(models['Lasso'].coef_,1)"
   ]
  },
  {
   "cell_type": "code",
   "execution_count": 57,
   "id": "e31bf130",
   "metadata": {},
   "outputs": [],
   "source": [
    "rounded_coef_df=pd.DataFrame(rounded_coef,index=X_cols,columns=['coefs'])"
   ]
  },
  {
   "cell_type": "code",
   "execution_count": 58,
   "id": "b0727632",
   "metadata": {},
   "outputs": [
    {
     "data": {
      "text/html": [
       "<div>\n",
       "<style scoped>\n",
       "    .dataframe tbody tr th:only-of-type {\n",
       "        vertical-align: middle;\n",
       "    }\n",
       "\n",
       "    .dataframe tbody tr th {\n",
       "        vertical-align: top;\n",
       "    }\n",
       "\n",
       "    .dataframe thead th {\n",
       "        text-align: right;\n",
       "    }\n",
       "</style>\n",
       "<table border=\"1\" class=\"dataframe\">\n",
       "  <thead>\n",
       "    <tr style=\"text-align: right;\">\n",
       "      <th></th>\n",
       "      <th>coefs</th>\n",
       "      <th>abs_coefs</th>\n",
       "    </tr>\n",
       "  </thead>\n",
       "  <tbody>\n",
       "    <tr>\n",
       "      <th>reviewsCount</th>\n",
       "      <td>-9.2</td>\n",
       "      <td>9.2</td>\n",
       "    </tr>\n",
       "    <tr>\n",
       "      <th>lat</th>\n",
       "      <td>-8.5</td>\n",
       "      <td>8.5</td>\n",
       "    </tr>\n",
       "    <tr>\n",
       "      <th>personCapacity</th>\n",
       "      <td>64.7</td>\n",
       "      <td>64.7</td>\n",
       "    </tr>\n",
       "    <tr>\n",
       "      <th>num_chambres</th>\n",
       "      <td>7.5</td>\n",
       "      <td>7.5</td>\n",
       "    </tr>\n",
       "    <tr>\n",
       "      <th>num_lits</th>\n",
       "      <td>-3.1</td>\n",
       "      <td>3.1</td>\n",
       "    </tr>\n",
       "    <tr>\n",
       "      <th>num_sdb</th>\n",
       "      <td>13.7</td>\n",
       "      <td>13.7</td>\n",
       "    </tr>\n",
       "    <tr>\n",
       "      <th>num_amenities</th>\n",
       "      <td>6.5</td>\n",
       "      <td>6.5</td>\n",
       "    </tr>\n",
       "    <tr>\n",
       "      <th>pictureCount</th>\n",
       "      <td>4.5</td>\n",
       "      <td>4.5</td>\n",
       "    </tr>\n",
       "    <tr>\n",
       "      <th>valueRating</th>\n",
       "      <td>-4.4</td>\n",
       "      <td>4.4</td>\n",
       "    </tr>\n",
       "    <tr>\n",
       "      <th>is_SuperHost</th>\n",
       "      <td>4.9</td>\n",
       "      <td>4.9</td>\n",
       "    </tr>\n",
       "    <tr>\n",
       "      <th>price_per_pers</th>\n",
       "      <td>3.1</td>\n",
       "      <td>3.1</td>\n",
       "    </tr>\n",
       "    <tr>\n",
       "      <th>housing_Type_ logement résidentiel</th>\n",
       "      <td>-7.4</td>\n",
       "      <td>7.4</td>\n",
       "    </tr>\n",
       "    <tr>\n",
       "      <th>housing_Type_Chambre privée</th>\n",
       "      <td>7.6</td>\n",
       "      <td>7.6</td>\n",
       "    </tr>\n",
       "  </tbody>\n",
       "</table>\n",
       "</div>"
      ],
      "text/plain": [
       "                                    coefs  abs_coefs\n",
       "reviewsCount                         -9.2        9.2\n",
       "lat                                  -8.5        8.5\n",
       "personCapacity                       64.7       64.7\n",
       "num_chambres                          7.5        7.5\n",
       "num_lits                             -3.1        3.1\n",
       "num_sdb                              13.7       13.7\n",
       "num_amenities                         6.5        6.5\n",
       "pictureCount                          4.5        4.5\n",
       "valueRating                          -4.4        4.4\n",
       "is_SuperHost                          4.9        4.9\n",
       "price_per_pers                        3.1        3.1\n",
       "housing_Type_ logement résidentiel   -7.4        7.4\n",
       "housing_Type_Chambre privée           7.6        7.6"
      ]
     },
     "execution_count": 58,
     "metadata": {},
     "output_type": "execute_result"
    }
   ],
   "source": [
    "rounded_coef_df['abs_coefs']=np.abs(rounded_coef_df['coefs'])\n",
    "top_coefs=rounded_coef_df[rounded_coef_df['abs_coefs']>3]\n",
    "top_coefs"
   ]
  },
  {
   "cell_type": "markdown",
   "id": "3961e73f",
   "metadata": {},
   "source": [
    "##### Insights from coefs:\n",
    "\n",
    "- As expected the capacity is the main driver for price (along with and correlated with the number of bedrooms and bathrooms).\n",
    "\n",
    "- Being a superhost and displaying many pictures also seem to reassure guests and drive price up. \n",
    "\n",
    "- What's more surprising is that latitude is negatively correlated (south is cheaper). But longitude is not significant whereas the west is the touristic part of the Island. Purchasing a house east could be a good opportunity (less expansive but rented at the same price)\n",
    "\n",
    "- As expected number of reviews is negatively correlated to price as lower price drive occupancy. Same thing with value rating that confirms that listings with high value ratings are probably a bit underpriced. "
   ]
  },
  {
   "cell_type": "markdown",
   "id": "79b9cc5a",
   "metadata": {},
   "source": [
    "**As a conclusion**, this algorithm could be a good start to evaluate the price or set the price of ones' listing."
   ]
  }
 ],
 "metadata": {
  "kernelspec": {
   "display_name": "Python 3 (ipykernel)",
   "language": "python",
   "name": "python3"
  },
  "language_info": {
   "codemirror_mode": {
    "name": "ipython",
    "version": 3
   },
   "file_extension": ".py",
   "mimetype": "text/x-python",
   "name": "python",
   "nbconvert_exporter": "python",
   "pygments_lexer": "ipython3",
   "version": "3.9.10"
  }
 },
 "nbformat": 4,
 "nbformat_minor": 5
}
